{
 "cells": [
  {
   "cell_type": "markdown",
   "id": "e113f2c5",
   "metadata": {},
   "source": [
    "<i> Multiple Linear Regression Assignment | DS-C33</i>\n",
    "\n",
    "---\n",
    "\n",
    "# Bike Sharing Case Study\n",
    "<i>Build a multiple linear regression model for the prediction of demand for shared bikes</i>\n",
    "\n",
    "---\n",
    "Submitted By: [Bhanu Pratap Singh](https://www.linkedin.com/in/bpst/)"
   ]
  },
  {
   "cell_type": "markdown",
   "id": "f130068c",
   "metadata": {},
   "source": [
    "## Problem Statement\n",
    "\n",
    "A bike-sharing system is a service in which bikes are made available for shared use to individuals on a short term basis for a price or free. Many bike share systems allow people to borrow a bike from a \"dock\" which is usually computer-controlled wherein the user enters the payment information, and the system unlocks it. This bike can then be returned to another dock belonging to the same system.\n",
    "\n",
    "\n",
    "A US bike-sharing provider `BoomBikes` has recently suffered considerable dips in their revenues due to the ongoing Corona pandemic. The company is finding it very difficult to sustain in the current market scenario. So, it has decided to come up with a mindful business plan to be able to `accelerate its revenue` as soon as the ongoing lockdown comes to an end, and the economy restores to a healthy state. \n",
    "\n",
    "\n",
    "In such an attempt, BoomBikes aspires to `understand the demand for shared bikes` among the people after this ongoing quarantine situation ends across the nation due to Covid-19. They have planned this to prepare themselves to cater to the people's needs once the situation gets better all around and `stand out from other service providers and make huge profits`.\n",
    "\n",
    "\n",
    "They have contracted a consulting company to understand the factors on which the demand for these shared bikes depends. Specifically, they want to understand the factors affecting the demand for these shared bikes in the American market. The company wants to know:\n",
    "- Which variables are significant in predicting the demand for shared bikes.\n",
    "- How well those variables describe the bike demands\n",
    "\n",
    "Based on various `meteorological surveys and people's styles`, the service provider firm has gathered a large dataset on `daily bike demands` across the American market based on some factors. "
   ]
  },
  {
   "cell_type": "markdown",
   "id": "617744dd",
   "metadata": {},
   "source": [
    "### Reading and Understanding the Data"
   ]
  },
  {
   "cell_type": "code",
   "execution_count": 1,
   "id": "ad24da5f",
   "metadata": {},
   "outputs": [],
   "source": [
    "# Importing all required packages\n",
    "import pandas as pd\n",
    "import numpy as np\n",
    "from datetime import date\n",
    "\n",
    "# For visualisation\n",
    "import seaborn as sns\n",
    "import matplotlib.pyplot as plt\n",
    "\n",
    "# Train Test Split\n",
    "from sklearn.model_selection import train_test_split\n",
    "\n",
    "# Scaling\n",
    "from sklearn.preprocessing import MinMaxScaler\n",
    "\n",
    "# Modeling\n",
    "import statsmodels.api as sm\n",
    "\n",
    "# Regression packages\n",
    "import statsmodels.api as sm\n",
    "from statsmodels.stats.outliers_influence import variance_inflation_factor\n",
    "\n",
    "# Scores\n",
    "from sklearn.metrics import mean_squared_error\n",
    "from sklearn.metrics import r2_score\n",
    "\n",
    "# Ignore warnings\n",
    "import warnings\n",
    "warnings.filterwarnings('ignore')"
   ]
  },
  {
   "cell_type": "code",
   "execution_count": 2,
   "id": "427e941f",
   "metadata": {},
   "outputs": [
    {
     "data": {
      "text/plain": [
       "(730, 16)"
      ]
     },
     "execution_count": 2,
     "metadata": {},
     "output_type": "execute_result"
    }
   ],
   "source": [
    "# Importing dataset\n",
    "df = pd.read_csv('day.csv')\n",
    "df.shape"
   ]
  },
  {
   "cell_type": "code",
   "execution_count": 3,
   "id": "6745c2b6",
   "metadata": {},
   "outputs": [
    {
     "data": {
      "text/html": [
       "<div>\n",
       "<style scoped>\n",
       "    .dataframe tbody tr th:only-of-type {\n",
       "        vertical-align: middle;\n",
       "    }\n",
       "\n",
       "    .dataframe tbody tr th {\n",
       "        vertical-align: top;\n",
       "    }\n",
       "\n",
       "    .dataframe thead th {\n",
       "        text-align: right;\n",
       "    }\n",
       "</style>\n",
       "<table border=\"1\" class=\"dataframe\">\n",
       "  <thead>\n",
       "    <tr style=\"text-align: right;\">\n",
       "      <th></th>\n",
       "      <th>instant</th>\n",
       "      <th>dteday</th>\n",
       "      <th>season</th>\n",
       "      <th>yr</th>\n",
       "      <th>mnth</th>\n",
       "      <th>holiday</th>\n",
       "      <th>weekday</th>\n",
       "      <th>workingday</th>\n",
       "      <th>weathersit</th>\n",
       "      <th>temp</th>\n",
       "      <th>atemp</th>\n",
       "      <th>hum</th>\n",
       "      <th>windspeed</th>\n",
       "      <th>casual</th>\n",
       "      <th>registered</th>\n",
       "      <th>cnt</th>\n",
       "    </tr>\n",
       "  </thead>\n",
       "  <tbody>\n",
       "    <tr>\n",
       "      <th>0</th>\n",
       "      <td>1</td>\n",
       "      <td>01-01-2018</td>\n",
       "      <td>1</td>\n",
       "      <td>0</td>\n",
       "      <td>1</td>\n",
       "      <td>0</td>\n",
       "      <td>1</td>\n",
       "      <td>1</td>\n",
       "      <td>2</td>\n",
       "      <td>14.110847</td>\n",
       "      <td>18.18125</td>\n",
       "      <td>80.5833</td>\n",
       "      <td>10.749882</td>\n",
       "      <td>331</td>\n",
       "      <td>654</td>\n",
       "      <td>985</td>\n",
       "    </tr>\n",
       "    <tr>\n",
       "      <th>1</th>\n",
       "      <td>2</td>\n",
       "      <td>02-01-2018</td>\n",
       "      <td>1</td>\n",
       "      <td>0</td>\n",
       "      <td>1</td>\n",
       "      <td>0</td>\n",
       "      <td>2</td>\n",
       "      <td>1</td>\n",
       "      <td>2</td>\n",
       "      <td>14.902598</td>\n",
       "      <td>17.68695</td>\n",
       "      <td>69.6087</td>\n",
       "      <td>16.652113</td>\n",
       "      <td>131</td>\n",
       "      <td>670</td>\n",
       "      <td>801</td>\n",
       "    </tr>\n",
       "    <tr>\n",
       "      <th>2</th>\n",
       "      <td>3</td>\n",
       "      <td>03-01-2018</td>\n",
       "      <td>1</td>\n",
       "      <td>0</td>\n",
       "      <td>1</td>\n",
       "      <td>0</td>\n",
       "      <td>3</td>\n",
       "      <td>1</td>\n",
       "      <td>1</td>\n",
       "      <td>8.050924</td>\n",
       "      <td>9.47025</td>\n",
       "      <td>43.7273</td>\n",
       "      <td>16.636703</td>\n",
       "      <td>120</td>\n",
       "      <td>1229</td>\n",
       "      <td>1349</td>\n",
       "    </tr>\n",
       "    <tr>\n",
       "      <th>3</th>\n",
       "      <td>4</td>\n",
       "      <td>04-01-2018</td>\n",
       "      <td>1</td>\n",
       "      <td>0</td>\n",
       "      <td>1</td>\n",
       "      <td>0</td>\n",
       "      <td>4</td>\n",
       "      <td>1</td>\n",
       "      <td>1</td>\n",
       "      <td>8.200000</td>\n",
       "      <td>10.60610</td>\n",
       "      <td>59.0435</td>\n",
       "      <td>10.739832</td>\n",
       "      <td>108</td>\n",
       "      <td>1454</td>\n",
       "      <td>1562</td>\n",
       "    </tr>\n",
       "    <tr>\n",
       "      <th>4</th>\n",
       "      <td>5</td>\n",
       "      <td>05-01-2018</td>\n",
       "      <td>1</td>\n",
       "      <td>0</td>\n",
       "      <td>1</td>\n",
       "      <td>0</td>\n",
       "      <td>5</td>\n",
       "      <td>1</td>\n",
       "      <td>1</td>\n",
       "      <td>9.305237</td>\n",
       "      <td>11.46350</td>\n",
       "      <td>43.6957</td>\n",
       "      <td>12.522300</td>\n",
       "      <td>82</td>\n",
       "      <td>1518</td>\n",
       "      <td>1600</td>\n",
       "    </tr>\n",
       "  </tbody>\n",
       "</table>\n",
       "</div>"
      ],
      "text/plain": [
       "   instant      dteday  season  yr  mnth  holiday  weekday  workingday  \\\n",
       "0        1  01-01-2018       1   0     1        0        1           1   \n",
       "1        2  02-01-2018       1   0     1        0        2           1   \n",
       "2        3  03-01-2018       1   0     1        0        3           1   \n",
       "3        4  04-01-2018       1   0     1        0        4           1   \n",
       "4        5  05-01-2018       1   0     1        0        5           1   \n",
       "\n",
       "   weathersit       temp     atemp      hum  windspeed  casual  registered  \\\n",
       "0           2  14.110847  18.18125  80.5833  10.749882     331         654   \n",
       "1           2  14.902598  17.68695  69.6087  16.652113     131         670   \n",
       "2           1   8.050924   9.47025  43.7273  16.636703     120        1229   \n",
       "3           1   8.200000  10.60610  59.0435  10.739832     108        1454   \n",
       "4           1   9.305237  11.46350  43.6957  12.522300      82        1518   \n",
       "\n",
       "    cnt  \n",
       "0   985  \n",
       "1   801  \n",
       "2  1349  \n",
       "3  1562  \n",
       "4  1600  "
      ]
     },
     "execution_count": 3,
     "metadata": {},
     "output_type": "execute_result"
    }
   ],
   "source": [
    "# Let's explore the top 5 rows\n",
    "df.head()"
   ]
  },
  {
   "cell_type": "code",
   "execution_count": 4,
   "id": "2fee25c5",
   "metadata": {},
   "outputs": [
    {
     "data": {
      "text/plain": [
       "True"
      ]
     },
     "execution_count": 4,
     "metadata": {},
     "output_type": "execute_result"
    }
   ],
   "source": [
    "# Checking casual, registered and cnt column\n",
    "df['casual'][0] + df['registered'][0] == 985"
   ]
  },
  {
   "cell_type": "markdown",
   "id": "2050fc76",
   "metadata": {},
   "source": [
    "Since `cnt` is derived column i.e. sum of `casual` and `registered` columns, it does not make sense to include them as a predictor variable, so we can drop `casual` and `registered` along with `instant` column"
   ]
  },
  {
   "cell_type": "code",
   "execution_count": 5,
   "id": "fa3ac683",
   "metadata": {},
   "outputs": [
    {
     "data": {
      "text/plain": [
       "(730, 13)"
      ]
     },
     "execution_count": 5,
     "metadata": {},
     "output_type": "execute_result"
    }
   ],
   "source": [
    "# Drop columns\n",
    "df.drop(['instant','casual','registered'], axis=1, inplace=True)\n",
    "df.shape"
   ]
  },
  {
   "cell_type": "code",
   "execution_count": 6,
   "id": "dafeaeff",
   "metadata": {},
   "outputs": [
    {
     "data": {
      "text/html": [
       "<div>\n",
       "<style scoped>\n",
       "    .dataframe tbody tr th:only-of-type {\n",
       "        vertical-align: middle;\n",
       "    }\n",
       "\n",
       "    .dataframe tbody tr th {\n",
       "        vertical-align: top;\n",
       "    }\n",
       "\n",
       "    .dataframe thead th {\n",
       "        text-align: right;\n",
       "    }\n",
       "</style>\n",
       "<table border=\"1\" class=\"dataframe\">\n",
       "  <thead>\n",
       "    <tr style=\"text-align: right;\">\n",
       "      <th></th>\n",
       "      <th>dteday</th>\n",
       "      <th>season</th>\n",
       "      <th>yr</th>\n",
       "      <th>mnth</th>\n",
       "      <th>holiday</th>\n",
       "      <th>weekday</th>\n",
       "      <th>workingday</th>\n",
       "      <th>weathersit</th>\n",
       "      <th>temp</th>\n",
       "      <th>atemp</th>\n",
       "      <th>hum</th>\n",
       "      <th>windspeed</th>\n",
       "      <th>cnt</th>\n",
       "    </tr>\n",
       "  </thead>\n",
       "  <tbody>\n",
       "    <tr>\n",
       "      <th>0</th>\n",
       "      <td>01-01-2018</td>\n",
       "      <td>1</td>\n",
       "      <td>0</td>\n",
       "      <td>1</td>\n",
       "      <td>0</td>\n",
       "      <td>1</td>\n",
       "      <td>1</td>\n",
       "      <td>2</td>\n",
       "      <td>14.110847</td>\n",
       "      <td>18.18125</td>\n",
       "      <td>80.5833</td>\n",
       "      <td>10.749882</td>\n",
       "      <td>985</td>\n",
       "    </tr>\n",
       "    <tr>\n",
       "      <th>1</th>\n",
       "      <td>02-01-2018</td>\n",
       "      <td>1</td>\n",
       "      <td>0</td>\n",
       "      <td>1</td>\n",
       "      <td>0</td>\n",
       "      <td>2</td>\n",
       "      <td>1</td>\n",
       "      <td>2</td>\n",
       "      <td>14.902598</td>\n",
       "      <td>17.68695</td>\n",
       "      <td>69.6087</td>\n",
       "      <td>16.652113</td>\n",
       "      <td>801</td>\n",
       "    </tr>\n",
       "    <tr>\n",
       "      <th>2</th>\n",
       "      <td>03-01-2018</td>\n",
       "      <td>1</td>\n",
       "      <td>0</td>\n",
       "      <td>1</td>\n",
       "      <td>0</td>\n",
       "      <td>3</td>\n",
       "      <td>1</td>\n",
       "      <td>1</td>\n",
       "      <td>8.050924</td>\n",
       "      <td>9.47025</td>\n",
       "      <td>43.7273</td>\n",
       "      <td>16.636703</td>\n",
       "      <td>1349</td>\n",
       "    </tr>\n",
       "    <tr>\n",
       "      <th>3</th>\n",
       "      <td>04-01-2018</td>\n",
       "      <td>1</td>\n",
       "      <td>0</td>\n",
       "      <td>1</td>\n",
       "      <td>0</td>\n",
       "      <td>4</td>\n",
       "      <td>1</td>\n",
       "      <td>1</td>\n",
       "      <td>8.200000</td>\n",
       "      <td>10.60610</td>\n",
       "      <td>59.0435</td>\n",
       "      <td>10.739832</td>\n",
       "      <td>1562</td>\n",
       "    </tr>\n",
       "    <tr>\n",
       "      <th>4</th>\n",
       "      <td>05-01-2018</td>\n",
       "      <td>1</td>\n",
       "      <td>0</td>\n",
       "      <td>1</td>\n",
       "      <td>0</td>\n",
       "      <td>5</td>\n",
       "      <td>1</td>\n",
       "      <td>1</td>\n",
       "      <td>9.305237</td>\n",
       "      <td>11.46350</td>\n",
       "      <td>43.6957</td>\n",
       "      <td>12.522300</td>\n",
       "      <td>1600</td>\n",
       "    </tr>\n",
       "  </tbody>\n",
       "</table>\n",
       "</div>"
      ],
      "text/plain": [
       "       dteday  season  yr  mnth  holiday  weekday  workingday  weathersit  \\\n",
       "0  01-01-2018       1   0     1        0        1           1           2   \n",
       "1  02-01-2018       1   0     1        0        2           1           2   \n",
       "2  03-01-2018       1   0     1        0        3           1           1   \n",
       "3  04-01-2018       1   0     1        0        4           1           1   \n",
       "4  05-01-2018       1   0     1        0        5           1           1   \n",
       "\n",
       "        temp     atemp      hum  windspeed   cnt  \n",
       "0  14.110847  18.18125  80.5833  10.749882   985  \n",
       "1  14.902598  17.68695  69.6087  16.652113   801  \n",
       "2   8.050924   9.47025  43.7273  16.636703  1349  \n",
       "3   8.200000  10.60610  59.0435  10.739832  1562  \n",
       "4   9.305237  11.46350  43.6957  12.522300  1600  "
      ]
     },
     "execution_count": 6,
     "metadata": {},
     "output_type": "execute_result"
    }
   ],
   "source": [
    "# Let's explore the top 5 rows\n",
    "df.head()"
   ]
  },
  {
   "cell_type": "code",
   "execution_count": 7,
   "id": "55a8cce5",
   "metadata": {},
   "outputs": [
    {
     "name": "stdout",
     "output_type": "stream",
     "text": [
      "<class 'pandas.core.frame.DataFrame'>\n",
      "RangeIndex: 730 entries, 0 to 729\n",
      "Data columns (total 13 columns):\n",
      " #   Column      Non-Null Count  Dtype  \n",
      "---  ------      --------------  -----  \n",
      " 0   dteday      730 non-null    object \n",
      " 1   season      730 non-null    int64  \n",
      " 2   yr          730 non-null    int64  \n",
      " 3   mnth        730 non-null    int64  \n",
      " 4   holiday     730 non-null    int64  \n",
      " 5   weekday     730 non-null    int64  \n",
      " 6   workingday  730 non-null    int64  \n",
      " 7   weathersit  730 non-null    int64  \n",
      " 8   temp        730 non-null    float64\n",
      " 9   atemp       730 non-null    float64\n",
      " 10  hum         730 non-null    float64\n",
      " 11  windspeed   730 non-null    float64\n",
      " 12  cnt         730 non-null    int64  \n",
      "dtypes: float64(4), int64(8), object(1)\n",
      "memory usage: 74.3+ KB\n"
     ]
    }
   ],
   "source": [
    "# Let's check for null values\n",
    "df.info()"
   ]
  },
  {
   "cell_type": "markdown",
   "id": "32a65766",
   "metadata": {},
   "source": [
    "As we can, here we don't have any null values. Also `dteday` column is of object type, let's convert into date time."
   ]
  },
  {
   "cell_type": "code",
   "execution_count": 8,
   "id": "4f1fec83",
   "metadata": {},
   "outputs": [],
   "source": [
    "# Converting dteday to Pandas datetime format\n",
    "df['dteday'] = pd.to_datetime(df['dteday'])"
   ]
  },
  {
   "cell_type": "code",
   "execution_count": 9,
   "id": "4d472635",
   "metadata": {},
   "outputs": [],
   "source": [
    "# Deriving \"days since the bike sharing started\"\n",
    "df['startday'] = date(2017, 12, 31)\n",
    "df['startday'] = pd.to_datetime(df['startday'])\n",
    "df['day'] = df['dteday'] - df['startday']\n",
    "df.drop('startday', axis=1, inplace=True)"
   ]
  },
  {
   "cell_type": "code",
   "execution_count": 10,
   "id": "38f08621",
   "metadata": {},
   "outputs": [
    {
     "data": {
      "text/html": [
       "<div>\n",
       "<style scoped>\n",
       "    .dataframe tbody tr th:only-of-type {\n",
       "        vertical-align: middle;\n",
       "    }\n",
       "\n",
       "    .dataframe tbody tr th {\n",
       "        vertical-align: top;\n",
       "    }\n",
       "\n",
       "    .dataframe thead th {\n",
       "        text-align: right;\n",
       "    }\n",
       "</style>\n",
       "<table border=\"1\" class=\"dataframe\">\n",
       "  <thead>\n",
       "    <tr style=\"text-align: right;\">\n",
       "      <th></th>\n",
       "      <th>dteday</th>\n",
       "      <th>season</th>\n",
       "      <th>yr</th>\n",
       "      <th>mnth</th>\n",
       "      <th>holiday</th>\n",
       "      <th>weekday</th>\n",
       "      <th>workingday</th>\n",
       "      <th>weathersit</th>\n",
       "      <th>temp</th>\n",
       "      <th>atemp</th>\n",
       "      <th>hum</th>\n",
       "      <th>windspeed</th>\n",
       "      <th>cnt</th>\n",
       "      <th>day</th>\n",
       "    </tr>\n",
       "  </thead>\n",
       "  <tbody>\n",
       "    <tr>\n",
       "      <th>0</th>\n",
       "      <td>2018-01-01</td>\n",
       "      <td>1</td>\n",
       "      <td>0</td>\n",
       "      <td>1</td>\n",
       "      <td>0</td>\n",
       "      <td>1</td>\n",
       "      <td>1</td>\n",
       "      <td>2</td>\n",
       "      <td>14.110847</td>\n",
       "      <td>18.18125</td>\n",
       "      <td>80.5833</td>\n",
       "      <td>10.749882</td>\n",
       "      <td>985</td>\n",
       "      <td>1 days</td>\n",
       "    </tr>\n",
       "    <tr>\n",
       "      <th>1</th>\n",
       "      <td>2018-02-01</td>\n",
       "      <td>1</td>\n",
       "      <td>0</td>\n",
       "      <td>1</td>\n",
       "      <td>0</td>\n",
       "      <td>2</td>\n",
       "      <td>1</td>\n",
       "      <td>2</td>\n",
       "      <td>14.902598</td>\n",
       "      <td>17.68695</td>\n",
       "      <td>69.6087</td>\n",
       "      <td>16.652113</td>\n",
       "      <td>801</td>\n",
       "      <td>32 days</td>\n",
       "    </tr>\n",
       "    <tr>\n",
       "      <th>2</th>\n",
       "      <td>2018-03-01</td>\n",
       "      <td>1</td>\n",
       "      <td>0</td>\n",
       "      <td>1</td>\n",
       "      <td>0</td>\n",
       "      <td>3</td>\n",
       "      <td>1</td>\n",
       "      <td>1</td>\n",
       "      <td>8.050924</td>\n",
       "      <td>9.47025</td>\n",
       "      <td>43.7273</td>\n",
       "      <td>16.636703</td>\n",
       "      <td>1349</td>\n",
       "      <td>60 days</td>\n",
       "    </tr>\n",
       "    <tr>\n",
       "      <th>3</th>\n",
       "      <td>2018-04-01</td>\n",
       "      <td>1</td>\n",
       "      <td>0</td>\n",
       "      <td>1</td>\n",
       "      <td>0</td>\n",
       "      <td>4</td>\n",
       "      <td>1</td>\n",
       "      <td>1</td>\n",
       "      <td>8.200000</td>\n",
       "      <td>10.60610</td>\n",
       "      <td>59.0435</td>\n",
       "      <td>10.739832</td>\n",
       "      <td>1562</td>\n",
       "      <td>91 days</td>\n",
       "    </tr>\n",
       "    <tr>\n",
       "      <th>4</th>\n",
       "      <td>2018-05-01</td>\n",
       "      <td>1</td>\n",
       "      <td>0</td>\n",
       "      <td>1</td>\n",
       "      <td>0</td>\n",
       "      <td>5</td>\n",
       "      <td>1</td>\n",
       "      <td>1</td>\n",
       "      <td>9.305237</td>\n",
       "      <td>11.46350</td>\n",
       "      <td>43.6957</td>\n",
       "      <td>12.522300</td>\n",
       "      <td>1600</td>\n",
       "      <td>121 days</td>\n",
       "    </tr>\n",
       "  </tbody>\n",
       "</table>\n",
       "</div>"
      ],
      "text/plain": [
       "      dteday  season  yr  mnth  holiday  weekday  workingday  weathersit  \\\n",
       "0 2018-01-01       1   0     1        0        1           1           2   \n",
       "1 2018-02-01       1   0     1        0        2           1           2   \n",
       "2 2018-03-01       1   0     1        0        3           1           1   \n",
       "3 2018-04-01       1   0     1        0        4           1           1   \n",
       "4 2018-05-01       1   0     1        0        5           1           1   \n",
       "\n",
       "        temp     atemp      hum  windspeed   cnt      day  \n",
       "0  14.110847  18.18125  80.5833  10.749882   985   1 days  \n",
       "1  14.902598  17.68695  69.6087  16.652113   801  32 days  \n",
       "2   8.050924   9.47025  43.7273  16.636703  1349  60 days  \n",
       "3   8.200000  10.60610  59.0435  10.739832  1562  91 days  \n",
       "4   9.305237  11.46350  43.6957  12.522300  1600 121 days  "
      ]
     },
     "execution_count": 10,
     "metadata": {},
     "output_type": "execute_result"
    }
   ],
   "source": [
    "# Let's explore the top 5 rows\n",
    "df.head()"
   ]
  },
  {
   "cell_type": "code",
   "execution_count": 11,
   "id": "cfe66db9",
   "metadata": {},
   "outputs": [],
   "source": [
    "# Cleaning days\n",
    "df['day'] = df['day'].astype(str)\n",
    "df['day'] = df['day'].map(lambda x: x.replace('days','').strip())\n",
    "df['day'] = df['day'].astype(int)"
   ]
  },
  {
   "cell_type": "code",
   "execution_count": 12,
   "id": "b3706ecd",
   "metadata": {},
   "outputs": [
    {
     "data": {
      "text/html": [
       "<div>\n",
       "<style scoped>\n",
       "    .dataframe tbody tr th:only-of-type {\n",
       "        vertical-align: middle;\n",
       "    }\n",
       "\n",
       "    .dataframe tbody tr th {\n",
       "        vertical-align: top;\n",
       "    }\n",
       "\n",
       "    .dataframe thead th {\n",
       "        text-align: right;\n",
       "    }\n",
       "</style>\n",
       "<table border=\"1\" class=\"dataframe\">\n",
       "  <thead>\n",
       "    <tr style=\"text-align: right;\">\n",
       "      <th></th>\n",
       "      <th>dteday</th>\n",
       "      <th>season</th>\n",
       "      <th>yr</th>\n",
       "      <th>mnth</th>\n",
       "      <th>holiday</th>\n",
       "      <th>weekday</th>\n",
       "      <th>workingday</th>\n",
       "      <th>weathersit</th>\n",
       "      <th>temp</th>\n",
       "      <th>atemp</th>\n",
       "      <th>hum</th>\n",
       "      <th>windspeed</th>\n",
       "      <th>cnt</th>\n",
       "      <th>day</th>\n",
       "    </tr>\n",
       "  </thead>\n",
       "  <tbody>\n",
       "    <tr>\n",
       "      <th>0</th>\n",
       "      <td>2018-01-01</td>\n",
       "      <td>1</td>\n",
       "      <td>0</td>\n",
       "      <td>1</td>\n",
       "      <td>0</td>\n",
       "      <td>1</td>\n",
       "      <td>1</td>\n",
       "      <td>2</td>\n",
       "      <td>14.110847</td>\n",
       "      <td>18.18125</td>\n",
       "      <td>80.5833</td>\n",
       "      <td>10.749882</td>\n",
       "      <td>985</td>\n",
       "      <td>1</td>\n",
       "    </tr>\n",
       "    <tr>\n",
       "      <th>1</th>\n",
       "      <td>2018-02-01</td>\n",
       "      <td>1</td>\n",
       "      <td>0</td>\n",
       "      <td>1</td>\n",
       "      <td>0</td>\n",
       "      <td>2</td>\n",
       "      <td>1</td>\n",
       "      <td>2</td>\n",
       "      <td>14.902598</td>\n",
       "      <td>17.68695</td>\n",
       "      <td>69.6087</td>\n",
       "      <td>16.652113</td>\n",
       "      <td>801</td>\n",
       "      <td>32</td>\n",
       "    </tr>\n",
       "    <tr>\n",
       "      <th>2</th>\n",
       "      <td>2018-03-01</td>\n",
       "      <td>1</td>\n",
       "      <td>0</td>\n",
       "      <td>1</td>\n",
       "      <td>0</td>\n",
       "      <td>3</td>\n",
       "      <td>1</td>\n",
       "      <td>1</td>\n",
       "      <td>8.050924</td>\n",
       "      <td>9.47025</td>\n",
       "      <td>43.7273</td>\n",
       "      <td>16.636703</td>\n",
       "      <td>1349</td>\n",
       "      <td>60</td>\n",
       "    </tr>\n",
       "    <tr>\n",
       "      <th>3</th>\n",
       "      <td>2018-04-01</td>\n",
       "      <td>1</td>\n",
       "      <td>0</td>\n",
       "      <td>1</td>\n",
       "      <td>0</td>\n",
       "      <td>4</td>\n",
       "      <td>1</td>\n",
       "      <td>1</td>\n",
       "      <td>8.200000</td>\n",
       "      <td>10.60610</td>\n",
       "      <td>59.0435</td>\n",
       "      <td>10.739832</td>\n",
       "      <td>1562</td>\n",
       "      <td>91</td>\n",
       "    </tr>\n",
       "    <tr>\n",
       "      <th>4</th>\n",
       "      <td>2018-05-01</td>\n",
       "      <td>1</td>\n",
       "      <td>0</td>\n",
       "      <td>1</td>\n",
       "      <td>0</td>\n",
       "      <td>5</td>\n",
       "      <td>1</td>\n",
       "      <td>1</td>\n",
       "      <td>9.305237</td>\n",
       "      <td>11.46350</td>\n",
       "      <td>43.6957</td>\n",
       "      <td>12.522300</td>\n",
       "      <td>1600</td>\n",
       "      <td>121</td>\n",
       "    </tr>\n",
       "  </tbody>\n",
       "</table>\n",
       "</div>"
      ],
      "text/plain": [
       "      dteday  season  yr  mnth  holiday  weekday  workingday  weathersit  \\\n",
       "0 2018-01-01       1   0     1        0        1           1           2   \n",
       "1 2018-02-01       1   0     1        0        2           1           2   \n",
       "2 2018-03-01       1   0     1        0        3           1           1   \n",
       "3 2018-04-01       1   0     1        0        4           1           1   \n",
       "4 2018-05-01       1   0     1        0        5           1           1   \n",
       "\n",
       "        temp     atemp      hum  windspeed   cnt  day  \n",
       "0  14.110847  18.18125  80.5833  10.749882   985    1  \n",
       "1  14.902598  17.68695  69.6087  16.652113   801   32  \n",
       "2   8.050924   9.47025  43.7273  16.636703  1349   60  \n",
       "3   8.200000  10.60610  59.0435  10.739832  1562   91  \n",
       "4   9.305237  11.46350  43.6957  12.522300  1600  121  "
      ]
     },
     "execution_count": 12,
     "metadata": {},
     "output_type": "execute_result"
    }
   ],
   "source": [
    "# Let's explore the top 5 rows\n",
    "df.head()"
   ]
  },
  {
   "cell_type": "code",
   "execution_count": 13,
   "id": "57f4ddd8",
   "metadata": {},
   "outputs": [],
   "source": [
    "# Drop dteday column\n",
    "df.drop(['dteday'], axis=1, inplace=True)"
   ]
  },
  {
   "cell_type": "code",
   "execution_count": 14,
   "id": "96f36dc5",
   "metadata": {},
   "outputs": [
    {
     "data": {
      "text/plain": [
       "fall      188\n",
       "summer    184\n",
       "spring    180\n",
       "winter    178\n",
       "Name: season, dtype: int64"
      ]
     },
     "execution_count": 14,
     "metadata": {},
     "output_type": "execute_result"
    }
   ],
   "source": [
    "# Making 'season' categories more readable -> (1:spring, 2:summer, 3:fall, 4:winter)\n",
    "df.season.replace([1,2,3,4], ['spring', 'summer', 'fall', 'winter'], inplace=True)\n",
    "df.season.value_counts()"
   ]
  },
  {
   "cell_type": "code",
   "execution_count": 15,
   "id": "aca77de0",
   "metadata": {},
   "outputs": [
    {
     "data": {
      "text/plain": [
       "clear            463\n",
       "mistcloudy       246\n",
       "lightsnowrain     21\n",
       "Name: weathersit, dtype: int64"
      ]
     },
     "execution_count": 15,
     "metadata": {},
     "output_type": "execute_result"
    }
   ],
   "source": [
    "# Making 'weathersit' more readable -> numbers are missleading, there is no order here however from numbers is seems like so\n",
    "df.weathersit.replace([1,2,3,4], ['clear', 'mistcloudy', 'lightsnowrain', 'heavysnowrain'], inplace=True)\n",
    "df.weathersit.value_counts()"
   ]
  },
  {
   "cell_type": "code",
   "execution_count": 16,
   "id": "4e4ada0f",
   "metadata": {},
   "outputs": [
    {
     "data": {
      "text/html": [
       "<div>\n",
       "<style scoped>\n",
       "    .dataframe tbody tr th:only-of-type {\n",
       "        vertical-align: middle;\n",
       "    }\n",
       "\n",
       "    .dataframe tbody tr th {\n",
       "        vertical-align: top;\n",
       "    }\n",
       "\n",
       "    .dataframe thead th {\n",
       "        text-align: right;\n",
       "    }\n",
       "</style>\n",
       "<table border=\"1\" class=\"dataframe\">\n",
       "  <thead>\n",
       "    <tr style=\"text-align: right;\">\n",
       "      <th></th>\n",
       "      <th>season</th>\n",
       "      <th>yr</th>\n",
       "      <th>mnth</th>\n",
       "      <th>holiday</th>\n",
       "      <th>weekday</th>\n",
       "      <th>workingday</th>\n",
       "      <th>weathersit</th>\n",
       "      <th>temp</th>\n",
       "      <th>atemp</th>\n",
       "      <th>hum</th>\n",
       "      <th>windspeed</th>\n",
       "      <th>cnt</th>\n",
       "      <th>day</th>\n",
       "    </tr>\n",
       "  </thead>\n",
       "  <tbody>\n",
       "    <tr>\n",
       "      <th>0</th>\n",
       "      <td>spring</td>\n",
       "      <td>0</td>\n",
       "      <td>1</td>\n",
       "      <td>0</td>\n",
       "      <td>1</td>\n",
       "      <td>1</td>\n",
       "      <td>mistcloudy</td>\n",
       "      <td>14.110847</td>\n",
       "      <td>18.18125</td>\n",
       "      <td>80.5833</td>\n",
       "      <td>10.749882</td>\n",
       "      <td>985</td>\n",
       "      <td>1</td>\n",
       "    </tr>\n",
       "    <tr>\n",
       "      <th>1</th>\n",
       "      <td>spring</td>\n",
       "      <td>0</td>\n",
       "      <td>1</td>\n",
       "      <td>0</td>\n",
       "      <td>2</td>\n",
       "      <td>1</td>\n",
       "      <td>mistcloudy</td>\n",
       "      <td>14.902598</td>\n",
       "      <td>17.68695</td>\n",
       "      <td>69.6087</td>\n",
       "      <td>16.652113</td>\n",
       "      <td>801</td>\n",
       "      <td>32</td>\n",
       "    </tr>\n",
       "    <tr>\n",
       "      <th>2</th>\n",
       "      <td>spring</td>\n",
       "      <td>0</td>\n",
       "      <td>1</td>\n",
       "      <td>0</td>\n",
       "      <td>3</td>\n",
       "      <td>1</td>\n",
       "      <td>clear</td>\n",
       "      <td>8.050924</td>\n",
       "      <td>9.47025</td>\n",
       "      <td>43.7273</td>\n",
       "      <td>16.636703</td>\n",
       "      <td>1349</td>\n",
       "      <td>60</td>\n",
       "    </tr>\n",
       "    <tr>\n",
       "      <th>3</th>\n",
       "      <td>spring</td>\n",
       "      <td>0</td>\n",
       "      <td>1</td>\n",
       "      <td>0</td>\n",
       "      <td>4</td>\n",
       "      <td>1</td>\n",
       "      <td>clear</td>\n",
       "      <td>8.200000</td>\n",
       "      <td>10.60610</td>\n",
       "      <td>59.0435</td>\n",
       "      <td>10.739832</td>\n",
       "      <td>1562</td>\n",
       "      <td>91</td>\n",
       "    </tr>\n",
       "    <tr>\n",
       "      <th>4</th>\n",
       "      <td>spring</td>\n",
       "      <td>0</td>\n",
       "      <td>1</td>\n",
       "      <td>0</td>\n",
       "      <td>5</td>\n",
       "      <td>1</td>\n",
       "      <td>clear</td>\n",
       "      <td>9.305237</td>\n",
       "      <td>11.46350</td>\n",
       "      <td>43.6957</td>\n",
       "      <td>12.522300</td>\n",
       "      <td>1600</td>\n",
       "      <td>121</td>\n",
       "    </tr>\n",
       "  </tbody>\n",
       "</table>\n",
       "</div>"
      ],
      "text/plain": [
       "   season  yr  mnth  holiday  weekday  workingday  weathersit       temp  \\\n",
       "0  spring   0     1        0        1           1  mistcloudy  14.110847   \n",
       "1  spring   0     1        0        2           1  mistcloudy  14.902598   \n",
       "2  spring   0     1        0        3           1       clear   8.050924   \n",
       "3  spring   0     1        0        4           1       clear   8.200000   \n",
       "4  spring   0     1        0        5           1       clear   9.305237   \n",
       "\n",
       "      atemp      hum  windspeed   cnt  day  \n",
       "0  18.18125  80.5833  10.749882   985    1  \n",
       "1  17.68695  69.6087  16.652113   801   32  \n",
       "2   9.47025  43.7273  16.636703  1349   60  \n",
       "3  10.60610  59.0435  10.739832  1562   91  \n",
       "4  11.46350  43.6957  12.522300  1600  121  "
      ]
     },
     "execution_count": 16,
     "metadata": {},
     "output_type": "execute_result"
    }
   ],
   "source": [
    "# Let's explore the top 5 rows\n",
    "df.head()"
   ]
  },
  {
   "cell_type": "markdown",
   "id": "0caa84a9",
   "metadata": {},
   "source": [
    "### Visualising the Data"
   ]
  },
  {
   "cell_type": "code",
   "execution_count": 17,
   "id": "32958d89",
   "metadata": {},
   "outputs": [
    {
     "data": {
      "image/png": "[encoded data removed]",
      "text/plain": [
       "<Figure size 864x432 with 1 Axes>"
      ]
     },
     "metadata": {
      "needs_background": "light"
     },
     "output_type": "display_data"
    }
   ],
   "source": [
    "# Scatter Plot (days vs cnt)\n",
    "colors = np.array([0.0, 0.0, 1.0]).reshape(1,-1)\n",
    "area = np.pi*3\n",
    "plt.figure(figsize=(12,6))\n",
    "plt.scatter(df.day, df.cnt, s=area, c=colors, alpha=0.5)\n",
    "plt.title('Days vs Count', fontsize=16)\n",
    "plt.xlabel('Days', fontsize=12)\n",
    "plt.ylabel('Count', fontsize=12)\n",
    "plt.show()"
   ]
  },
  {
   "cell_type": "markdown",
   "id": "4eca8e43",
   "metadata": {},
   "source": [
    "As per problem statement, we can clearly see a trend where first the cnt increased and then dropped (see at 700)"
   ]
  },
  {
   "cell_type": "code",
   "execution_count": 18,
   "id": "2ac1ef5c",
   "metadata": {},
   "outputs": [],
   "source": [
    "# Dropping day column\n",
    "df.drop(['day'], axis=1, inplace=True)"
   ]
  },
  {
   "cell_type": "markdown",
   "id": "41d0e12a",
   "metadata": {},
   "source": [
    "#### Visualising Numeric Variables\n",
    "Let's make a pairplot of the numeric variables"
   ]
  },
  {
   "cell_type": "code",
   "execution_count": 19,
   "id": "c54f121d",
   "metadata": {},
   "outputs": [
    {
     "data": {
      "image/png": "[encoded data removed]",
      "text/plain": [
       "<Figure size 720x180 with 4 Axes>"
      ]
     },
     "metadata": {
      "needs_background": "light"
     },
     "output_type": "display_data"
    }
   ],
   "source": [
    "# Let's plot pairplot for few columns\n",
    "sns.pairplot(data=df, x_vars=['temp','atemp','hum','windspeed'], y_vars='cnt');"
   ]
  },
  {
   "cell_type": "markdown",
   "id": "25f833cf",
   "metadata": {},
   "source": [
    "#### Visualising Categorical Variables\n",
    "\n",
    "As you might have noticed, there are a few categorical variables as well. Let's make a boxplot for some of these variables."
   ]
  },
  {
   "cell_type": "code",
   "execution_count": 20,
   "id": "70df0058",
   "metadata": {},
   "outputs": [
    {
     "data": {
      "image/png": "[encoded data removed]",
      "text/plain": [
       "<Figure size 1440x864 with 2 Axes>"
      ]
     },
     "metadata": {
      "needs_background": "light"
     },
     "output_type": "display_data"
    }
   ],
   "source": [
    "# Visualising categorical variable -> subplots\n",
    "plt.figure(figsize=(20, 12))\n",
    "plt.subplot(2, 3, 1)\n",
    "sns.boxplot(x='season', y='cnt', data=df)\n",
    "\n",
    "plt.subplot(2, 3, 2)\n",
    "sns.boxplot(x='weathersit', y='cnt', data=df)\n",
    "\n",
    "plt.show()"
   ]
  },
  {
   "cell_type": "code",
   "execution_count": 21,
   "id": "484f6028",
   "metadata": {},
   "outputs": [
    {
     "data": {
      "text/plain": [
       "1    105\n",
       "2    105\n",
       "0    104\n",
       "3    104\n",
       "4    104\n",
       "5    104\n",
       "6    104\n",
       "Name: weekday, dtype: int64"
      ]
     },
     "execution_count": 21,
     "metadata": {},
     "output_type": "execute_result"
    }
   ],
   "source": [
    "# Checking weekdays value counts\n",
    "df.weekday.value_counts()"
   ]
  },
  {
   "cell_type": "markdown",
   "id": "4e0e63a2",
   "metadata": {},
   "source": [
    "On checking with day on 1-1-2018, it came out to be `Monday`, hence concluded that weekdays are codes as mentioned below,\n",
    "* Sunday: 0\n",
    "* Monday: 1\n",
    "* Tuesday: 2\n",
    "* Wednesday: 3\n",
    "* Thrusday: 4\n",
    "* Friday: 5\n",
    "* Saturday: 6"
   ]
  },
  {
   "cell_type": "markdown",
   "id": "7632201e",
   "metadata": {},
   "source": [
    "### Data Preparation"
   ]
  },
  {
   "cell_type": "code",
   "execution_count": 22,
   "id": "db401d14",
   "metadata": {},
   "outputs": [
    {
     "data": {
      "text/html": [
       "<div>\n",
       "<style scoped>\n",
       "    .dataframe tbody tr th:only-of-type {\n",
       "        vertical-align: middle;\n",
       "    }\n",
       "\n",
       "    .dataframe tbody tr th {\n",
       "        vertical-align: top;\n",
       "    }\n",
       "\n",
       "    .dataframe thead th {\n",
       "        text-align: right;\n",
       "    }\n",
       "</style>\n",
       "<table border=\"1\" class=\"dataframe\">\n",
       "  <thead>\n",
       "    <tr style=\"text-align: right;\">\n",
       "      <th></th>\n",
       "      <th>season_spring</th>\n",
       "      <th>season_summer</th>\n",
       "      <th>season_winter</th>\n",
       "      <th>weathersit_lightsnowrain</th>\n",
       "      <th>weathersit_mistcloudy</th>\n",
       "    </tr>\n",
       "  </thead>\n",
       "  <tbody>\n",
       "    <tr>\n",
       "      <th>0</th>\n",
       "      <td>1</td>\n",
       "      <td>0</td>\n",
       "      <td>0</td>\n",
       "      <td>0</td>\n",
       "      <td>1</td>\n",
       "    </tr>\n",
       "    <tr>\n",
       "      <th>1</th>\n",
       "      <td>1</td>\n",
       "      <td>0</td>\n",
       "      <td>0</td>\n",
       "      <td>0</td>\n",
       "      <td>1</td>\n",
       "    </tr>\n",
       "    <tr>\n",
       "      <th>2</th>\n",
       "      <td>1</td>\n",
       "      <td>0</td>\n",
       "      <td>0</td>\n",
       "      <td>0</td>\n",
       "      <td>0</td>\n",
       "    </tr>\n",
       "    <tr>\n",
       "      <th>3</th>\n",
       "      <td>1</td>\n",
       "      <td>0</td>\n",
       "      <td>0</td>\n",
       "      <td>0</td>\n",
       "      <td>0</td>\n",
       "    </tr>\n",
       "    <tr>\n",
       "      <th>4</th>\n",
       "      <td>1</td>\n",
       "      <td>0</td>\n",
       "      <td>0</td>\n",
       "      <td>0</td>\n",
       "      <td>0</td>\n",
       "    </tr>\n",
       "  </tbody>\n",
       "</table>\n",
       "</div>"
      ],
      "text/plain": [
       "   season_spring  season_summer  season_winter  weathersit_lightsnowrain  \\\n",
       "0              1              0              0                         0   \n",
       "1              1              0              0                         0   \n",
       "2              1              0              0                         0   \n",
       "3              1              0              0                         0   \n",
       "4              1              0              0                         0   \n",
       "\n",
       "   weathersit_mistcloudy  \n",
       "0                      1  \n",
       "1                      1  \n",
       "2                      0  \n",
       "3                      0  \n",
       "4                      0  "
      ]
     },
     "execution_count": 22,
     "metadata": {},
     "output_type": "execute_result"
    }
   ],
   "source": [
    "# Create dummy variables\n",
    "dummyvars = pd.get_dummies(df[['season', 'weathersit']], drop_first=True)\n",
    "dummyvars.head()"
   ]
  },
  {
   "cell_type": "code",
   "execution_count": 23,
   "id": "80732062",
   "metadata": {},
   "outputs": [
    {
     "data": {
      "text/html": [
       "<div>\n",
       "<style scoped>\n",
       "    .dataframe tbody tr th:only-of-type {\n",
       "        vertical-align: middle;\n",
       "    }\n",
       "\n",
       "    .dataframe tbody tr th {\n",
       "        vertical-align: top;\n",
       "    }\n",
       "\n",
       "    .dataframe thead th {\n",
       "        text-align: right;\n",
       "    }\n",
       "</style>\n",
       "<table border=\"1\" class=\"dataframe\">\n",
       "  <thead>\n",
       "    <tr style=\"text-align: right;\">\n",
       "      <th></th>\n",
       "      <th>yr</th>\n",
       "      <th>mnth</th>\n",
       "      <th>holiday</th>\n",
       "      <th>weekday</th>\n",
       "      <th>workingday</th>\n",
       "      <th>temp</th>\n",
       "      <th>atemp</th>\n",
       "      <th>hum</th>\n",
       "      <th>windspeed</th>\n",
       "      <th>cnt</th>\n",
       "      <th>season_spring</th>\n",
       "      <th>season_summer</th>\n",
       "      <th>season_winter</th>\n",
       "      <th>weathersit_lightsnowrain</th>\n",
       "      <th>weathersit_mistcloudy</th>\n",
       "    </tr>\n",
       "  </thead>\n",
       "  <tbody>\n",
       "    <tr>\n",
       "      <th>0</th>\n",
       "      <td>0</td>\n",
       "      <td>1</td>\n",
       "      <td>0</td>\n",
       "      <td>1</td>\n",
       "      <td>1</td>\n",
       "      <td>14.110847</td>\n",
       "      <td>18.18125</td>\n",
       "      <td>80.5833</td>\n",
       "      <td>10.749882</td>\n",
       "      <td>985</td>\n",
       "      <td>1</td>\n",
       "      <td>0</td>\n",
       "      <td>0</td>\n",
       "      <td>0</td>\n",
       "      <td>1</td>\n",
       "    </tr>\n",
       "    <tr>\n",
       "      <th>1</th>\n",
       "      <td>0</td>\n",
       "      <td>1</td>\n",
       "      <td>0</td>\n",
       "      <td>2</td>\n",
       "      <td>1</td>\n",
       "      <td>14.902598</td>\n",
       "      <td>17.68695</td>\n",
       "      <td>69.6087</td>\n",
       "      <td>16.652113</td>\n",
       "      <td>801</td>\n",
       "      <td>1</td>\n",
       "      <td>0</td>\n",
       "      <td>0</td>\n",
       "      <td>0</td>\n",
       "      <td>1</td>\n",
       "    </tr>\n",
       "    <tr>\n",
       "      <th>2</th>\n",
       "      <td>0</td>\n",
       "      <td>1</td>\n",
       "      <td>0</td>\n",
       "      <td>3</td>\n",
       "      <td>1</td>\n",
       "      <td>8.050924</td>\n",
       "      <td>9.47025</td>\n",
       "      <td>43.7273</td>\n",
       "      <td>16.636703</td>\n",
       "      <td>1349</td>\n",
       "      <td>1</td>\n",
       "      <td>0</td>\n",
       "      <td>0</td>\n",
       "      <td>0</td>\n",
       "      <td>0</td>\n",
       "    </tr>\n",
       "    <tr>\n",
       "      <th>3</th>\n",
       "      <td>0</td>\n",
       "      <td>1</td>\n",
       "      <td>0</td>\n",
       "      <td>4</td>\n",
       "      <td>1</td>\n",
       "      <td>8.200000</td>\n",
       "      <td>10.60610</td>\n",
       "      <td>59.0435</td>\n",
       "      <td>10.739832</td>\n",
       "      <td>1562</td>\n",
       "      <td>1</td>\n",
       "      <td>0</td>\n",
       "      <td>0</td>\n",
       "      <td>0</td>\n",
       "      <td>0</td>\n",
       "    </tr>\n",
       "    <tr>\n",
       "      <th>4</th>\n",
       "      <td>0</td>\n",
       "      <td>1</td>\n",
       "      <td>0</td>\n",
       "      <td>5</td>\n",
       "      <td>1</td>\n",
       "      <td>9.305237</td>\n",
       "      <td>11.46350</td>\n",
       "      <td>43.6957</td>\n",
       "      <td>12.522300</td>\n",
       "      <td>1600</td>\n",
       "      <td>1</td>\n",
       "      <td>0</td>\n",
       "      <td>0</td>\n",
       "      <td>0</td>\n",
       "      <td>0</td>\n",
       "    </tr>\n",
       "  </tbody>\n",
       "</table>\n",
       "</div>"
      ],
      "text/plain": [
       "   yr  mnth  holiday  weekday  workingday       temp     atemp      hum  \\\n",
       "0   0     1        0        1           1  14.110847  18.18125  80.5833   \n",
       "1   0     1        0        2           1  14.902598  17.68695  69.6087   \n",
       "2   0     1        0        3           1   8.050924   9.47025  43.7273   \n",
       "3   0     1        0        4           1   8.200000  10.60610  59.0435   \n",
       "4   0     1        0        5           1   9.305237  11.46350  43.6957   \n",
       "\n",
       "   windspeed   cnt  season_spring  season_summer  season_winter  \\\n",
       "0  10.749882   985              1              0              0   \n",
       "1  16.652113   801              1              0              0   \n",
       "2  16.636703  1349              1              0              0   \n",
       "3  10.739832  1562              1              0              0   \n",
       "4  12.522300  1600              1              0              0   \n",
       "\n",
       "   weathersit_lightsnowrain  weathersit_mistcloudy  \n",
       "0                         0                      1  \n",
       "1                         0                      1  \n",
       "2                         0                      0  \n",
       "3                         0                      0  \n",
       "4                         0                      0  "
      ]
     },
     "execution_count": 23,
     "metadata": {},
     "output_type": "execute_result"
    }
   ],
   "source": [
    "# Combine dummyvars with dataframe\n",
    "df = pd.concat([df, dummyvars], axis=1)\n",
    "df.drop(['season', 'weathersit'], axis=1, inplace=True)\n",
    "df.head()"
   ]
  },
  {
   "cell_type": "code",
   "execution_count": 24,
   "id": "fe48e6b1",
   "metadata": {},
   "outputs": [
    {
     "data": {
      "text/html": [
       "<div>\n",
       "<style scoped>\n",
       "    .dataframe tbody tr th:only-of-type {\n",
       "        vertical-align: middle;\n",
       "    }\n",
       "\n",
       "    .dataframe tbody tr th {\n",
       "        vertical-align: top;\n",
       "    }\n",
       "\n",
       "    .dataframe thead th {\n",
       "        text-align: right;\n",
       "    }\n",
       "</style>\n",
       "<table border=\"1\" class=\"dataframe\">\n",
       "  <thead>\n",
       "    <tr style=\"text-align: right;\">\n",
       "      <th></th>\n",
       "      <th>yr</th>\n",
       "      <th>mnth</th>\n",
       "      <th>holiday</th>\n",
       "      <th>weekday</th>\n",
       "      <th>workingday</th>\n",
       "      <th>temp</th>\n",
       "      <th>atemp</th>\n",
       "      <th>hum</th>\n",
       "      <th>windspeed</th>\n",
       "      <th>cnt</th>\n",
       "      <th>seasonspring</th>\n",
       "      <th>seasonsummer</th>\n",
       "      <th>seasonwinter</th>\n",
       "      <th>weathersitlightsnowrain</th>\n",
       "      <th>weathersitmistcloudy</th>\n",
       "    </tr>\n",
       "  </thead>\n",
       "  <tbody>\n",
       "    <tr>\n",
       "      <th>0</th>\n",
       "      <td>0</td>\n",
       "      <td>1</td>\n",
       "      <td>0</td>\n",
       "      <td>1</td>\n",
       "      <td>1</td>\n",
       "      <td>14.110847</td>\n",
       "      <td>18.18125</td>\n",
       "      <td>80.5833</td>\n",
       "      <td>10.749882</td>\n",
       "      <td>985</td>\n",
       "      <td>1</td>\n",
       "      <td>0</td>\n",
       "      <td>0</td>\n",
       "      <td>0</td>\n",
       "      <td>1</td>\n",
       "    </tr>\n",
       "    <tr>\n",
       "      <th>1</th>\n",
       "      <td>0</td>\n",
       "      <td>1</td>\n",
       "      <td>0</td>\n",
       "      <td>2</td>\n",
       "      <td>1</td>\n",
       "      <td>14.902598</td>\n",
       "      <td>17.68695</td>\n",
       "      <td>69.6087</td>\n",
       "      <td>16.652113</td>\n",
       "      <td>801</td>\n",
       "      <td>1</td>\n",
       "      <td>0</td>\n",
       "      <td>0</td>\n",
       "      <td>0</td>\n",
       "      <td>1</td>\n",
       "    </tr>\n",
       "    <tr>\n",
       "      <th>2</th>\n",
       "      <td>0</td>\n",
       "      <td>1</td>\n",
       "      <td>0</td>\n",
       "      <td>3</td>\n",
       "      <td>1</td>\n",
       "      <td>8.050924</td>\n",
       "      <td>9.47025</td>\n",
       "      <td>43.7273</td>\n",
       "      <td>16.636703</td>\n",
       "      <td>1349</td>\n",
       "      <td>1</td>\n",
       "      <td>0</td>\n",
       "      <td>0</td>\n",
       "      <td>0</td>\n",
       "      <td>0</td>\n",
       "    </tr>\n",
       "    <tr>\n",
       "      <th>3</th>\n",
       "      <td>0</td>\n",
       "      <td>1</td>\n",
       "      <td>0</td>\n",
       "      <td>4</td>\n",
       "      <td>1</td>\n",
       "      <td>8.200000</td>\n",
       "      <td>10.60610</td>\n",
       "      <td>59.0435</td>\n",
       "      <td>10.739832</td>\n",
       "      <td>1562</td>\n",
       "      <td>1</td>\n",
       "      <td>0</td>\n",
       "      <td>0</td>\n",
       "      <td>0</td>\n",
       "      <td>0</td>\n",
       "    </tr>\n",
       "    <tr>\n",
       "      <th>4</th>\n",
       "      <td>0</td>\n",
       "      <td>1</td>\n",
       "      <td>0</td>\n",
       "      <td>5</td>\n",
       "      <td>1</td>\n",
       "      <td>9.305237</td>\n",
       "      <td>11.46350</td>\n",
       "      <td>43.6957</td>\n",
       "      <td>12.522300</td>\n",
       "      <td>1600</td>\n",
       "      <td>1</td>\n",
       "      <td>0</td>\n",
       "      <td>0</td>\n",
       "      <td>0</td>\n",
       "      <td>0</td>\n",
       "    </tr>\n",
       "  </tbody>\n",
       "</table>\n",
       "</div>"
      ],
      "text/plain": [
       "   yr  mnth  holiday  weekday  workingday       temp     atemp      hum  \\\n",
       "0   0     1        0        1           1  14.110847  18.18125  80.5833   \n",
       "1   0     1        0        2           1  14.902598  17.68695  69.6087   \n",
       "2   0     1        0        3           1   8.050924   9.47025  43.7273   \n",
       "3   0     1        0        4           1   8.200000  10.60610  59.0435   \n",
       "4   0     1        0        5           1   9.305237  11.46350  43.6957   \n",
       "\n",
       "   windspeed   cnt  seasonspring  seasonsummer  seasonwinter  \\\n",
       "0  10.749882   985             1             0             0   \n",
       "1  16.652113   801             1             0             0   \n",
       "2  16.636703  1349             1             0             0   \n",
       "3  10.739832  1562             1             0             0   \n",
       "4  12.522300  1600             1             0             0   \n",
       "\n",
       "   weathersitlightsnowrain  weathersitmistcloudy  \n",
       "0                        0                     1  \n",
       "1                        0                     1  \n",
       "2                        0                     0  \n",
       "3                        0                     0  \n",
       "4                        0                     0  "
      ]
     },
     "execution_count": 24,
     "metadata": {},
     "output_type": "execute_result"
    }
   ],
   "source": [
    "# Rename columns\n",
    "df.rename(columns={'weathersit_lightsnowrain': 'weathersitlightsnowrain','weathersit_mistcloudy': 'weathersitmistcloudy',\n",
    "                   'season_spring': 'seasonspring', 'season_summer': 'seasonsummer', \n",
    "                   'season_winter': 'seasonwinter'}, inplace=True)\n",
    "df.head()"
   ]
  },
  {
   "cell_type": "markdown",
   "id": "f840c085",
   "metadata": {},
   "source": [
    "### Splitting the Data into Training and Testing Sets"
   ]
  },
  {
   "cell_type": "code",
   "execution_count": 25,
   "id": "28bd655d",
   "metadata": {},
   "outputs": [
    {
     "name": "stdout",
     "output_type": "stream",
     "text": [
      "(510, 15)\n",
      "(220, 15)\n"
     ]
    }
   ],
   "source": [
    "# Train Test Split\n",
    "df_train, df_test = train_test_split(df, train_size=0.7, random_state=100)\n",
    "print(df_train.shape)\n",
    "print(df_test.shape)"
   ]
  },
  {
   "cell_type": "markdown",
   "id": "fc0142e9",
   "metadata": {},
   "source": [
    "#### Rescaling the Features\n",
    "We will use MinMax scaling"
   ]
  },
  {
   "cell_type": "code",
   "execution_count": 26,
   "id": "bf41d7e0",
   "metadata": {},
   "outputs": [],
   "source": [
    "# Create scaler\n",
    "scaler = MinMaxScaler()"
   ]
  },
  {
   "cell_type": "code",
   "execution_count": 27,
   "id": "9be13faf",
   "metadata": {},
   "outputs": [
    {
     "data": {
      "text/html": [
       "<div>\n",
       "<style scoped>\n",
       "    .dataframe tbody tr th:only-of-type {\n",
       "        vertical-align: middle;\n",
       "    }\n",
       "\n",
       "    .dataframe tbody tr th {\n",
       "        vertical-align: top;\n",
       "    }\n",
       "\n",
       "    .dataframe thead th {\n",
       "        text-align: right;\n",
       "    }\n",
       "</style>\n",
       "<table border=\"1\" class=\"dataframe\">\n",
       "  <thead>\n",
       "    <tr style=\"text-align: right;\">\n",
       "      <th></th>\n",
       "      <th>yr</th>\n",
       "      <th>mnth</th>\n",
       "      <th>holiday</th>\n",
       "      <th>weekday</th>\n",
       "      <th>workingday</th>\n",
       "      <th>temp</th>\n",
       "      <th>atemp</th>\n",
       "      <th>hum</th>\n",
       "      <th>windspeed</th>\n",
       "      <th>cnt</th>\n",
       "      <th>seasonspring</th>\n",
       "      <th>seasonsummer</th>\n",
       "      <th>seasonwinter</th>\n",
       "      <th>weathersitlightsnowrain</th>\n",
       "      <th>weathersitmistcloudy</th>\n",
       "    </tr>\n",
       "  </thead>\n",
       "  <tbody>\n",
       "    <tr>\n",
       "      <th>576</th>\n",
       "      <td>1</td>\n",
       "      <td>0.545455</td>\n",
       "      <td>0</td>\n",
       "      <td>0.500000</td>\n",
       "      <td>1</td>\n",
       "      <td>0.815169</td>\n",
       "      <td>0.766351</td>\n",
       "      <td>0.725633</td>\n",
       "      <td>0.264686</td>\n",
       "      <td>0.827658</td>\n",
       "      <td>0</td>\n",
       "      <td>0</td>\n",
       "      <td>0</td>\n",
       "      <td>0</td>\n",
       "      <td>0</td>\n",
       "    </tr>\n",
       "    <tr>\n",
       "      <th>426</th>\n",
       "      <td>1</td>\n",
       "      <td>0.181818</td>\n",
       "      <td>0</td>\n",
       "      <td>0.000000</td>\n",
       "      <td>0</td>\n",
       "      <td>0.442393</td>\n",
       "      <td>0.438975</td>\n",
       "      <td>0.640189</td>\n",
       "      <td>0.255342</td>\n",
       "      <td>0.465255</td>\n",
       "      <td>1</td>\n",
       "      <td>0</td>\n",
       "      <td>0</td>\n",
       "      <td>0</td>\n",
       "      <td>1</td>\n",
       "    </tr>\n",
       "    <tr>\n",
       "      <th>728</th>\n",
       "      <td>1</td>\n",
       "      <td>1.000000</td>\n",
       "      <td>0</td>\n",
       "      <td>0.166667</td>\n",
       "      <td>1</td>\n",
       "      <td>0.245101</td>\n",
       "      <td>0.200348</td>\n",
       "      <td>0.498067</td>\n",
       "      <td>0.663106</td>\n",
       "      <td>0.204096</td>\n",
       "      <td>1</td>\n",
       "      <td>0</td>\n",
       "      <td>0</td>\n",
       "      <td>0</td>\n",
       "      <td>0</td>\n",
       "    </tr>\n",
       "    <tr>\n",
       "      <th>482</th>\n",
       "      <td>1</td>\n",
       "      <td>0.272727</td>\n",
       "      <td>0</td>\n",
       "      <td>0.000000</td>\n",
       "      <td>0</td>\n",
       "      <td>0.395666</td>\n",
       "      <td>0.391735</td>\n",
       "      <td>0.504508</td>\n",
       "      <td>0.188475</td>\n",
       "      <td>0.482973</td>\n",
       "      <td>0</td>\n",
       "      <td>1</td>\n",
       "      <td>0</td>\n",
       "      <td>0</td>\n",
       "      <td>1</td>\n",
       "    </tr>\n",
       "    <tr>\n",
       "      <th>111</th>\n",
       "      <td>0</td>\n",
       "      <td>0.272727</td>\n",
       "      <td>0</td>\n",
       "      <td>0.000000</td>\n",
       "      <td>0</td>\n",
       "      <td>0.345824</td>\n",
       "      <td>0.318819</td>\n",
       "      <td>0.751824</td>\n",
       "      <td>0.380981</td>\n",
       "      <td>0.191095</td>\n",
       "      <td>0</td>\n",
       "      <td>1</td>\n",
       "      <td>0</td>\n",
       "      <td>0</td>\n",
       "      <td>1</td>\n",
       "    </tr>\n",
       "  </tbody>\n",
       "</table>\n",
       "</div>"
      ],
      "text/plain": [
       "     yr      mnth  holiday   weekday  workingday      temp     atemp  \\\n",
       "576   1  0.545455        0  0.500000           1  0.815169  0.766351   \n",
       "426   1  0.181818        0  0.000000           0  0.442393  0.438975   \n",
       "728   1  1.000000        0  0.166667           1  0.245101  0.200348   \n",
       "482   1  0.272727        0  0.000000           0  0.395666  0.391735   \n",
       "111   0  0.272727        0  0.000000           0  0.345824  0.318819   \n",
       "\n",
       "          hum  windspeed       cnt  seasonspring  seasonsummer  seasonwinter  \\\n",
       "576  0.725633   0.264686  0.827658             0             0             0   \n",
       "426  0.640189   0.255342  0.465255             1             0             0   \n",
       "728  0.498067   0.663106  0.204096             1             0             0   \n",
       "482  0.504508   0.188475  0.482973             0             1             0   \n",
       "111  0.751824   0.380981  0.191095             0             1             0   \n",
       "\n",
       "     weathersitlightsnowrain  weathersitmistcloudy  \n",
       "576                        0                     0  \n",
       "426                        0                     1  \n",
       "728                        0                     0  \n",
       "482                        0                     1  \n",
       "111                        0                     1  "
      ]
     },
     "execution_count": 27,
     "metadata": {},
     "output_type": "execute_result"
    }
   ],
   "source": [
    "# Scale, fit, transform train set\n",
    "# Apply scaler() to all the columns except the '1-0' and 'dummy' variables\n",
    "num_vars = ['mnth', 'weekday', 'temp', 'atemp', 'hum', 'windspeed', 'cnt']\n",
    "df_train[num_vars] = scaler.fit_transform(df_train[num_vars])\n",
    "df_train.head()"
   ]
  },
  {
   "cell_type": "code",
   "execution_count": 28,
   "id": "fe16376c",
   "metadata": {},
   "outputs": [
    {
     "data": {
      "text/html": [
       "<div>\n",
       "<style scoped>\n",
       "    .dataframe tbody tr th:only-of-type {\n",
       "        vertical-align: middle;\n",
       "    }\n",
       "\n",
       "    .dataframe tbody tr th {\n",
       "        vertical-align: top;\n",
       "    }\n",
       "\n",
       "    .dataframe thead th {\n",
       "        text-align: right;\n",
       "    }\n",
       "</style>\n",
       "<table border=\"1\" class=\"dataframe\">\n",
       "  <thead>\n",
       "    <tr style=\"text-align: right;\">\n",
       "      <th></th>\n",
       "      <th>yr</th>\n",
       "      <th>mnth</th>\n",
       "      <th>holiday</th>\n",
       "      <th>weekday</th>\n",
       "      <th>workingday</th>\n",
       "      <th>temp</th>\n",
       "      <th>atemp</th>\n",
       "      <th>hum</th>\n",
       "      <th>windspeed</th>\n",
       "      <th>cnt</th>\n",
       "      <th>seasonspring</th>\n",
       "      <th>seasonsummer</th>\n",
       "      <th>seasonwinter</th>\n",
       "      <th>weathersitlightsnowrain</th>\n",
       "      <th>weathersitmistcloudy</th>\n",
       "    </tr>\n",
       "  </thead>\n",
       "  <tbody>\n",
       "    <tr>\n",
       "      <th>184</th>\n",
       "      <td>0</td>\n",
       "      <td>0.545455</td>\n",
       "      <td>1</td>\n",
       "      <td>0.500000</td>\n",
       "      <td>0</td>\n",
       "      <td>0.831783</td>\n",
       "      <td>0.769660</td>\n",
       "      <td>0.657364</td>\n",
       "      <td>0.084219</td>\n",
       "      <td>0.692706</td>\n",
       "      <td>0</td>\n",
       "      <td>0</td>\n",
       "      <td>0</td>\n",
       "      <td>0</td>\n",
       "      <td>1</td>\n",
       "    </tr>\n",
       "    <tr>\n",
       "      <th>535</th>\n",
       "      <td>1</td>\n",
       "      <td>0.454545</td>\n",
       "      <td>0</td>\n",
       "      <td>0.666667</td>\n",
       "      <td>1</td>\n",
       "      <td>0.901354</td>\n",
       "      <td>0.842587</td>\n",
       "      <td>0.610133</td>\n",
       "      <td>0.153728</td>\n",
       "      <td>0.712034</td>\n",
       "      <td>0</td>\n",
       "      <td>1</td>\n",
       "      <td>0</td>\n",
       "      <td>0</td>\n",
       "      <td>0</td>\n",
       "    </tr>\n",
       "    <tr>\n",
       "      <th>299</th>\n",
       "      <td>0</td>\n",
       "      <td>0.818182</td>\n",
       "      <td>0</td>\n",
       "      <td>1.000000</td>\n",
       "      <td>0</td>\n",
       "      <td>0.511964</td>\n",
       "      <td>0.496145</td>\n",
       "      <td>0.837699</td>\n",
       "      <td>0.334206</td>\n",
       "      <td>0.303382</td>\n",
       "      <td>0</td>\n",
       "      <td>0</td>\n",
       "      <td>1</td>\n",
       "      <td>0</td>\n",
       "      <td>1</td>\n",
       "    </tr>\n",
       "    <tr>\n",
       "      <th>221</th>\n",
       "      <td>0</td>\n",
       "      <td>0.636364</td>\n",
       "      <td>0</td>\n",
       "      <td>0.833333</td>\n",
       "      <td>1</td>\n",
       "      <td>0.881625</td>\n",
       "      <td>0.795343</td>\n",
       "      <td>0.437098</td>\n",
       "      <td>0.339570</td>\n",
       "      <td>0.547400</td>\n",
       "      <td>0</td>\n",
       "      <td>0</td>\n",
       "      <td>0</td>\n",
       "      <td>0</td>\n",
       "      <td>0</td>\n",
       "    </tr>\n",
       "    <tr>\n",
       "      <th>152</th>\n",
       "      <td>0</td>\n",
       "      <td>0.454545</td>\n",
       "      <td>0</td>\n",
       "      <td>1.000000</td>\n",
       "      <td>0</td>\n",
       "      <td>0.817246</td>\n",
       "      <td>0.741471</td>\n",
       "      <td>0.314298</td>\n",
       "      <td>0.537414</td>\n",
       "      <td>0.569029</td>\n",
       "      <td>0</td>\n",
       "      <td>1</td>\n",
       "      <td>0</td>\n",
       "      <td>0</td>\n",
       "      <td>0</td>\n",
       "    </tr>\n",
       "  </tbody>\n",
       "</table>\n",
       "</div>"
      ],
      "text/plain": [
       "     yr      mnth  holiday   weekday  workingday      temp     atemp  \\\n",
       "184   0  0.545455        1  0.500000           0  0.831783  0.769660   \n",
       "535   1  0.454545        0  0.666667           1  0.901354  0.842587   \n",
       "299   0  0.818182        0  1.000000           0  0.511964  0.496145   \n",
       "221   0  0.636364        0  0.833333           1  0.881625  0.795343   \n",
       "152   0  0.454545        0  1.000000           0  0.817246  0.741471   \n",
       "\n",
       "          hum  windspeed       cnt  seasonspring  seasonsummer  seasonwinter  \\\n",
       "184  0.657364   0.084219  0.692706             0             0             0   \n",
       "535  0.610133   0.153728  0.712034             0             1             0   \n",
       "299  0.837699   0.334206  0.303382             0             0             1   \n",
       "221  0.437098   0.339570  0.547400             0             0             0   \n",
       "152  0.314298   0.537414  0.569029             0             1             0   \n",
       "\n",
       "     weathersitlightsnowrain  weathersitmistcloudy  \n",
       "184                        0                     1  \n",
       "535                        0                     0  \n",
       "299                        0                     1  \n",
       "221                        0                     0  \n",
       "152                        0                     0  "
      ]
     },
     "execution_count": 28,
     "metadata": {},
     "output_type": "execute_result"
    }
   ],
   "source": [
    "# Scale, transform test set\n",
    "# Apply scaler() to all the columns except the '1-0' and 'dummy' variables\n",
    "num_vars = ['mnth', 'weekday', 'temp', 'atemp', 'hum', 'windspeed', 'cnt']\n",
    "df_test[num_vars] = scaler.transform(df_test[num_vars])\n",
    "df_test.head()"
   ]
  },
  {
   "cell_type": "code",
   "execution_count": 29,
   "id": "c5177928",
   "metadata": {},
   "outputs": [
    {
     "data": {
      "image/png": "[encoded data removed]",
      "text/plain": [
       "<Figure size 1008x432 with 2 Axes>"
      ]
     },
     "metadata": {
      "needs_background": "light"
     },
     "output_type": "display_data"
    }
   ],
   "source": [
    "# Let's check the correlation coefficients to see which variables are highly correlated\n",
    "plt.figure(figsize=(14, 6))\n",
    "sns.heatmap(df_train.corr(), annot=True, cmap='YlGnBu');"
   ]
  },
  {
   "cell_type": "markdown",
   "id": "4e7f4b77",
   "metadata": {},
   "source": [
    "As we can see, `yr`, `temp` and `atemp` seems to be correlated to `cnt` the most, however `temp` and `atemp` have very high correlation `0.99`, so we will only considering `temp` as both carry same information."
   ]
  },
  {
   "cell_type": "markdown",
   "id": "92230e45",
   "metadata": {},
   "source": [
    "### Building a linear model"
   ]
  },
  {
   "cell_type": "markdown",
   "id": "c064d20f",
   "metadata": {},
   "source": [
    "#### Create Helper Functions"
   ]
  },
  {
   "cell_type": "code",
   "execution_count": 30,
   "id": "542456e7",
   "metadata": {},
   "outputs": [],
   "source": [
    "# Function to fit Ordinary Least Squares (OLS) model\n",
    "def fit_OLS(predictors):\n",
    "    # Putting feature variable to X\n",
    "    X = df_train[predictors]\n",
    "\n",
    "    # Putting response variable to y\n",
    "    y = df_train['cnt']\n",
    "    \n",
    "    # Unlike SKLearn, statsmodels don't automatically fit a constant, \n",
    "    # so you need to use the method sm.add_constant(X) in order to add a constant.\n",
    "    X_lm = sm.add_constant(X)\n",
    "    \n",
    "    # Create a fitted model\n",
    "    lm = sm.OLS(y, X_lm).fit()\n",
    "    \n",
    "    # Return model\n",
    "    return lm, X, X_lm, y"
   ]
  },
  {
   "cell_type": "code",
   "execution_count": 31,
   "id": "283517ce",
   "metadata": {},
   "outputs": [],
   "source": [
    "# Function to show VIF: Variance Inflation Factor\n",
    "def show_VIF(X):\n",
    "    vif = pd.DataFrame()\n",
    "    vif['Features'] = X.columns\n",
    "    vif['VIF'] = [variance_inflation_factor(X.values, i) for i in range(X.shape[1])]\n",
    "    vif['VIF'] = round(vif['VIF'], 2)\n",
    "    vif = vif.sort_values(by = \"VIF\", ascending = False)\n",
    "    print(vif)"
   ]
  },
  {
   "cell_type": "code",
   "execution_count": 32,
   "id": "ada99cb5",
   "metadata": {},
   "outputs": [],
   "source": [
    "# Get predictors\n",
    "get_predictors = lambda x, predictors: [predictor for predictor in predictors if predictor not in ['cnt',x]]"
   ]
  },
  {
   "cell_type": "markdown",
   "id": "b2409652",
   "metadata": {},
   "source": [
    "#### Fitting OLS Model"
   ]
  },
  {
   "cell_type": "code",
   "execution_count": 33,
   "id": "22f8e70b",
   "metadata": {},
   "outputs": [
    {
     "name": "stdout",
     "output_type": "stream",
     "text": [
      "                            OLS Regression Results                            \n",
      "==============================================================================\n",
      "Dep. Variable:                    cnt   R-squared:                       0.829\n",
      "Model:                            OLS   Adj. R-squared:                  0.824\n",
      "Method:                 Least Squares   F-statistic:                     171.5\n",
      "Date:                Tue, 26 Oct 2021   Prob (F-statistic):          1.41e-179\n",
      "Time:                        22:40:08   Log-Likelihood:                 489.42\n",
      "No. Observations:                 510   AIC:                            -948.8\n",
      "Df Residuals:                     495   BIC:                            -885.3\n",
      "Df Model:                          14                                         \n",
      "Covariance Type:            nonrobust                                         \n",
      "===========================================================================================\n",
      "                              coef    std err          t      P>|t|      [0.025      0.975]\n",
      "-------------------------------------------------------------------------------------------\n",
      "const                       0.2895      0.039      7.497      0.000       0.214       0.365\n",
      "yr                          0.2312      0.008     27.281      0.000       0.215       0.248\n",
      "mnth                        0.0175      0.026      0.672      0.502      -0.034       0.069\n",
      "holiday                    -0.1012      0.028     -3.670      0.000      -0.155      -0.047\n",
      "weekday                     0.0176      0.013      1.385      0.167      -0.007       0.043\n",
      "workingday                 -0.0199      0.010     -2.067      0.039      -0.039      -0.001\n",
      "temp                        0.4319      0.141      3.063      0.002       0.155       0.709\n",
      "atemp                       0.0625      0.144      0.434      0.664      -0.220       0.345\n",
      "hum                        -0.1382      0.039     -3.511      0.000      -0.216      -0.061\n",
      "windspeed                  -0.1784      0.027     -6.511      0.000      -0.232      -0.125\n",
      "seasonspring               -0.0701      0.023     -3.002      0.003      -0.116      -0.024\n",
      "seasonsummer                0.0468      0.016      2.953      0.003       0.016       0.078\n",
      "seasonwinter                0.0810      0.019      4.288      0.000       0.044       0.118\n",
      "weathersitlightsnowrain    -0.2424      0.028     -8.773      0.000      -0.297      -0.188\n",
      "weathersitmistcloudy       -0.0541      0.011     -4.907      0.000      -0.076      -0.032\n",
      "==============================================================================\n",
      "Omnibus:                       66.978   Durbin-Watson:                   2.018\n",
      "Prob(Omnibus):                  0.000   Jarque-Bera (JB):              161.595\n",
      "Skew:                          -0.685   Prob(JB):                     8.13e-36\n",
      "Kurtosis:                       5.393   Cond. No.                         92.8\n",
      "==============================================================================\n",
      "\n",
      "Notes:\n",
      "[1] Standard Errors assume that the covariance matrix of the errors is correctly specified.\n"
     ]
    }
   ],
   "source": [
    "# Fit model\n",
    "predictors = df_train.columns.tolist()\n",
    "lm, X, X_lm, y = fit_OLS(get_predictors('', predictors))\n",
    "print(lm.summary())"
   ]
  },
  {
   "cell_type": "markdown",
   "id": "b0ce0fac",
   "metadata": {},
   "source": [
    "As we can see `atemp` is not significant so dropping it"
   ]
  },
  {
   "cell_type": "code",
   "execution_count": 34,
   "id": "a86cc406",
   "metadata": {},
   "outputs": [
    {
     "name": "stdout",
     "output_type": "stream",
     "text": [
      "                            OLS Regression Results                            \n",
      "==============================================================================\n",
      "Dep. Variable:                    cnt   R-squared:                       0.829\n",
      "Model:                            OLS   Adj. R-squared:                  0.825\n",
      "Method:                 Least Squares   F-statistic:                     185.0\n",
      "Date:                Tue, 26 Oct 2021   Prob (F-statistic):          1.12e-180\n",
      "Time:                        22:40:08   Log-Likelihood:                 489.32\n",
      "No. Observations:                 510   AIC:                            -950.6\n",
      "Df Residuals:                     496   BIC:                            -891.4\n",
      "Df Model:                          13                                         \n",
      "Covariance Type:            nonrobust                                         \n",
      "===========================================================================================\n",
      "                              coef    std err          t      P>|t|      [0.025      0.975]\n",
      "-------------------------------------------------------------------------------------------\n",
      "const                       0.2891      0.039      7.495      0.000       0.213       0.365\n",
      "yr                          0.2312      0.008     27.300      0.000       0.215       0.248\n",
      "mnth                        0.0176      0.026      0.674      0.500      -0.034       0.069\n",
      "holiday                    -0.1014      0.028     -3.683      0.000      -0.156      -0.047\n",
      "weekday                     0.0173      0.013      1.364      0.173      -0.008       0.042\n",
      "workingday                 -0.0196      0.010     -2.046      0.041      -0.038      -0.001\n",
      "temp                        0.4912      0.035     14.202      0.000       0.423       0.559\n",
      "hum                        -0.1374      0.039     -3.498      0.001      -0.215      -0.060\n",
      "windspeed                  -0.1807      0.027     -6.732      0.000      -0.233      -0.128\n",
      "seasonspring               -0.0690      0.023     -2.975      0.003      -0.115      -0.023\n",
      "seasonsummer                0.0480      0.016      3.077      0.002       0.017       0.079\n",
      "seasonwinter                0.0824      0.019      4.428      0.000       0.046       0.119\n",
      "weathersitlightsnowrain    -0.2431      0.028     -8.824      0.000      -0.297      -0.189\n",
      "weathersitmistcloudy       -0.0542      0.011     -4.921      0.000      -0.076      -0.033\n",
      "==============================================================================\n",
      "Omnibus:                       65.729   Durbin-Watson:                   2.017\n",
      "Prob(Omnibus):                  0.000   Jarque-Bera (JB):              158.876\n",
      "Skew:                          -0.672   Prob(JB):                     3.17e-35\n",
      "Kurtosis:                       5.381   Cond. No.                         23.5\n",
      "==============================================================================\n",
      "\n",
      "Notes:\n",
      "[1] Standard Errors assume that the covariance matrix of the errors is correctly specified.\n"
     ]
    }
   ],
   "source": [
    "# Drop atemp and fit model\n",
    "predictors = get_predictors('atemp', predictors)\n",
    "lm, X, X_lm, y = fit_OLS(predictors)\n",
    "print(lm.summary())"
   ]
  },
  {
   "cell_type": "code",
   "execution_count": 35,
   "id": "46816666",
   "metadata": {},
   "outputs": [
    {
     "name": "stdout",
     "output_type": "stream",
     "text": [
      "                            OLS Regression Results                            \n",
      "==============================================================================\n",
      "Dep. Variable:                    cnt   R-squared:                       0.828\n",
      "Model:                            OLS   Adj. R-squared:                  0.824\n",
      "Method:                 Least Squares   F-statistic:                     199.9\n",
      "Date:                Tue, 26 Oct 2021   Prob (F-statistic):          1.95e-181\n",
      "Time:                        22:40:08   Log-Likelihood:                 488.37\n",
      "No. Observations:                 510   AIC:                            -950.7\n",
      "Df Residuals:                     497   BIC:                            -895.7\n",
      "Df Model:                          12                                         \n",
      "Covariance Type:            nonrobust                                         \n",
      "===========================================================================================\n",
      "                              coef    std err          t      P>|t|      [0.025      0.975]\n",
      "-------------------------------------------------------------------------------------------\n",
      "const                       0.2966      0.038      7.762      0.000       0.222       0.372\n",
      "yr                          0.2310      0.008     27.258      0.000       0.214       0.248\n",
      "mnth                        0.0177      0.026      0.679      0.497      -0.034       0.069\n",
      "holiday                    -0.1012      0.028     -3.672      0.000      -0.155      -0.047\n",
      "workingday                 -0.0194      0.010     -2.027      0.043      -0.038      -0.001\n",
      "temp                        0.4928      0.035     14.242      0.000       0.425       0.561\n",
      "hum                        -0.1372      0.039     -3.490      0.001      -0.214      -0.060\n",
      "windspeed                  -0.1824      0.027     -6.794      0.000      -0.235      -0.130\n",
      "seasonspring               -0.0681      0.023     -2.933      0.004      -0.114      -0.022\n",
      "seasonsummer                0.0486      0.016      3.119      0.002       0.018       0.079\n",
      "seasonwinter                0.0826      0.019      4.435      0.000       0.046       0.119\n",
      "weathersitlightsnowrain    -0.2410      0.028     -8.753      0.000      -0.295      -0.187\n",
      "weathersitmistcloudy       -0.0543      0.011     -4.928      0.000      -0.076      -0.033\n",
      "==============================================================================\n",
      "Omnibus:                       69.258   Durbin-Watson:                   2.028\n",
      "Prob(Omnibus):                  0.000   Jarque-Bera (JB):              164.716\n",
      "Skew:                          -0.712   Prob(JB):                     1.71e-36\n",
      "Kurtosis:                       5.392   Cond. No.                         22.6\n",
      "==============================================================================\n",
      "\n",
      "Notes:\n",
      "[1] Standard Errors assume that the covariance matrix of the errors is correctly specified.\n"
     ]
    }
   ],
   "source": [
    "# Drop weekday and fit model\n",
    "predictors = get_predictors('weekday', predictors)\n",
    "lm, X, X_lm, y = fit_OLS(predictors)\n",
    "print(lm.summary())"
   ]
  },
  {
   "cell_type": "code",
   "execution_count": 36,
   "id": "a2af8bff",
   "metadata": {},
   "outputs": [
    {
     "name": "stdout",
     "output_type": "stream",
     "text": [
      "                            OLS Regression Results                            \n",
      "==============================================================================\n",
      "Dep. Variable:                    cnt   R-squared:                       0.828\n",
      "Model:                            OLS   Adj. R-squared:                  0.824\n",
      "Method:                 Least Squares   F-statistic:                     218.3\n",
      "Date:                Tue, 26 Oct 2021   Prob (F-statistic):          1.62e-182\n",
      "Time:                        22:40:08   Log-Likelihood:                 488.13\n",
      "No. Observations:                 510   AIC:                            -952.3\n",
      "Df Residuals:                     498   BIC:                            -901.5\n",
      "Df Model:                          11                                         \n",
      "Covariance Type:            nonrobust                                         \n",
      "===========================================================================================\n",
      "                              coef    std err          t      P>|t|      [0.025      0.975]\n",
      "-------------------------------------------------------------------------------------------\n",
      "const                       0.3053      0.036      8.494      0.000       0.235       0.376\n",
      "yr                          0.2308      0.008     27.268      0.000       0.214       0.247\n",
      "holiday                    -0.1007      0.028     -3.657      0.000      -0.155      -0.047\n",
      "workingday                 -0.0197      0.010     -2.052      0.041      -0.038      -0.001\n",
      "temp                        0.4938      0.035     14.291      0.000       0.426       0.562\n",
      "hum                        -0.1348      0.039     -3.445      0.001      -0.212      -0.058\n",
      "windspeed                  -0.1819      0.027     -6.784      0.000      -0.235      -0.129\n",
      "seasonspring               -0.0752      0.021     -3.635      0.000      -0.116      -0.035\n",
      "seasonsummer                0.0438      0.014      3.157      0.002       0.017       0.071\n",
      "seasonwinter                0.0878      0.017      5.165      0.000       0.054       0.121\n",
      "weathersitlightsnowrain    -0.2420      0.027     -8.809      0.000      -0.296      -0.188\n",
      "weathersitmistcloudy       -0.0547      0.011     -4.975      0.000      -0.076      -0.033\n",
      "==============================================================================\n",
      "Omnibus:                       69.232   Durbin-Watson:                   2.022\n",
      "Prob(Omnibus):                  0.000   Jarque-Bera (JB):              165.419\n",
      "Skew:                          -0.710   Prob(JB):                     1.20e-36\n",
      "Kurtosis:                       5.401   Cond. No.                         21.2\n",
      "==============================================================================\n",
      "\n",
      "Notes:\n",
      "[1] Standard Errors assume that the covariance matrix of the errors is correctly specified.\n"
     ]
    }
   ],
   "source": [
    "# Drop mnth and fit model\n",
    "predictors = get_predictors('mnth', predictors)\n",
    "lm, X, X_lm, y = fit_OLS(predictors)\n",
    "print(lm.summary())"
   ]
  },
  {
   "cell_type": "code",
   "execution_count": 37,
   "id": "268dd224",
   "metadata": {},
   "outputs": [
    {
     "name": "stdout",
     "output_type": "stream",
     "text": [
      "                            OLS Regression Results                            \n",
      "==============================================================================\n",
      "Dep. Variable:                    cnt   R-squared:                       0.827\n",
      "Model:                            OLS   Adj. R-squared:                  0.823\n",
      "Method:                 Least Squares   F-statistic:                     238.2\n",
      "Date:                Tue, 26 Oct 2021   Prob (F-statistic):          8.27e-183\n",
      "Time:                        22:40:08   Log-Likelihood:                 485.99\n",
      "No. Observations:                 510   AIC:                            -950.0\n",
      "Df Residuals:                     499   BIC:                            -903.4\n",
      "Df Model:                          10                                         \n",
      "Covariance Type:            nonrobust                                         \n",
      "===========================================================================================\n",
      "                              coef    std err          t      P>|t|      [0.025      0.975]\n",
      "-------------------------------------------------------------------------------------------\n",
      "const                       0.2932      0.036      8.242      0.000       0.223       0.363\n",
      "yr                          0.2307      0.008     27.176      0.000       0.214       0.247\n",
      "holiday                    -0.0860      0.027     -3.224      0.001      -0.138      -0.034\n",
      "temp                        0.4960      0.035     14.316      0.000       0.428       0.564\n",
      "hum                        -0.1406      0.039     -3.590      0.000      -0.218      -0.064\n",
      "windspeed                  -0.1830      0.027     -6.802      0.000      -0.236      -0.130\n",
      "seasonspring               -0.0749      0.021     -3.606      0.000      -0.116      -0.034\n",
      "seasonsummer                0.0432      0.014      3.101      0.002       0.016       0.071\n",
      "seasonwinter                0.0871      0.017      5.110      0.000       0.054       0.121\n",
      "weathersitlightsnowrain    -0.2396      0.028     -8.701      0.000      -0.294      -0.185\n",
      "weathersitmistcloudy       -0.0522      0.011     -4.761      0.000      -0.074      -0.031\n",
      "==============================================================================\n",
      "Omnibus:                       63.872   Durbin-Watson:                   2.026\n",
      "Prob(Omnibus):                  0.000   Jarque-Bera (JB):              159.401\n",
      "Skew:                          -0.644   Prob(JB):                     2.43e-35\n",
      "Kurtosis:                       5.417   Cond. No.                         19.2\n",
      "==============================================================================\n",
      "\n",
      "Notes:\n",
      "[1] Standard Errors assume that the covariance matrix of the errors is correctly specified.\n"
     ]
    }
   ],
   "source": [
    "# Drop workingday and fit model\n",
    "predictors = get_predictors('workingday', predictors)\n",
    "lm, X, X_lm, y = fit_OLS(predictors)\n",
    "print(lm.summary())"
   ]
  },
  {
   "cell_type": "code",
   "execution_count": 38,
   "id": "7eb272bd",
   "metadata": {},
   "outputs": [
    {
     "name": "stdout",
     "output_type": "stream",
     "text": [
      "                  Features    VIF\n",
      "3                      hum  26.98\n",
      "2                     temp  14.79\n",
      "4                windspeed   4.64\n",
      "5             seasonspring   3.71\n",
      "7             seasonwinter   3.04\n",
      "9     weathersitmistcloudy   2.28\n",
      "6             seasonsummer   2.24\n",
      "0                       yr   2.07\n",
      "8  weathersitlightsnowrain   1.24\n",
      "1                  holiday   1.04\n"
     ]
    }
   ],
   "source": [
    "# Check for the VIF values of the feature variables. \n",
    "# Create a dataframe that will contain the names of all the feature variables and their respective VIFs\n",
    "show_VIF(X)"
   ]
  },
  {
   "cell_type": "code",
   "execution_count": 39,
   "id": "b055f354",
   "metadata": {},
   "outputs": [
    {
     "name": "stdout",
     "output_type": "stream",
     "text": [
      "                            OLS Regression Results                            \n",
      "==============================================================================\n",
      "Dep. Variable:                    cnt   R-squared:                       0.822\n",
      "Model:                            OLS   Adj. R-squared:                  0.819\n",
      "Method:                 Least Squares   F-statistic:                     257.1\n",
      "Date:                Tue, 26 Oct 2021   Prob (F-statistic):          2.84e-181\n",
      "Time:                        22:40:08   Log-Likelihood:                 479.48\n",
      "No. Observations:                 510   AIC:                            -939.0\n",
      "Df Residuals:                     500   BIC:                            -896.6\n",
      "Df Model:                           9                                         \n",
      "Covariance Type:            nonrobust                                         \n",
      "===========================================================================================\n",
      "                              coef    std err          t      P>|t|      [0.025      0.975]\n",
      "-------------------------------------------------------------------------------------------\n",
      "const                       0.2222      0.030      7.427      0.000       0.163       0.281\n",
      "yr                          0.2341      0.009     27.423      0.000       0.217       0.251\n",
      "holiday                    -0.0872      0.027     -3.231      0.001      -0.140      -0.034\n",
      "temp                        0.4662      0.034     13.698      0.000       0.399       0.533\n",
      "windspeed                  -0.1546      0.026     -5.942      0.000      -0.206      -0.103\n",
      "seasonspring               -0.0827      0.021     -3.959      0.000      -0.124      -0.042\n",
      "seasonsummer                0.0382      0.014      2.726      0.007       0.011       0.066\n",
      "seasonwinter                0.0745      0.017      4.416      0.000       0.041       0.108\n",
      "weathersitlightsnowrain    -0.2785      0.026    -10.873      0.000      -0.329      -0.228\n",
      "weathersitmistcloudy       -0.0750      0.009     -8.291      0.000      -0.093      -0.057\n",
      "==============================================================================\n",
      "Omnibus:                       62.352   Durbin-Watson:                   2.023\n",
      "Prob(Omnibus):                  0.000   Jarque-Bera (JB):              153.141\n",
      "Skew:                          -0.634   Prob(JB):                     5.57e-34\n",
      "Kurtosis:                       5.366   Cond. No.                         16.9\n",
      "==============================================================================\n",
      "\n",
      "Notes:\n",
      "[1] Standard Errors assume that the covariance matrix of the errors is correctly specified.\n"
     ]
    }
   ],
   "source": [
    "# Drop hum and fit model\n",
    "predictors = get_predictors('hum', predictors)\n",
    "lm, X, X_lm, y = fit_OLS(predictors)\n",
    "print(lm.summary())"
   ]
  },
  {
   "cell_type": "code",
   "execution_count": 40,
   "id": "a0efb5ef",
   "metadata": {},
   "outputs": [
    {
     "name": "stdout",
     "output_type": "stream",
     "text": [
      "                  Features   VIF\n",
      "3                windspeed  4.60\n",
      "2                     temp  3.56\n",
      "0                       yr  2.07\n",
      "4             seasonspring  1.95\n",
      "5             seasonsummer  1.80\n",
      "6             seasonwinter  1.61\n",
      "8     weathersitmistcloudy  1.53\n",
      "7  weathersitlightsnowrain  1.08\n",
      "1                  holiday  1.04\n"
     ]
    }
   ],
   "source": [
    "# Check for the VIF values of the feature variables. \n",
    "# Create a dataframe that will contain the names of all the feature variables and their respective VIFs\n",
    "show_VIF(X)"
   ]
  },
  {
   "cell_type": "markdown",
   "id": "98aac56f",
   "metadata": {},
   "source": [
    "### Residual Analysis of the train data\n",
    "So, now to check if the error terms are also normally distributed (which is infact, one of the major assumptions of linear regression), let us plot the histogram of the error terms and see what it looks like."
   ]
  },
  {
   "cell_type": "code",
   "execution_count": 41,
   "id": "1522c325",
   "metadata": {},
   "outputs": [],
   "source": [
    "# Get predictions\n",
    "y_cnt_pred = lm.predict(X_lm)"
   ]
  },
  {
   "cell_type": "code",
   "execution_count": 42,
   "id": "8d5e5d18",
   "metadata": {},
   "outputs": [
    {
     "data": {
      "image/png": "[encoded data removed]",
      "text/plain": [
       "<Figure size 432x288 with 1 Axes>"
      ]
     },
     "metadata": {
      "needs_background": "light"
     },
     "output_type": "display_data"
    }
   ],
   "source": [
    "# Plot the histogram of the error terms\n",
    "fig = plt.figure()\n",
    "sns.distplot((y - y_cnt_pred), bins = 18)\n",
    "# Plot heading \n",
    "fig.suptitle('Error Terms', fontsize = 14)  \n",
    "# X-label\n",
    "plt.xlabel('Errors', fontsize=10)     \n",
    "plt.show()"
   ]
  },
  {
   "cell_type": "markdown",
   "id": "70e23424",
   "metadata": {},
   "source": [
    "### Making Predictions Using the Final Model\n",
    "Now that we have fitted the model and checked the normality of error terms, it's time to go ahead and make predictions using the final model."
   ]
  },
  {
   "cell_type": "code",
   "execution_count": 43,
   "id": "bfecdbec",
   "metadata": {},
   "outputs": [],
   "source": [
    "# Putting feature variable to X\n",
    "X_test = df_test[predictors]\n",
    "\n",
    "# Putting response variable to y\n",
    "y_test = df_test['cnt']"
   ]
  },
  {
   "cell_type": "code",
   "execution_count": 44,
   "id": "962e7675",
   "metadata": {},
   "outputs": [],
   "source": [
    "# Adding constant variable to test dataframe\n",
    "X_test_m1 = sm.add_constant(X_test)"
   ]
  },
  {
   "cell_type": "code",
   "execution_count": 45,
   "id": "bf8b7da7",
   "metadata": {},
   "outputs": [],
   "source": [
    "# Making predictions using the fourth model\n",
    "y_pred_m1 = lm.predict(X_test_m1)"
   ]
  },
  {
   "cell_type": "markdown",
   "id": "c7916063",
   "metadata": {},
   "source": [
    "### Model Evaluation"
   ]
  },
  {
   "cell_type": "code",
   "execution_count": 46,
   "id": "41635f13",
   "metadata": {},
   "outputs": [
    {
     "data": {
      "image/png": "[encoded data removed]",
      "text/plain": [
       "<Figure size 432x288 with 1 Axes>"
      ]
     },
     "metadata": {
      "needs_background": "light"
     },
     "output_type": "display_data"
    }
   ],
   "source": [
    "# Plotting y_test and y_pred to understand the spread\n",
    "fig = plt.figure()\n",
    "plt.scatter(y_test, y_pred_m1)\n",
    "# Plot heading \n",
    "fig.suptitle('y_test vs y_pred', fontsize=16)  \n",
    "# X-label\n",
    "plt.xlabel('y_test', fontsize=12)                        \n",
    "plt.ylabel('y_pred', fontsize=12)      \n",
    "plt.show()"
   ]
  },
  {
   "cell_type": "code",
   "execution_count": 47,
   "id": "75405837",
   "metadata": {},
   "outputs": [
    {
     "data": {
      "text/plain": [
       "\"(0.222, 'const'), (0.234, 'yr'), (-0.087, 'holiday'), (0.466, 'temp'), (-0.155, 'windspeed'), (-0.083, 'seasonspring'), (0.038, 'seasonsummer'), (0.075, 'seasonwinter'), (-0.278, 'weathersitlightsnowrain'), (-0.075, 'weathersitmistcloudy')\""
      ]
     },
     "execution_count": 47,
     "metadata": {},
     "output_type": "execute_result"
    }
   ],
   "source": [
    "# Printing the predictor and their respective coefficent combinations\n",
    "', '.join([str((v1,v2)) for v1,v2 in zip([round(val,3) for val in lm.params],[name for name in lm.params.index])])"
   ]
  },
  {
   "cell_type": "markdown",
   "id": "829fcb9b",
   "metadata": {},
   "source": [
    "We can see that the equation of our best fitted line is:\n",
    "\n",
    "$ cnt = 0.234  \\times  yr - 0.087  \\times  holiday + 0.466 \\times temp - 0.155 \\times windspeed - 0.083 \\times seasonspring + 0.038 \\times seasonsummer + 0.075 \\times seasonwinter - 0.278 \\times weathersitlightsnowrain - 0.075 \\times weathersitmistcloudy + 0.222 $"
   ]
  },
  {
   "cell_type": "markdown",
   "id": "3d574cde",
   "metadata": {},
   "source": [
    "### Checking the R-squared on the test set"
   ]
  },
  {
   "cell_type": "code",
   "execution_count": 48,
   "id": "dbb627f7",
   "metadata": {},
   "outputs": [
    {
     "data": {
      "text/plain": [
       "0.8013092375478267"
      ]
     },
     "execution_count": 48,
     "metadata": {},
     "output_type": "execute_result"
    }
   ],
   "source": [
    "# Returns R Squared Score\n",
    "r_squared = r2_score(y_test, y_pred_m1)\n",
    "r_squared"
   ]
  },
  {
   "cell_type": "markdown",
   "id": "af2e4e9a",
   "metadata": {},
   "source": [
    "### Looking at the RMSE"
   ]
  },
  {
   "cell_type": "code",
   "execution_count": 49,
   "id": "1b3abc0d",
   "metadata": {},
   "outputs": [
    {
     "data": {
      "text/plain": [
       "0.09746925490347955"
      ]
     },
     "execution_count": 49,
     "metadata": {},
     "output_type": "execute_result"
    }
   ],
   "source": [
    "# Returns the mean squared error; we'll take a square root\n",
    "np.sqrt(mean_squared_error(y_test, y_pred_m1))"
   ]
  },
  {
   "cell_type": "markdown",
   "id": "82c5818f",
   "metadata": {},
   "source": [
    "---\n",
    "\n",
    "# Building our model - Using RFE (Recursive Feature Elimination)\n",
    "<i>An efficient approach for eliminating features from a training dataset for feature selection</i>\n",
    "\n",
    "---"
   ]
  },
  {
   "cell_type": "code",
   "execution_count": 50,
   "id": "83453dfc",
   "metadata": {},
   "outputs": [
    {
     "data": {
      "text/plain": [
       "(730, 16)"
      ]
     },
     "execution_count": 50,
     "metadata": {},
     "output_type": "execute_result"
    }
   ],
   "source": [
    "# Importing dataset\n",
    "df_rfe = pd.read_csv('day.csv')\n",
    "df_rfe.shape"
   ]
  },
  {
   "cell_type": "code",
   "execution_count": 51,
   "id": "9c75bc56",
   "metadata": {},
   "outputs": [],
   "source": [
    "# Dropping column\n",
    "df_rfe.drop(['instant','dteday'], axis=1, inplace=True)"
   ]
  },
  {
   "cell_type": "code",
   "execution_count": 52,
   "id": "39b8a4d5",
   "metadata": {},
   "outputs": [
    {
     "data": {
      "text/plain": [
       "fall      188\n",
       "summer    184\n",
       "spring    180\n",
       "winter    178\n",
       "Name: season, dtype: int64"
      ]
     },
     "execution_count": 52,
     "metadata": {},
     "output_type": "execute_result"
    }
   ],
   "source": [
    "# Making 'season' categories more readable -> (1:spring, 2:summer, 3:fall, 4:winter)\n",
    "df_rfe.season.replace([1,2,3,4], ['spring', 'summer', 'fall', 'winter'], inplace=True)\n",
    "df_rfe.season.value_counts()"
   ]
  },
  {
   "cell_type": "code",
   "execution_count": 53,
   "id": "edb4e628",
   "metadata": {},
   "outputs": [
    {
     "data": {
      "text/plain": [
       "clear            463\n",
       "mistcloudy       246\n",
       "lightsnowrain     21\n",
       "Name: weathersit, dtype: int64"
      ]
     },
     "execution_count": 53,
     "metadata": {},
     "output_type": "execute_result"
    }
   ],
   "source": [
    "# Making 'weathersit' more readable -> numbers are missleading, there is no order here however from numbers is seems like so\n",
    "df_rfe.weathersit.replace([1,2,3,4], ['clear', 'mistcloudy', 'lightsnowrain', 'heavysnowrain'], inplace=True)\n",
    "df_rfe.weathersit.value_counts()"
   ]
  },
  {
   "cell_type": "markdown",
   "id": "c52387de",
   "metadata": {},
   "source": [
    "### Data Preparation"
   ]
  },
  {
   "cell_type": "code",
   "execution_count": 54,
   "id": "5926e294",
   "metadata": {},
   "outputs": [
    {
     "data": {
      "text/html": [
       "<div>\n",
       "<style scoped>\n",
       "    .dataframe tbody tr th:only-of-type {\n",
       "        vertical-align: middle;\n",
       "    }\n",
       "\n",
       "    .dataframe tbody tr th {\n",
       "        vertical-align: top;\n",
       "    }\n",
       "\n",
       "    .dataframe thead th {\n",
       "        text-align: right;\n",
       "    }\n",
       "</style>\n",
       "<table border=\"1\" class=\"dataframe\">\n",
       "  <thead>\n",
       "    <tr style=\"text-align: right;\">\n",
       "      <th></th>\n",
       "      <th>season_spring</th>\n",
       "      <th>season_summer</th>\n",
       "      <th>season_winter</th>\n",
       "      <th>weathersit_lightsnowrain</th>\n",
       "      <th>weathersit_mistcloudy</th>\n",
       "    </tr>\n",
       "  </thead>\n",
       "  <tbody>\n",
       "    <tr>\n",
       "      <th>0</th>\n",
       "      <td>1</td>\n",
       "      <td>0</td>\n",
       "      <td>0</td>\n",
       "      <td>0</td>\n",
       "      <td>1</td>\n",
       "    </tr>\n",
       "    <tr>\n",
       "      <th>1</th>\n",
       "      <td>1</td>\n",
       "      <td>0</td>\n",
       "      <td>0</td>\n",
       "      <td>0</td>\n",
       "      <td>1</td>\n",
       "    </tr>\n",
       "    <tr>\n",
       "      <th>2</th>\n",
       "      <td>1</td>\n",
       "      <td>0</td>\n",
       "      <td>0</td>\n",
       "      <td>0</td>\n",
       "      <td>0</td>\n",
       "    </tr>\n",
       "    <tr>\n",
       "      <th>3</th>\n",
       "      <td>1</td>\n",
       "      <td>0</td>\n",
       "      <td>0</td>\n",
       "      <td>0</td>\n",
       "      <td>0</td>\n",
       "    </tr>\n",
       "    <tr>\n",
       "      <th>4</th>\n",
       "      <td>1</td>\n",
       "      <td>0</td>\n",
       "      <td>0</td>\n",
       "      <td>0</td>\n",
       "      <td>0</td>\n",
       "    </tr>\n",
       "  </tbody>\n",
       "</table>\n",
       "</div>"
      ],
      "text/plain": [
       "   season_spring  season_summer  season_winter  weathersit_lightsnowrain  \\\n",
       "0              1              0              0                         0   \n",
       "1              1              0              0                         0   \n",
       "2              1              0              0                         0   \n",
       "3              1              0              0                         0   \n",
       "4              1              0              0                         0   \n",
       "\n",
       "   weathersit_mistcloudy  \n",
       "0                      1  \n",
       "1                      1  \n",
       "2                      0  \n",
       "3                      0  \n",
       "4                      0  "
      ]
     },
     "execution_count": 54,
     "metadata": {},
     "output_type": "execute_result"
    }
   ],
   "source": [
    "# Create dummy variables\n",
    "dummyvars = pd.get_dummies(df_rfe[['season', 'weathersit']], drop_first=True)\n",
    "dummyvars.head()"
   ]
  },
  {
   "cell_type": "code",
   "execution_count": 55,
   "id": "ebb1bbf3",
   "metadata": {},
   "outputs": [
    {
     "data": {
      "text/html": [
       "<div>\n",
       "<style scoped>\n",
       "    .dataframe tbody tr th:only-of-type {\n",
       "        vertical-align: middle;\n",
       "    }\n",
       "\n",
       "    .dataframe tbody tr th {\n",
       "        vertical-align: top;\n",
       "    }\n",
       "\n",
       "    .dataframe thead th {\n",
       "        text-align: right;\n",
       "    }\n",
       "</style>\n",
       "<table border=\"1\" class=\"dataframe\">\n",
       "  <thead>\n",
       "    <tr style=\"text-align: right;\">\n",
       "      <th></th>\n",
       "      <th>yr</th>\n",
       "      <th>mnth</th>\n",
       "      <th>holiday</th>\n",
       "      <th>weekday</th>\n",
       "      <th>workingday</th>\n",
       "      <th>temp</th>\n",
       "      <th>atemp</th>\n",
       "      <th>hum</th>\n",
       "      <th>windspeed</th>\n",
       "      <th>casual</th>\n",
       "      <th>registered</th>\n",
       "      <th>cnt</th>\n",
       "      <th>season_spring</th>\n",
       "      <th>season_summer</th>\n",
       "      <th>season_winter</th>\n",
       "      <th>weathersit_lightsnowrain</th>\n",
       "      <th>weathersit_mistcloudy</th>\n",
       "    </tr>\n",
       "  </thead>\n",
       "  <tbody>\n",
       "    <tr>\n",
       "      <th>0</th>\n",
       "      <td>0</td>\n",
       "      <td>1</td>\n",
       "      <td>0</td>\n",
       "      <td>1</td>\n",
       "      <td>1</td>\n",
       "      <td>14.110847</td>\n",
       "      <td>18.18125</td>\n",
       "      <td>80.5833</td>\n",
       "      <td>10.749882</td>\n",
       "      <td>331</td>\n",
       "      <td>654</td>\n",
       "      <td>985</td>\n",
       "      <td>1</td>\n",
       "      <td>0</td>\n",
       "      <td>0</td>\n",
       "      <td>0</td>\n",
       "      <td>1</td>\n",
       "    </tr>\n",
       "    <tr>\n",
       "      <th>1</th>\n",
       "      <td>0</td>\n",
       "      <td>1</td>\n",
       "      <td>0</td>\n",
       "      <td>2</td>\n",
       "      <td>1</td>\n",
       "      <td>14.902598</td>\n",
       "      <td>17.68695</td>\n",
       "      <td>69.6087</td>\n",
       "      <td>16.652113</td>\n",
       "      <td>131</td>\n",
       "      <td>670</td>\n",
       "      <td>801</td>\n",
       "      <td>1</td>\n",
       "      <td>0</td>\n",
       "      <td>0</td>\n",
       "      <td>0</td>\n",
       "      <td>1</td>\n",
       "    </tr>\n",
       "    <tr>\n",
       "      <th>2</th>\n",
       "      <td>0</td>\n",
       "      <td>1</td>\n",
       "      <td>0</td>\n",
       "      <td>3</td>\n",
       "      <td>1</td>\n",
       "      <td>8.050924</td>\n",
       "      <td>9.47025</td>\n",
       "      <td>43.7273</td>\n",
       "      <td>16.636703</td>\n",
       "      <td>120</td>\n",
       "      <td>1229</td>\n",
       "      <td>1349</td>\n",
       "      <td>1</td>\n",
       "      <td>0</td>\n",
       "      <td>0</td>\n",
       "      <td>0</td>\n",
       "      <td>0</td>\n",
       "    </tr>\n",
       "    <tr>\n",
       "      <th>3</th>\n",
       "      <td>0</td>\n",
       "      <td>1</td>\n",
       "      <td>0</td>\n",
       "      <td>4</td>\n",
       "      <td>1</td>\n",
       "      <td>8.200000</td>\n",
       "      <td>10.60610</td>\n",
       "      <td>59.0435</td>\n",
       "      <td>10.739832</td>\n",
       "      <td>108</td>\n",
       "      <td>1454</td>\n",
       "      <td>1562</td>\n",
       "      <td>1</td>\n",
       "      <td>0</td>\n",
       "      <td>0</td>\n",
       "      <td>0</td>\n",
       "      <td>0</td>\n",
       "    </tr>\n",
       "    <tr>\n",
       "      <th>4</th>\n",
       "      <td>0</td>\n",
       "      <td>1</td>\n",
       "      <td>0</td>\n",
       "      <td>5</td>\n",
       "      <td>1</td>\n",
       "      <td>9.305237</td>\n",
       "      <td>11.46350</td>\n",
       "      <td>43.6957</td>\n",
       "      <td>12.522300</td>\n",
       "      <td>82</td>\n",
       "      <td>1518</td>\n",
       "      <td>1600</td>\n",
       "      <td>1</td>\n",
       "      <td>0</td>\n",
       "      <td>0</td>\n",
       "      <td>0</td>\n",
       "      <td>0</td>\n",
       "    </tr>\n",
       "  </tbody>\n",
       "</table>\n",
       "</div>"
      ],
      "text/plain": [
       "   yr  mnth  holiday  weekday  workingday       temp     atemp      hum  \\\n",
       "0   0     1        0        1           1  14.110847  18.18125  80.5833   \n",
       "1   0     1        0        2           1  14.902598  17.68695  69.6087   \n",
       "2   0     1        0        3           1   8.050924   9.47025  43.7273   \n",
       "3   0     1        0        4           1   8.200000  10.60610  59.0435   \n",
       "4   0     1        0        5           1   9.305237  11.46350  43.6957   \n",
       "\n",
       "   windspeed  casual  registered   cnt  season_spring  season_summer  \\\n",
       "0  10.749882     331         654   985              1              0   \n",
       "1  16.652113     131         670   801              1              0   \n",
       "2  16.636703     120        1229  1349              1              0   \n",
       "3  10.739832     108        1454  1562              1              0   \n",
       "4  12.522300      82        1518  1600              1              0   \n",
       "\n",
       "   season_winter  weathersit_lightsnowrain  weathersit_mistcloudy  \n",
       "0              0                         0                      1  \n",
       "1              0                         0                      1  \n",
       "2              0                         0                      0  \n",
       "3              0                         0                      0  \n",
       "4              0                         0                      0  "
      ]
     },
     "execution_count": 55,
     "metadata": {},
     "output_type": "execute_result"
    }
   ],
   "source": [
    "# Combine dummyvars with dataframe\n",
    "df_rfe = pd.concat([df_rfe, dummyvars], axis=1)\n",
    "df_rfe.drop(['season', 'weathersit'], axis=1, inplace=True)\n",
    "df_rfe.head()"
   ]
  },
  {
   "cell_type": "code",
   "execution_count": 56,
   "id": "a1df1848",
   "metadata": {},
   "outputs": [
    {
     "data": {
      "text/html": [
       "<div>\n",
       "<style scoped>\n",
       "    .dataframe tbody tr th:only-of-type {\n",
       "        vertical-align: middle;\n",
       "    }\n",
       "\n",
       "    .dataframe tbody tr th {\n",
       "        vertical-align: top;\n",
       "    }\n",
       "\n",
       "    .dataframe thead th {\n",
       "        text-align: right;\n",
       "    }\n",
       "</style>\n",
       "<table border=\"1\" class=\"dataframe\">\n",
       "  <thead>\n",
       "    <tr style=\"text-align: right;\">\n",
       "      <th></th>\n",
       "      <th>yr</th>\n",
       "      <th>mnth</th>\n",
       "      <th>holiday</th>\n",
       "      <th>weekday</th>\n",
       "      <th>workingday</th>\n",
       "      <th>temp</th>\n",
       "      <th>atemp</th>\n",
       "      <th>hum</th>\n",
       "      <th>windspeed</th>\n",
       "      <th>casual</th>\n",
       "      <th>registered</th>\n",
       "      <th>cnt</th>\n",
       "      <th>seasonspring</th>\n",
       "      <th>seasonsummer</th>\n",
       "      <th>seasonwinter</th>\n",
       "      <th>weathersitlightsnowrain</th>\n",
       "      <th>weathersitmistcloudy</th>\n",
       "    </tr>\n",
       "  </thead>\n",
       "  <tbody>\n",
       "    <tr>\n",
       "      <th>0</th>\n",
       "      <td>0</td>\n",
       "      <td>1</td>\n",
       "      <td>0</td>\n",
       "      <td>1</td>\n",
       "      <td>1</td>\n",
       "      <td>14.110847</td>\n",
       "      <td>18.18125</td>\n",
       "      <td>80.5833</td>\n",
       "      <td>10.749882</td>\n",
       "      <td>331</td>\n",
       "      <td>654</td>\n",
       "      <td>985</td>\n",
       "      <td>1</td>\n",
       "      <td>0</td>\n",
       "      <td>0</td>\n",
       "      <td>0</td>\n",
       "      <td>1</td>\n",
       "    </tr>\n",
       "    <tr>\n",
       "      <th>1</th>\n",
       "      <td>0</td>\n",
       "      <td>1</td>\n",
       "      <td>0</td>\n",
       "      <td>2</td>\n",
       "      <td>1</td>\n",
       "      <td>14.902598</td>\n",
       "      <td>17.68695</td>\n",
       "      <td>69.6087</td>\n",
       "      <td>16.652113</td>\n",
       "      <td>131</td>\n",
       "      <td>670</td>\n",
       "      <td>801</td>\n",
       "      <td>1</td>\n",
       "      <td>0</td>\n",
       "      <td>0</td>\n",
       "      <td>0</td>\n",
       "      <td>1</td>\n",
       "    </tr>\n",
       "    <tr>\n",
       "      <th>2</th>\n",
       "      <td>0</td>\n",
       "      <td>1</td>\n",
       "      <td>0</td>\n",
       "      <td>3</td>\n",
       "      <td>1</td>\n",
       "      <td>8.050924</td>\n",
       "      <td>9.47025</td>\n",
       "      <td>43.7273</td>\n",
       "      <td>16.636703</td>\n",
       "      <td>120</td>\n",
       "      <td>1229</td>\n",
       "      <td>1349</td>\n",
       "      <td>1</td>\n",
       "      <td>0</td>\n",
       "      <td>0</td>\n",
       "      <td>0</td>\n",
       "      <td>0</td>\n",
       "    </tr>\n",
       "    <tr>\n",
       "      <th>3</th>\n",
       "      <td>0</td>\n",
       "      <td>1</td>\n",
       "      <td>0</td>\n",
       "      <td>4</td>\n",
       "      <td>1</td>\n",
       "      <td>8.200000</td>\n",
       "      <td>10.60610</td>\n",
       "      <td>59.0435</td>\n",
       "      <td>10.739832</td>\n",
       "      <td>108</td>\n",
       "      <td>1454</td>\n",
       "      <td>1562</td>\n",
       "      <td>1</td>\n",
       "      <td>0</td>\n",
       "      <td>0</td>\n",
       "      <td>0</td>\n",
       "      <td>0</td>\n",
       "    </tr>\n",
       "    <tr>\n",
       "      <th>4</th>\n",
       "      <td>0</td>\n",
       "      <td>1</td>\n",
       "      <td>0</td>\n",
       "      <td>5</td>\n",
       "      <td>1</td>\n",
       "      <td>9.305237</td>\n",
       "      <td>11.46350</td>\n",
       "      <td>43.6957</td>\n",
       "      <td>12.522300</td>\n",
       "      <td>82</td>\n",
       "      <td>1518</td>\n",
       "      <td>1600</td>\n",
       "      <td>1</td>\n",
       "      <td>0</td>\n",
       "      <td>0</td>\n",
       "      <td>0</td>\n",
       "      <td>0</td>\n",
       "    </tr>\n",
       "  </tbody>\n",
       "</table>\n",
       "</div>"
      ],
      "text/plain": [
       "   yr  mnth  holiday  weekday  workingday       temp     atemp      hum  \\\n",
       "0   0     1        0        1           1  14.110847  18.18125  80.5833   \n",
       "1   0     1        0        2           1  14.902598  17.68695  69.6087   \n",
       "2   0     1        0        3           1   8.050924   9.47025  43.7273   \n",
       "3   0     1        0        4           1   8.200000  10.60610  59.0435   \n",
       "4   0     1        0        5           1   9.305237  11.46350  43.6957   \n",
       "\n",
       "   windspeed  casual  registered   cnt  seasonspring  seasonsummer  \\\n",
       "0  10.749882     331         654   985             1             0   \n",
       "1  16.652113     131         670   801             1             0   \n",
       "2  16.636703     120        1229  1349             1             0   \n",
       "3  10.739832     108        1454  1562             1             0   \n",
       "4  12.522300      82        1518  1600             1             0   \n",
       "\n",
       "   seasonwinter  weathersitlightsnowrain  weathersitmistcloudy  \n",
       "0             0                        0                     1  \n",
       "1             0                        0                     1  \n",
       "2             0                        0                     0  \n",
       "3             0                        0                     0  \n",
       "4             0                        0                     0  "
      ]
     },
     "execution_count": 56,
     "metadata": {},
     "output_type": "execute_result"
    }
   ],
   "source": [
    "# Rename Columns\n",
    "df_rfe.rename(columns={'weathersit_lightsnowrain': 'weathersitlightsnowrain','weathersit_mistcloudy': 'weathersitmistcloudy',\n",
    "                   'season_spring': 'seasonspring', 'season_summer': 'seasonsummer', \n",
    "                   'season_winter': 'seasonwinter'}, inplace=True)\n",
    "df_rfe.head()"
   ]
  },
  {
   "cell_type": "code",
   "execution_count": 57,
   "id": "588db11d",
   "metadata": {},
   "outputs": [],
   "source": [
    "# Dropping columns\n",
    "df_rfe.drop(['casual', 'registered'], axis=1, inplace=True)"
   ]
  },
  {
   "cell_type": "markdown",
   "id": "a2bd2975",
   "metadata": {},
   "source": [
    "### Splitting the Data into Training and Testing Sets"
   ]
  },
  {
   "cell_type": "code",
   "execution_count": 58,
   "id": "b518f46e",
   "metadata": {},
   "outputs": [],
   "source": [
    "# We specify this so that the train and test data set always have the same rows, respectively\n",
    "df_train_rfe, df_test_rfe = train_test_split(df_rfe, train_size = 0.7, test_size = 0.3, random_state = 100)"
   ]
  },
  {
   "cell_type": "markdown",
   "id": "bfa0fc60",
   "metadata": {},
   "source": [
    "#### Rescaling the Features\n",
    "We will use MinMax scaling"
   ]
  },
  {
   "cell_type": "code",
   "execution_count": 59,
   "id": "5801db0f",
   "metadata": {},
   "outputs": [],
   "source": [
    "# Create Scaler\n",
    "scaler_rfe = MinMaxScaler()"
   ]
  },
  {
   "cell_type": "code",
   "execution_count": 60,
   "id": "0c5c74c6",
   "metadata": {},
   "outputs": [
    {
     "data": {
      "text/html": [
       "<div>\n",
       "<style scoped>\n",
       "    .dataframe tbody tr th:only-of-type {\n",
       "        vertical-align: middle;\n",
       "    }\n",
       "\n",
       "    .dataframe tbody tr th {\n",
       "        vertical-align: top;\n",
       "    }\n",
       "\n",
       "    .dataframe thead th {\n",
       "        text-align: right;\n",
       "    }\n",
       "</style>\n",
       "<table border=\"1\" class=\"dataframe\">\n",
       "  <thead>\n",
       "    <tr style=\"text-align: right;\">\n",
       "      <th></th>\n",
       "      <th>yr</th>\n",
       "      <th>mnth</th>\n",
       "      <th>holiday</th>\n",
       "      <th>weekday</th>\n",
       "      <th>workingday</th>\n",
       "      <th>temp</th>\n",
       "      <th>atemp</th>\n",
       "      <th>hum</th>\n",
       "      <th>windspeed</th>\n",
       "      <th>cnt</th>\n",
       "      <th>seasonspring</th>\n",
       "      <th>seasonsummer</th>\n",
       "      <th>seasonwinter</th>\n",
       "      <th>weathersitlightsnowrain</th>\n",
       "      <th>weathersitmistcloudy</th>\n",
       "    </tr>\n",
       "  </thead>\n",
       "  <tbody>\n",
       "    <tr>\n",
       "      <th>653</th>\n",
       "      <td>1</td>\n",
       "      <td>0.818182</td>\n",
       "      <td>0</td>\n",
       "      <td>0.500000</td>\n",
       "      <td>1</td>\n",
       "      <td>0.509887</td>\n",
       "      <td>0.501133</td>\n",
       "      <td>0.575354</td>\n",
       "      <td>0.300794</td>\n",
       "      <td>0.864243</td>\n",
       "      <td>0</td>\n",
       "      <td>0</td>\n",
       "      <td>1</td>\n",
       "      <td>0</td>\n",
       "      <td>0</td>\n",
       "    </tr>\n",
       "    <tr>\n",
       "      <th>576</th>\n",
       "      <td>1</td>\n",
       "      <td>0.545455</td>\n",
       "      <td>0</td>\n",
       "      <td>0.500000</td>\n",
       "      <td>1</td>\n",
       "      <td>0.815169</td>\n",
       "      <td>0.766351</td>\n",
       "      <td>0.725633</td>\n",
       "      <td>0.264686</td>\n",
       "      <td>0.827658</td>\n",
       "      <td>0</td>\n",
       "      <td>0</td>\n",
       "      <td>0</td>\n",
       "      <td>0</td>\n",
       "      <td>0</td>\n",
       "    </tr>\n",
       "    <tr>\n",
       "      <th>426</th>\n",
       "      <td>1</td>\n",
       "      <td>0.181818</td>\n",
       "      <td>0</td>\n",
       "      <td>0.000000</td>\n",
       "      <td>0</td>\n",
       "      <td>0.442393</td>\n",
       "      <td>0.438975</td>\n",
       "      <td>0.640189</td>\n",
       "      <td>0.255342</td>\n",
       "      <td>0.465255</td>\n",
       "      <td>1</td>\n",
       "      <td>0</td>\n",
       "      <td>0</td>\n",
       "      <td>0</td>\n",
       "      <td>1</td>\n",
       "    </tr>\n",
       "    <tr>\n",
       "      <th>728</th>\n",
       "      <td>1</td>\n",
       "      <td>1.000000</td>\n",
       "      <td>0</td>\n",
       "      <td>0.166667</td>\n",
       "      <td>1</td>\n",
       "      <td>0.245101</td>\n",
       "      <td>0.200348</td>\n",
       "      <td>0.498067</td>\n",
       "      <td>0.663106</td>\n",
       "      <td>0.204096</td>\n",
       "      <td>1</td>\n",
       "      <td>0</td>\n",
       "      <td>0</td>\n",
       "      <td>0</td>\n",
       "      <td>0</td>\n",
       "    </tr>\n",
       "    <tr>\n",
       "      <th>482</th>\n",
       "      <td>1</td>\n",
       "      <td>0.272727</td>\n",
       "      <td>0</td>\n",
       "      <td>0.000000</td>\n",
       "      <td>0</td>\n",
       "      <td>0.395666</td>\n",
       "      <td>0.391735</td>\n",
       "      <td>0.504508</td>\n",
       "      <td>0.188475</td>\n",
       "      <td>0.482973</td>\n",
       "      <td>0</td>\n",
       "      <td>1</td>\n",
       "      <td>0</td>\n",
       "      <td>0</td>\n",
       "      <td>1</td>\n",
       "    </tr>\n",
       "  </tbody>\n",
       "</table>\n",
       "</div>"
      ],
      "text/plain": [
       "     yr      mnth  holiday   weekday  workingday      temp     atemp  \\\n",
       "653   1  0.818182        0  0.500000           1  0.509887  0.501133   \n",
       "576   1  0.545455        0  0.500000           1  0.815169  0.766351   \n",
       "426   1  0.181818        0  0.000000           0  0.442393  0.438975   \n",
       "728   1  1.000000        0  0.166667           1  0.245101  0.200348   \n",
       "482   1  0.272727        0  0.000000           0  0.395666  0.391735   \n",
       "\n",
       "          hum  windspeed       cnt  seasonspring  seasonsummer  seasonwinter  \\\n",
       "653  0.575354   0.300794  0.864243             0             0             1   \n",
       "576  0.725633   0.264686  0.827658             0             0             0   \n",
       "426  0.640189   0.255342  0.465255             1             0             0   \n",
       "728  0.498067   0.663106  0.204096             1             0             0   \n",
       "482  0.504508   0.188475  0.482973             0             1             0   \n",
       "\n",
       "     weathersitlightsnowrain  weathersitmistcloudy  \n",
       "653                        0                     0  \n",
       "576                        0                     0  \n",
       "426                        0                     1  \n",
       "728                        0                     0  \n",
       "482                        0                     1  "
      ]
     },
     "execution_count": 60,
     "metadata": {},
     "output_type": "execute_result"
    }
   ],
   "source": [
    "# Scale, fit, transform train set\n",
    "# Apply scaler() to all the columns except the '1-0' and 'dummy' variables\n",
    "num_vars = ['mnth', 'weekday', 'temp', 'atemp', 'hum', 'windspeed', 'cnt']\n",
    "df_train_rfe[num_vars] = scaler_rfe.fit_transform(df_train_rfe[num_vars])\n",
    "df_train_rfe.head()"
   ]
  },
  {
   "cell_type": "markdown",
   "id": "9941f36d",
   "metadata": {},
   "source": [
    "#### Dividing into X_train and y_train sets for the model building"
   ]
  },
  {
   "cell_type": "code",
   "execution_count": 61,
   "id": "04ee47dc",
   "metadata": {},
   "outputs": [],
   "source": [
    "# Putting feature variable to X_train\n",
    "X_train = df_train_rfe\n",
    "\n",
    "# Putting response variable to y_train\n",
    "y_train = df_train_rfe.pop('cnt')"
   ]
  },
  {
   "cell_type": "code",
   "execution_count": 62,
   "id": "5a5df028",
   "metadata": {},
   "outputs": [],
   "source": [
    "# Function to get columns\n",
    "def get_rfe_columns(n_features, display=False):\n",
    "    # Define Estimator\n",
    "    lm = LinearRegression()\n",
    "    \n",
    "    # Fit Model\n",
    "    lm.fit(X_train, y_train)\n",
    "    \n",
    "    # Running RFE\n",
    "    rfe = RFE(lm, n_features)\n",
    "    \n",
    "    # Fit RFE\n",
    "    rfe = rfe.fit(X_train, y_train)\n",
    "    \n",
    "    # Print if flag is set\n",
    "    if display:\n",
    "        print(list(zip(X_train.columns,rfe.support_,rfe.ranking_)))\n",
    "    \n",
    "    # Get Columns\n",
    "    col = X_train.columns[rfe.support_]\n",
    "    return col"
   ]
  },
  {
   "cell_type": "code",
   "execution_count": 63,
   "id": "056abd11",
   "metadata": {},
   "outputs": [],
   "source": [
    "# Function to fit OLS model\n",
    "def fit_OLS_RFE(columns):\n",
    "    # Creating X_test dataframe with RFE selected variables\n",
    "    X_train_rfe = X_train[columns]\n",
    "    \n",
    "    # Adding a constant variable  \n",
    "    X_train_rfe = sm.add_constant(X_train_rfe)\n",
    "    \n",
    "    # Running the linear model\n",
    "    lm = sm.OLS(y_train,X_train_rfe).fit()\n",
    "    \n",
    "    # Return Model\n",
    "    return lm, X_train_rfe, X_train_rfe"
   ]
  },
  {
   "cell_type": "code",
   "execution_count": 64,
   "id": "14ca403b",
   "metadata": {},
   "outputs": [],
   "source": [
    "# Function to compute VIF\n",
    "def get_vif_RFE(X):\n",
    "    # Drop const columns\n",
    "    X = X.drop(['const'], axis=1)\n",
    "    \n",
    "    # Create Dataframe\n",
    "    vif = pd.DataFrame()\n",
    "    \n",
    "    # Compute VIF\n",
    "    vif['Features'] = X.columns\n",
    "    vif['VIF'] = [variance_inflation_factor(X.values, i) for i in range(X.shape[1])]\n",
    "    vif['VIF'] = round(vif['VIF'], 2)\n",
    "    vif = vif.sort_values(by = \"VIF\", ascending = False)\n",
    "    return vif"
   ]
  },
  {
   "cell_type": "markdown",
   "id": "7b613dd2",
   "metadata": {},
   "source": [
    "### Building a linear model"
   ]
  },
  {
   "cell_type": "code",
   "execution_count": 65,
   "id": "a47434ac",
   "metadata": {},
   "outputs": [],
   "source": [
    "# Importing RFE and LinearRegression\n",
    "from sklearn.feature_selection import RFE\n",
    "from sklearn.linear_model import LinearRegression"
   ]
  },
  {
   "cell_type": "code",
   "execution_count": 66,
   "id": "faf1ce3a",
   "metadata": {},
   "outputs": [
    {
     "name": "stdout",
     "output_type": "stream",
     "text": [
      "                            OLS Regression Results                            \n",
      "==============================================================================\n",
      "Dep. Variable:                    cnt   R-squared:                       0.827\n",
      "Model:                            OLS   Adj. R-squared:                  0.824\n",
      "Method:                 Least Squares   F-statistic:                     238.8\n",
      "Date:                Tue, 26 Oct 2021   Prob (F-statistic):          4.78e-183\n",
      "Time:                        22:40:09   Log-Likelihood:                 486.16\n",
      "No. Observations:                 510   AIC:                            -950.3\n",
      "Df Residuals:                     499   BIC:                            -903.7\n",
      "Df Model:                          10                                         \n",
      "Covariance Type:            nonrobust                                         \n",
      "===========================================================================================\n",
      "                              coef    std err          t      P>|t|      [0.025      0.975]\n",
      "-------------------------------------------------------------------------------------------\n",
      "const                       0.2925      0.036      8.224      0.000       0.223       0.362\n",
      "yr                          0.2307      0.008     27.186      0.000       0.214       0.247\n",
      "holiday                    -0.0865      0.027     -3.245      0.001      -0.139      -0.034\n",
      "temp                        0.4961      0.035     14.324      0.000       0.428       0.564\n",
      "hum                        -0.1390      0.039     -3.548      0.000      -0.216      -0.062\n",
      "windspeed                  -0.1827      0.027     -6.794      0.000      -0.236      -0.130\n",
      "seasonspring               -0.0746      0.021     -3.597      0.000      -0.115      -0.034\n",
      "seasonsummer                0.0421      0.014      3.024      0.003       0.015       0.070\n",
      "seasonwinter                0.0883      0.017      5.194      0.000       0.055       0.122\n",
      "weathersitlightsnowrain    -0.2409      0.028     -8.751      0.000      -0.295      -0.187\n",
      "weathersitmistcloudy       -0.0537      0.011     -4.889      0.000      -0.075      -0.032\n",
      "==============================================================================\n",
      "Omnibus:                       64.105   Durbin-Watson:                   2.018\n",
      "Prob(Omnibus):                  0.000   Jarque-Bera (JB):              161.041\n",
      "Skew:                          -0.644   Prob(JB):                     1.07e-35\n",
      "Kurtosis:                       5.433   Cond. No.                         19.2\n",
      "==============================================================================\n",
      "\n",
      "Notes:\n",
      "[1] Standard Errors assume that the covariance matrix of the errors is correctly specified.\n"
     ]
    }
   ],
   "source": [
    "# Let's see the summary of our linear model\n",
    "predictors_rfe = list(get_rfe_columns(10))\n",
    "lm_rfe, X_train_rfe, X_train_rfe_lm = fit_OLS_RFE(predictors_rfe)\n",
    "print(lm_rfe.summary())"
   ]
  },
  {
   "cell_type": "code",
   "execution_count": 67,
   "id": "492cefa1",
   "metadata": {},
   "outputs": [
    {
     "data": {
      "text/html": [
       "<div>\n",
       "<style scoped>\n",
       "    .dataframe tbody tr th:only-of-type {\n",
       "        vertical-align: middle;\n",
       "    }\n",
       "\n",
       "    .dataframe tbody tr th {\n",
       "        vertical-align: top;\n",
       "    }\n",
       "\n",
       "    .dataframe thead th {\n",
       "        text-align: right;\n",
       "    }\n",
       "</style>\n",
       "<table border=\"1\" class=\"dataframe\">\n",
       "  <thead>\n",
       "    <tr style=\"text-align: right;\">\n",
       "      <th></th>\n",
       "      <th>Features</th>\n",
       "      <th>VIF</th>\n",
       "    </tr>\n",
       "  </thead>\n",
       "  <tbody>\n",
       "    <tr>\n",
       "      <th>3</th>\n",
       "      <td>hum</td>\n",
       "      <td>27.02</td>\n",
       "    </tr>\n",
       "    <tr>\n",
       "      <th>2</th>\n",
       "      <td>temp</td>\n",
       "      <td>14.79</td>\n",
       "    </tr>\n",
       "    <tr>\n",
       "      <th>4</th>\n",
       "      <td>windspeed</td>\n",
       "      <td>4.64</td>\n",
       "    </tr>\n",
       "    <tr>\n",
       "      <th>5</th>\n",
       "      <td>seasonspring</td>\n",
       "      <td>3.71</td>\n",
       "    </tr>\n",
       "    <tr>\n",
       "      <th>7</th>\n",
       "      <td>seasonwinter</td>\n",
       "      <td>3.05</td>\n",
       "    </tr>\n",
       "    <tr>\n",
       "      <th>9</th>\n",
       "      <td>weathersitmistcloudy</td>\n",
       "      <td>2.28</td>\n",
       "    </tr>\n",
       "    <tr>\n",
       "      <th>6</th>\n",
       "      <td>seasonsummer</td>\n",
       "      <td>2.24</td>\n",
       "    </tr>\n",
       "    <tr>\n",
       "      <th>0</th>\n",
       "      <td>yr</td>\n",
       "      <td>2.07</td>\n",
       "    </tr>\n",
       "    <tr>\n",
       "      <th>8</th>\n",
       "      <td>weathersitlightsnowrain</td>\n",
       "      <td>1.24</td>\n",
       "    </tr>\n",
       "    <tr>\n",
       "      <th>1</th>\n",
       "      <td>holiday</td>\n",
       "      <td>1.04</td>\n",
       "    </tr>\n",
       "  </tbody>\n",
       "</table>\n",
       "</div>"
      ],
      "text/plain": [
       "                  Features    VIF\n",
       "3                      hum  27.02\n",
       "2                     temp  14.79\n",
       "4                windspeed   4.64\n",
       "5             seasonspring   3.71\n",
       "7             seasonwinter   3.05\n",
       "9     weathersitmistcloudy   2.28\n",
       "6             seasonsummer   2.24\n",
       "0                       yr   2.07\n",
       "8  weathersitlightsnowrain   1.24\n",
       "1                  holiday   1.04"
      ]
     },
     "execution_count": 67,
     "metadata": {},
     "output_type": "execute_result"
    }
   ],
   "source": [
    "# Get VIF\n",
    "get_vif_RFE(X_train_rfe)"
   ]
  },
  {
   "cell_type": "code",
   "execution_count": 68,
   "id": "1a35c502",
   "metadata": {},
   "outputs": [
    {
     "name": "stdout",
     "output_type": "stream",
     "text": [
      "                            OLS Regression Results                            \n",
      "==============================================================================\n",
      "Dep. Variable:                    cnt   R-squared:                       0.823\n",
      "Model:                            OLS   Adj. R-squared:                  0.820\n",
      "Method:                 Least Squares   F-statistic:                     258.0\n",
      "Date:                Tue, 26 Oct 2021   Prob (F-statistic):          1.42e-181\n",
      "Time:                        22:40:09   Log-Likelihood:                 479.80\n",
      "No. Observations:                 510   AIC:                            -939.6\n",
      "Df Residuals:                     500   BIC:                            -897.3\n",
      "Df Model:                           9                                         \n",
      "Covariance Type:            nonrobust                                         \n",
      "===========================================================================================\n",
      "                              coef    std err          t      P>|t|      [0.025      0.975]\n",
      "-------------------------------------------------------------------------------------------\n",
      "const                       0.2223      0.030      7.436      0.000       0.164       0.281\n",
      "yr                          0.2340      0.009     27.430      0.000       0.217       0.251\n",
      "holiday                    -0.0877      0.027     -3.254      0.001      -0.141      -0.035\n",
      "temp                        0.4667      0.034     13.720      0.000       0.400       0.533\n",
      "windspeed                  -0.1546      0.026     -5.948      0.000      -0.206      -0.104\n",
      "seasonspring               -0.0824      0.021     -3.947      0.000      -0.123      -0.041\n",
      "seasonsummer                0.0371      0.014      2.648      0.008       0.010       0.065\n",
      "seasonwinter                0.0760      0.017      4.512      0.000       0.043       0.109\n",
      "weathersitlightsnowrain    -0.2794      0.026    -10.919      0.000      -0.330      -0.229\n",
      "weathersitmistcloudy       -0.0763      0.009     -8.438      0.000      -0.094      -0.059\n",
      "==============================================================================\n",
      "Omnibus:                       62.627   Durbin-Watson:                   2.015\n",
      "Prob(Omnibus):                  0.000   Jarque-Bera (JB):              154.655\n",
      "Skew:                          -0.635   Prob(JB):                     2.61e-34\n",
      "Kurtosis:                       5.380   Cond. No.                         16.9\n",
      "==============================================================================\n",
      "\n",
      "Notes:\n",
      "[1] Standard Errors assume that the covariance matrix of the errors is correctly specified.\n"
     ]
    }
   ],
   "source": [
    "# Re-build Model - drop column\n",
    "predictors_rfe = [predictor for predictor in predictors_rfe if predictor != 'hum']\n",
    "lm_rfe, X_train_rfe, X_train_rfe_lm = fit_OLS_RFE(predictors_rfe)\n",
    "print(lm_rfe.summary())"
   ]
  },
  {
   "cell_type": "code",
   "execution_count": 69,
   "id": "9ca3a1ac",
   "metadata": {},
   "outputs": [
    {
     "data": {
      "text/html": [
       "<div>\n",
       "<style scoped>\n",
       "    .dataframe tbody tr th:only-of-type {\n",
       "        vertical-align: middle;\n",
       "    }\n",
       "\n",
       "    .dataframe tbody tr th {\n",
       "        vertical-align: top;\n",
       "    }\n",
       "\n",
       "    .dataframe thead th {\n",
       "        text-align: right;\n",
       "    }\n",
       "</style>\n",
       "<table border=\"1\" class=\"dataframe\">\n",
       "  <thead>\n",
       "    <tr style=\"text-align: right;\">\n",
       "      <th></th>\n",
       "      <th>Features</th>\n",
       "      <th>VIF</th>\n",
       "    </tr>\n",
       "  </thead>\n",
       "  <tbody>\n",
       "    <tr>\n",
       "      <th>3</th>\n",
       "      <td>windspeed</td>\n",
       "      <td>4.59</td>\n",
       "    </tr>\n",
       "    <tr>\n",
       "      <th>2</th>\n",
       "      <td>temp</td>\n",
       "      <td>3.56</td>\n",
       "    </tr>\n",
       "    <tr>\n",
       "      <th>0</th>\n",
       "      <td>yr</td>\n",
       "      <td>2.07</td>\n",
       "    </tr>\n",
       "    <tr>\n",
       "      <th>4</th>\n",
       "      <td>seasonspring</td>\n",
       "      <td>1.96</td>\n",
       "    </tr>\n",
       "    <tr>\n",
       "      <th>5</th>\n",
       "      <td>seasonsummer</td>\n",
       "      <td>1.79</td>\n",
       "    </tr>\n",
       "    <tr>\n",
       "      <th>6</th>\n",
       "      <td>seasonwinter</td>\n",
       "      <td>1.62</td>\n",
       "    </tr>\n",
       "    <tr>\n",
       "      <th>8</th>\n",
       "      <td>weathersitmistcloudy</td>\n",
       "      <td>1.52</td>\n",
       "    </tr>\n",
       "    <tr>\n",
       "      <th>7</th>\n",
       "      <td>weathersitlightsnowrain</td>\n",
       "      <td>1.08</td>\n",
       "    </tr>\n",
       "    <tr>\n",
       "      <th>1</th>\n",
       "      <td>holiday</td>\n",
       "      <td>1.04</td>\n",
       "    </tr>\n",
       "  </tbody>\n",
       "</table>\n",
       "</div>"
      ],
      "text/plain": [
       "                  Features   VIF\n",
       "3                windspeed  4.59\n",
       "2                     temp  3.56\n",
       "0                       yr  2.07\n",
       "4             seasonspring  1.96\n",
       "5             seasonsummer  1.79\n",
       "6             seasonwinter  1.62\n",
       "8     weathersitmistcloudy  1.52\n",
       "7  weathersitlightsnowrain  1.08\n",
       "1                  holiday  1.04"
      ]
     },
     "execution_count": 69,
     "metadata": {},
     "output_type": "execute_result"
    }
   ],
   "source": [
    "# Get VIF\n",
    "get_vif_RFE(X_train_rfe)"
   ]
  },
  {
   "cell_type": "markdown",
   "id": "7d85a0dd",
   "metadata": {},
   "source": [
    "### Residual Analysis of the train data\n",
    "So, now to check if the error terms are also normally distributed (which is infact, one of the major assumptions of linear regression), let us plot the histogram of the error terms and see what it looks like."
   ]
  },
  {
   "cell_type": "code",
   "execution_count": 70,
   "id": "fa9beb67",
   "metadata": {},
   "outputs": [],
   "source": [
    "# Get predictions\n",
    "y_cnt_pred_rfe = lm_rfe.predict(X_train_rfe)"
   ]
  },
  {
   "cell_type": "code",
   "execution_count": 71,
   "id": "ab62ea7c",
   "metadata": {},
   "outputs": [
    {
     "data": {
      "image/png": "[encoded data removed]",
      "text/plain": [
       "<Figure size 432x288 with 1 Axes>"
      ]
     },
     "metadata": {
      "needs_background": "light"
     },
     "output_type": "display_data"
    }
   ],
   "source": [
    "# Plot the histogram of the error terms\n",
    "fig = plt.figure()\n",
    "sns.distplot((y_train - y_cnt_pred_rfe), bins = 18)\n",
    "# Plot heading \n",
    "fig.suptitle('Error Terms', fontsize = 14)  \n",
    "# X-label\n",
    "plt.xlabel('Errors', fontsize=10)     \n",
    "plt.show()"
   ]
  },
  {
   "cell_type": "markdown",
   "id": "498dc508",
   "metadata": {},
   "source": [
    "### Making Predictions Using the Final Model\n",
    "Now that we have fitted the model and checked the normality of error terms, it's time to go ahead and make predictions using the final, i.e. `lm_rfe` model."
   ]
  },
  {
   "cell_type": "code",
   "execution_count": 72,
   "id": "1eeb9464",
   "metadata": {},
   "outputs": [],
   "source": [
    "# Transform Numeric Columns\n",
    "num_vars = ['mnth', 'weekday', 'temp', 'atemp', 'hum', 'windspeed', 'cnt']\n",
    "df_test_rfe[num_vars] = scaler_rfe.transform(df_test_rfe[num_vars])"
   ]
  },
  {
   "cell_type": "code",
   "execution_count": 73,
   "id": "ceb93755",
   "metadata": {},
   "outputs": [],
   "source": [
    "# Putting feature variable to X\n",
    "X_test = df_test_rfe[predictors_rfe]\n",
    "\n",
    "# Putting response variable to y\n",
    "y_test = df_test_rfe['cnt']"
   ]
  },
  {
   "cell_type": "code",
   "execution_count": 74,
   "id": "08d3d002",
   "metadata": {},
   "outputs": [],
   "source": [
    "# Adding constant variable to test dataframe\n",
    "X_test_m_rfe = sm.add_constant(X_test)"
   ]
  },
  {
   "cell_type": "code",
   "execution_count": 75,
   "id": "282767eb",
   "metadata": {},
   "outputs": [],
   "source": [
    "# Making predictions using the fourth model\n",
    "y_pred_m_rfe = lm_rfe.predict(X_test_m_rfe)"
   ]
  },
  {
   "cell_type": "markdown",
   "id": "21f40f03",
   "metadata": {},
   "source": [
    "### Model Evaluation"
   ]
  },
  {
   "cell_type": "code",
   "execution_count": 76,
   "id": "355800b0",
   "metadata": {},
   "outputs": [
    {
     "data": {
      "image/png": "[encoded data removed]",
      "text/plain": [
       "<Figure size 432x288 with 1 Axes>"
      ]
     },
     "metadata": {
      "needs_background": "light"
     },
     "output_type": "display_data"
    }
   ],
   "source": [
    "# Plotting y_test and y_pred to understand the spread\n",
    "fig = plt.figure()\n",
    "plt.scatter(y_test, y_pred_m_rfe)\n",
    "# Plot heading \n",
    "fig.suptitle('y_test vs y_pred', fontsize = 18)  \n",
    "# X-label\n",
    "plt.xlabel('y_test', fontsize = 12)                        \n",
    "plt.ylabel('y_pred', fontsize = 12)      \n",
    "plt.show()"
   ]
  },
  {
   "cell_type": "markdown",
   "id": "947f088d",
   "metadata": {},
   "source": [
    "### Comparing predictors and their coeff"
   ]
  },
  {
   "cell_type": "markdown",
   "id": "58dc8234",
   "metadata": {},
   "source": [
    "#### For Previous Model - Predictors without RFE"
   ]
  },
  {
   "cell_type": "code",
   "execution_count": 77,
   "id": "e4337730",
   "metadata": {},
   "outputs": [
    {
     "data": {
      "text/plain": [
       "\"(0.222, 'const'), (0.234, 'yr'), (-0.087, 'holiday'), (0.466, 'temp'), (-0.155, 'windspeed'), (-0.083, 'seasonspring'), (0.038, 'seasonsummer'), (0.075, 'seasonwinter'), (-0.278, 'weathersitlightsnowrain'), (-0.075, 'weathersitmistcloudy')\""
      ]
     },
     "execution_count": 77,
     "metadata": {},
     "output_type": "execute_result"
    }
   ],
   "source": [
    "# Printing the predictor and their respective coefficent combinations\n",
    "', '.join([str((v1,v2)) for v1,v2 in zip([round(val,3) for val in lm.params],[name for name in lm.params.index])])"
   ]
  },
  {
   "cell_type": "markdown",
   "id": "76bb8646",
   "metadata": {},
   "source": [
    "#### For Previous Model - Predictors with RFE"
   ]
  },
  {
   "cell_type": "code",
   "execution_count": 78,
   "id": "f7cda432",
   "metadata": {},
   "outputs": [
    {
     "data": {
      "text/plain": [
       "\"(0.222, 'const'), (0.234, 'yr'), (-0.088, 'holiday'), (0.467, 'temp'), (-0.155, 'windspeed'), (-0.082, 'seasonspring'), (0.037, 'seasonsummer'), (0.076, 'seasonwinter'), (-0.279, 'weathersitlightsnowrain'), (-0.076, 'weathersitmistcloudy')\""
      ]
     },
     "execution_count": 78,
     "metadata": {},
     "output_type": "execute_result"
    }
   ],
   "source": [
    "# Printing the predictor and their respective coefficent combinations\n",
    "', '.join([str((v1,v2)) for v1,v2 in zip([round(val,3) for val in lm_rfe.params],[n for n in lm_rfe.params.index])])"
   ]
  },
  {
   "cell_type": "markdown",
   "id": "ba0e659c",
   "metadata": {},
   "source": [
    "We can see that the equation of our best fitted line is:\n",
    "\n",
    "$ cnt = 0.234  \\times  yr - 0.088  \\times  holiday + 0.467 \\times temp - 0.155 \\times windspeed - 0.082 \\times seasonspring + 0.037 \\times seasonsummer + 0.076 \\times seasonwinter - 0.279 \\times weathersitlightsnowrain - 0.076 \\times weathersitmistcloudy + 0.222 $"
   ]
  },
  {
   "cell_type": "markdown",
   "id": "8ff22a76",
   "metadata": {},
   "source": [
    "### Checking the R-squared on the test set"
   ]
  },
  {
   "cell_type": "code",
   "execution_count": 79,
   "id": "c5cc16f9",
   "metadata": {},
   "outputs": [
    {
     "data": {
      "text/plain": [
       "0.8009724887482659"
      ]
     },
     "execution_count": 79,
     "metadata": {},
     "output_type": "execute_result"
    }
   ],
   "source": [
    "# Returns R Squared Score\n",
    "r_squared_rfe = r2_score(y_test, y_pred_m_rfe)\n",
    "r_squared_rfe"
   ]
  },
  {
   "cell_type": "markdown",
   "id": "d49dc2a7",
   "metadata": {},
   "source": [
    "### Looking at the RMSE"
   ]
  },
  {
   "cell_type": "code",
   "execution_count": 80,
   "id": "1fa2a6c5",
   "metadata": {},
   "outputs": [
    {
     "data": {
      "text/plain": [
       "0.0972263981182103"
      ]
     },
     "execution_count": 80,
     "metadata": {},
     "output_type": "execute_result"
    }
   ],
   "source": [
    "# Returns the mean squared error; we'll take a square root\n",
    "np.sqrt(mean_squared_error(y_test, y_pred_m_rfe))"
   ]
  },
  {
   "cell_type": "markdown",
   "id": "37922d17",
   "metadata": {},
   "source": [
    "### Conclusion\n",
    "\n",
    "So as we can see with both the approach our final best fit model is same."
   ]
  }
 ],
 "metadata": {
  "kernelspec": {
   "display_name": "Python 3",
   "language": "python",
   "name": "python3"
  },
  "language_info": {
   "codemirror_mode": {
    "name": "ipython",
    "version": 3
   },
   "file_extension": ".py",
   "mimetype": "text/x-python",
   "name": "python",
   "nbconvert_exporter": "python",
   "pygments_lexer": "ipython3",
   "version": "3.8.8"
  }
 },
 "nbformat": 4,
 "nbformat_minor": 5
}
