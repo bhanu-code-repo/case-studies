{
 "cells": [
  {
   "cell_type": "markdown",
   "id": "825ed98b",
   "metadata": {},
   "source": [
    "<i> Logistic Regression Assignment | DS-C33</i>\n",
    "\n",
    "---\n",
    "\n",
    "# Lead Scoring Case Study\n",
    "<i>Build a logistic regression model to assign a lead score between 0 and 100 to each of the leads which can be used by the company to target potential leads</i>\n",
    "\n",
    "---\n",
    "Submitted By: [Bhanu Pratap Singh](https://www.linkedin.com/in/bpst/) | [Shivika Khandelwal](https://www.linkedin.com/in/shivika-khandelwal-52486374/)"
   ]
  },
  {
   "cell_type": "code",
   "execution_count": 1,
   "id": "74795b56",
   "metadata": {},
   "outputs": [],
   "source": [
    "# Importing required packages\n",
    "import pandas as pd\n",
    "import numpy as np\n",
    "\n",
    "# Visualization\n",
    "import seaborn as sns\n",
    "import matplotlib.pyplot as plt\n",
    "\n",
    "# Test-Train Split\n",
    "from sklearn.model_selection import train_test_split\n",
    "\n",
    "# Feature Scaling\n",
    "from sklearn.preprocessing import MinMaxScaler\n",
    "\n",
    "# For RFE\n",
    "from sklearn.linear_model import LogisticRegression\n",
    "from sklearn.feature_selection import RFE\n",
    "\n",
    "# For Model\n",
    "import statsmodels.api as sm\n",
    "from statsmodels.stats.outliers_influence import variance_inflation_factor\n",
    "\n",
    "# Model evaluation\n",
    "from sklearn import metrics\n",
    "from sklearn.metrics import precision_score, recall_score\n",
    "from sklearn.metrics import precision_recall_curve\n",
    "\n",
    "# Suppressing Warnings\n",
    "import warnings\n",
    "warnings.filterwarnings('ignore')"
   ]
  },
  {
   "cell_type": "markdown",
   "id": "5c3bdad0",
   "metadata": {},
   "source": [
    "## Importing and Inspecting Dataset"
   ]
  },
  {
   "cell_type": "code",
   "execution_count": 2,
   "id": "0f5042e7",
   "metadata": {},
   "outputs": [
    {
     "data": {
      "text/plain": [
       "(9240, 37)"
      ]
     },
     "execution_count": 2,
     "metadata": {},
     "output_type": "execute_result"
    }
   ],
   "source": [
    "# Load dataset\n",
    "leads = pd.read_csv('Leads.csv')\n",
    "leads.shape"
   ]
  },
  {
   "cell_type": "code",
   "execution_count": 3,
   "id": "752544eb",
   "metadata": {},
   "outputs": [
    {
     "data": {
      "text/html": [
       "<div>\n",
       "<style scoped>\n",
       "    .dataframe tbody tr th:only-of-type {\n",
       "        vertical-align: middle;\n",
       "    }\n",
       "\n",
       "    .dataframe tbody tr th {\n",
       "        vertical-align: top;\n",
       "    }\n",
       "\n",
       "    .dataframe thead th {\n",
       "        text-align: right;\n",
       "    }\n",
       "</style>\n",
       "<table border=\"1\" class=\"dataframe\">\n",
       "  <thead>\n",
       "    <tr style=\"text-align: right;\">\n",
       "      <th></th>\n",
       "      <th>Prospect ID</th>\n",
       "      <th>Lead Number</th>\n",
       "      <th>Lead Origin</th>\n",
       "      <th>Lead Source</th>\n",
       "      <th>Do Not Email</th>\n",
       "      <th>Do Not Call</th>\n",
       "      <th>Converted</th>\n",
       "      <th>TotalVisits</th>\n",
       "      <th>Total Time Spent on Website</th>\n",
       "      <th>Page Views Per Visit</th>\n",
       "      <th>...</th>\n",
       "      <th>Get updates on DM Content</th>\n",
       "      <th>Lead Profile</th>\n",
       "      <th>City</th>\n",
       "      <th>Asymmetrique Activity Index</th>\n",
       "      <th>Asymmetrique Profile Index</th>\n",
       "      <th>Asymmetrique Activity Score</th>\n",
       "      <th>Asymmetrique Profile Score</th>\n",
       "      <th>I agree to pay the amount through cheque</th>\n",
       "      <th>A free copy of Mastering The Interview</th>\n",
       "      <th>Last Notable Activity</th>\n",
       "    </tr>\n",
       "  </thead>\n",
       "  <tbody>\n",
       "    <tr>\n",
       "      <th>0</th>\n",
       "      <td>7927b2df-8bba-4d29-b9a2-b6e0beafe620</td>\n",
       "      <td>660737</td>\n",
       "      <td>API</td>\n",
       "      <td>Olark Chat</td>\n",
       "      <td>No</td>\n",
       "      <td>No</td>\n",
       "      <td>0</td>\n",
       "      <td>0.0</td>\n",
       "      <td>0</td>\n",
       "      <td>0.0</td>\n",
       "      <td>...</td>\n",
       "      <td>No</td>\n",
       "      <td>Select</td>\n",
       "      <td>Select</td>\n",
       "      <td>02.Medium</td>\n",
       "      <td>02.Medium</td>\n",
       "      <td>15.0</td>\n",
       "      <td>15.0</td>\n",
       "      <td>No</td>\n",
       "      <td>No</td>\n",
       "      <td>Modified</td>\n",
       "    </tr>\n",
       "    <tr>\n",
       "      <th>1</th>\n",
       "      <td>2a272436-5132-4136-86fa-dcc88c88f482</td>\n",
       "      <td>660728</td>\n",
       "      <td>API</td>\n",
       "      <td>Organic Search</td>\n",
       "      <td>No</td>\n",
       "      <td>No</td>\n",
       "      <td>0</td>\n",
       "      <td>5.0</td>\n",
       "      <td>674</td>\n",
       "      <td>2.5</td>\n",
       "      <td>...</td>\n",
       "      <td>No</td>\n",
       "      <td>Select</td>\n",
       "      <td>Select</td>\n",
       "      <td>02.Medium</td>\n",
       "      <td>02.Medium</td>\n",
       "      <td>15.0</td>\n",
       "      <td>15.0</td>\n",
       "      <td>No</td>\n",
       "      <td>No</td>\n",
       "      <td>Email Opened</td>\n",
       "    </tr>\n",
       "  </tbody>\n",
       "</table>\n",
       "<p>2 rows × 37 columns</p>\n",
       "</div>"
      ],
      "text/plain": [
       "                            Prospect ID  Lead Number Lead Origin  \\\n",
       "0  7927b2df-8bba-4d29-b9a2-b6e0beafe620       660737         API   \n",
       "1  2a272436-5132-4136-86fa-dcc88c88f482       660728         API   \n",
       "\n",
       "      Lead Source Do Not Email Do Not Call  Converted  TotalVisits  \\\n",
       "0      Olark Chat           No          No          0          0.0   \n",
       "1  Organic Search           No          No          0          5.0   \n",
       "\n",
       "   Total Time Spent on Website  Page Views Per Visit  ...  \\\n",
       "0                            0                   0.0  ...   \n",
       "1                          674                   2.5  ...   \n",
       "\n",
       "  Get updates on DM Content Lead Profile    City Asymmetrique Activity Index  \\\n",
       "0                        No       Select  Select                   02.Medium   \n",
       "1                        No       Select  Select                   02.Medium   \n",
       "\n",
       "  Asymmetrique Profile Index Asymmetrique Activity Score  \\\n",
       "0                  02.Medium                        15.0   \n",
       "1                  02.Medium                        15.0   \n",
       "\n",
       "  Asymmetrique Profile Score I agree to pay the amount through cheque  \\\n",
       "0                       15.0                                       No   \n",
       "1                       15.0                                       No   \n",
       "\n",
       "  A free copy of Mastering The Interview Last Notable Activity  \n",
       "0                                     No              Modified  \n",
       "1                                     No          Email Opened  \n",
       "\n",
       "[2 rows x 37 columns]"
      ]
     },
     "execution_count": 3,
     "metadata": {},
     "output_type": "execute_result"
    }
   ],
   "source": [
    "# View top 2 rows\n",
    "leads.head(2)"
   ]
  },
  {
   "cell_type": "code",
   "execution_count": 4,
   "id": "2bd336e3",
   "metadata": {},
   "outputs": [
    {
     "name": "stdout",
     "output_type": "stream",
     "text": [
      "<class 'pandas.core.frame.DataFrame'>\n",
      "RangeIndex: 9240 entries, 0 to 9239\n",
      "Data columns (total 37 columns):\n",
      " #   Column                                         Non-Null Count  Dtype  \n",
      "---  ------                                         --------------  -----  \n",
      " 0   Prospect ID                                    9240 non-null   object \n",
      " 1   Lead Number                                    9240 non-null   int64  \n",
      " 2   Lead Origin                                    9240 non-null   object \n",
      " 3   Lead Source                                    9204 non-null   object \n",
      " 4   Do Not Email                                   9240 non-null   object \n",
      " 5   Do Not Call                                    9240 non-null   object \n",
      " 6   Converted                                      9240 non-null   int64  \n",
      " 7   TotalVisits                                    9103 non-null   float64\n",
      " 8   Total Time Spent on Website                    9240 non-null   int64  \n",
      " 9   Page Views Per Visit                           9103 non-null   float64\n",
      " 10  Last Activity                                  9137 non-null   object \n",
      " 11  Country                                        6779 non-null   object \n",
      " 12  Specialization                                 7802 non-null   object \n",
      " 13  How did you hear about X Education             7033 non-null   object \n",
      " 14  What is your current occupation                6550 non-null   object \n",
      " 15  What matters most to you in choosing a course  6531 non-null   object \n",
      " 16  Search                                         9240 non-null   object \n",
      " 17  Magazine                                       9240 non-null   object \n",
      " 18  Newspaper Article                              9240 non-null   object \n",
      " 19  X Education Forums                             9240 non-null   object \n",
      " 20  Newspaper                                      9240 non-null   object \n",
      " 21  Digital Advertisement                          9240 non-null   object \n",
      " 22  Through Recommendations                        9240 non-null   object \n",
      " 23  Receive More Updates About Our Courses         9240 non-null   object \n",
      " 24  Tags                                           5887 non-null   object \n",
      " 25  Lead Quality                                   4473 non-null   object \n",
      " 26  Update me on Supply Chain Content              9240 non-null   object \n",
      " 27  Get updates on DM Content                      9240 non-null   object \n",
      " 28  Lead Profile                                   6531 non-null   object \n",
      " 29  City                                           7820 non-null   object \n",
      " 30  Asymmetrique Activity Index                    5022 non-null   object \n",
      " 31  Asymmetrique Profile Index                     5022 non-null   object \n",
      " 32  Asymmetrique Activity Score                    5022 non-null   float64\n",
      " 33  Asymmetrique Profile Score                     5022 non-null   float64\n",
      " 34  I agree to pay the amount through cheque       9240 non-null   object \n",
      " 35  A free copy of Mastering The Interview         9240 non-null   object \n",
      " 36  Last Notable Activity                          9240 non-null   object \n",
      "dtypes: float64(4), int64(3), object(30)\n",
      "memory usage: 2.6+ MB\n"
     ]
    }
   ],
   "source": [
    "# Checking column types\n",
    "leads.info()"
   ]
  },
  {
   "cell_type": "markdown",
   "id": "43dda84b",
   "metadata": {},
   "source": [
    "As we can see there are total 9240 data points with 37 features where 30 of object type, 4 of float type and 3 of int type. There are few feature with missing values as well. Also features like `Prospect ID, Lead Number, City and Country` can be dropped as they are not so significant for our model."
   ]
  },
  {
   "cell_type": "code",
   "execution_count": 5,
   "id": "dbac30e0",
   "metadata": {},
   "outputs": [
    {
     "data": {
      "text/html": [
       "<div>\n",
       "<style scoped>\n",
       "    .dataframe tbody tr th:only-of-type {\n",
       "        vertical-align: middle;\n",
       "    }\n",
       "\n",
       "    .dataframe tbody tr th {\n",
       "        vertical-align: top;\n",
       "    }\n",
       "\n",
       "    .dataframe thead th {\n",
       "        text-align: right;\n",
       "    }\n",
       "</style>\n",
       "<table border=\"1\" class=\"dataframe\">\n",
       "  <thead>\n",
       "    <tr style=\"text-align: right;\">\n",
       "      <th></th>\n",
       "      <th>Lead Number</th>\n",
       "      <th>Converted</th>\n",
       "      <th>TotalVisits</th>\n",
       "      <th>Total Time Spent on Website</th>\n",
       "      <th>Page Views Per Visit</th>\n",
       "      <th>Asymmetrique Activity Score</th>\n",
       "      <th>Asymmetrique Profile Score</th>\n",
       "    </tr>\n",
       "  </thead>\n",
       "  <tbody>\n",
       "    <tr>\n",
       "      <th>count</th>\n",
       "      <td>9240.000000</td>\n",
       "      <td>9240.000000</td>\n",
       "      <td>9103.000000</td>\n",
       "      <td>9240.000000</td>\n",
       "      <td>9103.000000</td>\n",
       "      <td>5022.000000</td>\n",
       "      <td>5022.000000</td>\n",
       "    </tr>\n",
       "    <tr>\n",
       "      <th>mean</th>\n",
       "      <td>617188.435606</td>\n",
       "      <td>0.385390</td>\n",
       "      <td>3.445238</td>\n",
       "      <td>487.698268</td>\n",
       "      <td>2.362820</td>\n",
       "      <td>14.306252</td>\n",
       "      <td>16.344883</td>\n",
       "    </tr>\n",
       "    <tr>\n",
       "      <th>std</th>\n",
       "      <td>23405.995698</td>\n",
       "      <td>0.486714</td>\n",
       "      <td>4.854853</td>\n",
       "      <td>548.021466</td>\n",
       "      <td>2.161418</td>\n",
       "      <td>1.386694</td>\n",
       "      <td>1.811395</td>\n",
       "    </tr>\n",
       "    <tr>\n",
       "      <th>min</th>\n",
       "      <td>579533.000000</td>\n",
       "      <td>0.000000</td>\n",
       "      <td>0.000000</td>\n",
       "      <td>0.000000</td>\n",
       "      <td>0.000000</td>\n",
       "      <td>7.000000</td>\n",
       "      <td>11.000000</td>\n",
       "    </tr>\n",
       "    <tr>\n",
       "      <th>25%</th>\n",
       "      <td>596484.500000</td>\n",
       "      <td>0.000000</td>\n",
       "      <td>1.000000</td>\n",
       "      <td>12.000000</td>\n",
       "      <td>1.000000</td>\n",
       "      <td>14.000000</td>\n",
       "      <td>15.000000</td>\n",
       "    </tr>\n",
       "    <tr>\n",
       "      <th>50%</th>\n",
       "      <td>615479.000000</td>\n",
       "      <td>0.000000</td>\n",
       "      <td>3.000000</td>\n",
       "      <td>248.000000</td>\n",
       "      <td>2.000000</td>\n",
       "      <td>14.000000</td>\n",
       "      <td>16.000000</td>\n",
       "    </tr>\n",
       "    <tr>\n",
       "      <th>75%</th>\n",
       "      <td>637387.250000</td>\n",
       "      <td>1.000000</td>\n",
       "      <td>5.000000</td>\n",
       "      <td>936.000000</td>\n",
       "      <td>3.000000</td>\n",
       "      <td>15.000000</td>\n",
       "      <td>18.000000</td>\n",
       "    </tr>\n",
       "    <tr>\n",
       "      <th>max</th>\n",
       "      <td>660737.000000</td>\n",
       "      <td>1.000000</td>\n",
       "      <td>251.000000</td>\n",
       "      <td>2272.000000</td>\n",
       "      <td>55.000000</td>\n",
       "      <td>18.000000</td>\n",
       "      <td>20.000000</td>\n",
       "    </tr>\n",
       "  </tbody>\n",
       "</table>\n",
       "</div>"
      ],
      "text/plain": [
       "         Lead Number    Converted  TotalVisits  Total Time Spent on Website  \\\n",
       "count    9240.000000  9240.000000  9103.000000                  9240.000000   \n",
       "mean   617188.435606     0.385390     3.445238                   487.698268   \n",
       "std     23405.995698     0.486714     4.854853                   548.021466   \n",
       "min    579533.000000     0.000000     0.000000                     0.000000   \n",
       "25%    596484.500000     0.000000     1.000000                    12.000000   \n",
       "50%    615479.000000     0.000000     3.000000                   248.000000   \n",
       "75%    637387.250000     1.000000     5.000000                   936.000000   \n",
       "max    660737.000000     1.000000   251.000000                  2272.000000   \n",
       "\n",
       "       Page Views Per Visit  Asymmetrique Activity Score  \\\n",
       "count           9103.000000                  5022.000000   \n",
       "mean               2.362820                    14.306252   \n",
       "std                2.161418                     1.386694   \n",
       "min                0.000000                     7.000000   \n",
       "25%                1.000000                    14.000000   \n",
       "50%                2.000000                    14.000000   \n",
       "75%                3.000000                    15.000000   \n",
       "max               55.000000                    18.000000   \n",
       "\n",
       "       Asymmetrique Profile Score  \n",
       "count                 5022.000000  \n",
       "mean                    16.344883  \n",
       "std                      1.811395  \n",
       "min                     11.000000  \n",
       "25%                     15.000000  \n",
       "50%                     16.000000  \n",
       "75%                     18.000000  \n",
       "max                     20.000000  "
      ]
     },
     "execution_count": 5,
     "metadata": {},
     "output_type": "execute_result"
    }
   ],
   "source": [
    "# Check statistical summay\n",
    "leads.describe()"
   ]
  },
  {
   "cell_type": "markdown",
   "id": "9b290e54",
   "metadata": {},
   "source": [
    "## Data Preparation"
   ]
  },
  {
   "cell_type": "code",
   "execution_count": 6,
   "id": "7e730c7e",
   "metadata": {},
   "outputs": [
    {
     "data": {
      "text/plain": [
       "Lead Quality                                     4767\n",
       "Asymmetrique Activity Index                      4218\n",
       "Asymmetrique Profile Score                       4218\n",
       "Asymmetrique Activity Score                      4218\n",
       "Asymmetrique Profile Index                       4218\n",
       "Tags                                             3353\n",
       "Lead Profile                                     2709\n",
       "What matters most to you in choosing a course    2709\n",
       "What is your current occupation                  2690\n",
       "Country                                          2461\n",
       "How did you hear about X Education               2207\n",
       "Specialization                                   1438\n",
       "City                                             1420\n",
       "Page Views Per Visit                              137\n",
       "TotalVisits                                       137\n",
       "Last Activity                                     103\n",
       "Lead Source                                        36\n",
       "Receive More Updates About Our Courses              0\n",
       "I agree to pay the amount through cheque            0\n",
       "Get updates on DM Content                           0\n",
       "Update me on Supply Chain Content                   0\n",
       "A free copy of Mastering The Interview              0\n",
       "Prospect ID                                         0\n",
       "Newspaper Article                                   0\n",
       "Through Recommendations                             0\n",
       "Digital Advertisement                               0\n",
       "Newspaper                                           0\n",
       "X Education Forums                                  0\n",
       "Lead Number                                         0\n",
       "Magazine                                            0\n",
       "Search                                              0\n",
       "Total Time Spent on Website                         0\n",
       "Converted                                           0\n",
       "Do Not Call                                         0\n",
       "Do Not Email                                        0\n",
       "Lead Origin                                         0\n",
       "Last Notable Activity                               0\n",
       "dtype: int64"
      ]
     },
     "execution_count": 6,
     "metadata": {},
     "output_type": "execute_result"
    }
   ],
   "source": [
    "# Check the number of missing values in each column\n",
    "leads.isnull().sum().sort_values(ascending=False)"
   ]
  },
  {
   "cell_type": "code",
   "execution_count": 7,
   "id": "9951076f",
   "metadata": {},
   "outputs": [
    {
     "data": {
      "text/plain": [
       "Lead Quality                                     51.59\n",
       "Asymmetrique Activity Index                      45.65\n",
       "Asymmetrique Profile Score                       45.65\n",
       "Asymmetrique Activity Score                      45.65\n",
       "Asymmetrique Profile Index                       45.65\n",
       "Tags                                             36.29\n",
       "Lead Profile                                     29.32\n",
       "What matters most to you in choosing a course    29.32\n",
       "What is your current occupation                  29.11\n",
       "Country                                          26.63\n",
       "How did you hear about X Education               23.89\n",
       "Specialization                                   15.56\n",
       "City                                             15.37\n",
       "Page Views Per Visit                              1.48\n",
       "TotalVisits                                       1.48\n",
       "Last Activity                                     1.11\n",
       "Lead Source                                       0.39\n",
       "Receive More Updates About Our Courses            0.00\n",
       "I agree to pay the amount through cheque          0.00\n",
       "Get updates on DM Content                         0.00\n",
       "Update me on Supply Chain Content                 0.00\n",
       "A free copy of Mastering The Interview            0.00\n",
       "Prospect ID                                       0.00\n",
       "Newspaper Article                                 0.00\n",
       "Through Recommendations                           0.00\n",
       "Digital Advertisement                             0.00\n",
       "Newspaper                                         0.00\n",
       "X Education Forums                                0.00\n",
       "Lead Number                                       0.00\n",
       "Magazine                                          0.00\n",
       "Search                                            0.00\n",
       "Total Time Spent on Website                       0.00\n",
       "Converted                                         0.00\n",
       "Do Not Call                                       0.00\n",
       "Do Not Email                                      0.00\n",
       "Lead Origin                                       0.00\n",
       "Last Notable Activity                             0.00\n",
       "dtype: float64"
      ]
     },
     "execution_count": 7,
     "metadata": {},
     "output_type": "execute_result"
    }
   ],
   "source": [
    "# Checking the percentage of missing values\n",
    "round(100*(leads.isnull().sum().sort_values(ascending=False)/leads.shape[0]),2)"
   ]
  },
  {
   "cell_type": "markdown",
   "id": "d7a68c20",
   "metadata": {},
   "source": [
    "Clearly features have mssing values ranging from as high as `51.59%` to as low as `1.11%`, clearly, these columns are not useful, so drop all the columns with more than `35%` missing values. Also dropping features `City, Country, Prospect ID and Lead Number` as well."
   ]
  },
  {
   "cell_type": "markdown",
   "id": "38a9136c",
   "metadata": {},
   "source": [
    "### Handle Missing Values"
   ]
  },
  {
   "cell_type": "code",
   "execution_count": 8,
   "id": "152985a1",
   "metadata": {},
   "outputs": [],
   "source": [
    "# Dropping redundent columns and columns with more than 35% missing values\n",
    "leads.drop(['Lead Quality','Asymmetrique Activity Index','Asymmetrique Profile Score','Asymmetrique Activity Score',\n",
    "           'Asymmetrique Profile Index','Tags','City','Country','Prospect ID','Lead Number'], axis=1, inplace=True)"
   ]
  },
  {
   "cell_type": "code",
   "execution_count": 9,
   "id": "846d4534",
   "metadata": {},
   "outputs": [
    {
     "data": {
      "text/plain": [
       "Lead Profile                                     29.32\n",
       "What matters most to you in choosing a course    29.32\n",
       "What is your current occupation                  29.11\n",
       "How did you hear about X Education               23.89\n",
       "Specialization                                   15.56\n",
       "TotalVisits                                       1.48\n",
       "Page Views Per Visit                              1.48\n",
       "Last Activity                                     1.11\n",
       "Lead Source                                       0.39\n",
       "Receive More Updates About Our Courses            0.00\n",
       "dtype: float64"
      ]
     },
     "execution_count": 9,
     "metadata": {},
     "output_type": "execute_result"
    }
   ],
   "source": [
    "# Checking the percentage of missing values\n",
    "round(100*(leads.isnull().sum().sort_values(ascending=False)/leads.shape[0]), 2).head(10)"
   ]
  },
  {
   "cell_type": "code",
   "execution_count": 10,
   "id": "17e0a445",
   "metadata": {},
   "outputs": [
    {
     "name": "stdout",
     "output_type": "stream",
     "text": [
      "Landing Page Submission    4886\n",
      "API                        3580\n",
      "Lead Add Form               718\n",
      "Lead Import                  55\n",
      "Quick Add Form                1\n",
      "Name: Lead Origin, dtype: int64\n",
      "---------------------------------------\n",
      "Google               2868\n",
      "Direct Traffic       2543\n",
      "Olark Chat           1755\n",
      "Organic Search       1154\n",
      "Reference             534\n",
      "Welingak Website      142\n",
      "Referral Sites        125\n",
      "Facebook               55\n",
      "bing                    6\n",
      "google                  5\n",
      "Click2call              4\n",
      "Social Media            2\n",
      "Press_Release           2\n",
      "Live Chat               2\n",
      "Pay per Click Ads       1\n",
      "WeLearn                 1\n",
      "welearnblog_Home        1\n",
      "youtubechannel          1\n",
      "testone                 1\n",
      "NC_EDM                  1\n",
      "blog                    1\n",
      "Name: Lead Source, dtype: int64\n",
      "---------------------------------------\n",
      "No     8506\n",
      "Yes     734\n",
      "Name: Do Not Email, dtype: int64\n",
      "---------------------------------------\n",
      "No     9238\n",
      "Yes       2\n",
      "Name: Do Not Call, dtype: int64\n",
      "---------------------------------------\n",
      "Email Opened                    3437\n",
      "SMS Sent                        2745\n",
      "Olark Chat Conversation          973\n",
      "Page Visited on Website          640\n",
      "Converted to Lead                428\n",
      "Email Bounced                    326\n",
      "Email Link Clicked               267\n",
      "Form Submitted on Website        116\n",
      "Unreachable                       93\n",
      "Unsubscribed                      61\n",
      "Had a Phone Conversation          30\n",
      "Approached upfront                 9\n",
      "View in browser link Clicked       6\n",
      "Email Marked Spam                  2\n",
      "Email Received                     2\n",
      "Visited Booth in Tradeshow         1\n",
      "Resubscribed to emails             1\n",
      "Name: Last Activity, dtype: int64\n",
      "---------------------------------------\n",
      "Select                               1942\n",
      "Finance Management                    976\n",
      "Human Resource Management             848\n",
      "Marketing Management                  838\n",
      "Operations Management                 503\n",
      "Business Administration               403\n",
      "IT Projects Management                366\n",
      "Supply Chain Management               349\n",
      "Banking, Investment And Insurance     338\n",
      "Media and Advertising                 203\n",
      "Travel and Tourism                    203\n",
      "International Business                178\n",
      "Healthcare Management                 159\n",
      "Hospitality Management                114\n",
      "E-COMMERCE                            112\n",
      "Retail Management                     100\n",
      "Rural and Agribusiness                 73\n",
      "E-Business                             57\n",
      "Services Excellence                    40\n",
      "Name: Specialization, dtype: int64\n",
      "---------------------------------------\n",
      "Select                   5043\n",
      "Online Search             808\n",
      "Word Of Mouth             348\n",
      "Student of SomeSchool     310\n",
      "Other                     186\n",
      "Multiple Sources          152\n",
      "Advertisements             70\n",
      "Social Media               67\n",
      "Email                      26\n",
      "SMS                        23\n",
      "Name: How did you hear about X Education, dtype: int64\n",
      "---------------------------------------\n",
      "Unemployed              5600\n",
      "Working Professional     706\n",
      "Student                  210\n",
      "Other                     16\n",
      "Housewife                 10\n",
      "Businessman                8\n",
      "Name: What is your current occupation, dtype: int64\n",
      "---------------------------------------\n",
      "Better Career Prospects      6528\n",
      "Flexibility & Convenience       2\n",
      "Other                           1\n",
      "Name: What matters most to you in choosing a course, dtype: int64\n",
      "---------------------------------------\n",
      "No     9226\n",
      "Yes      14\n",
      "Name: Search, dtype: int64\n",
      "---------------------------------------\n",
      "No    9240\n",
      "Name: Magazine, dtype: int64\n",
      "---------------------------------------\n",
      "No     9238\n",
      "Yes       2\n",
      "Name: Newspaper Article, dtype: int64\n",
      "---------------------------------------\n",
      "No     9239\n",
      "Yes       1\n",
      "Name: X Education Forums, dtype: int64\n",
      "---------------------------------------\n",
      "No     9239\n",
      "Yes       1\n",
      "Name: Newspaper, dtype: int64\n",
      "---------------------------------------\n",
      "No     9236\n",
      "Yes       4\n",
      "Name: Digital Advertisement, dtype: int64\n",
      "---------------------------------------\n",
      "No     9233\n",
      "Yes       7\n",
      "Name: Through Recommendations, dtype: int64\n",
      "---------------------------------------\n",
      "No    9240\n",
      "Name: Receive More Updates About Our Courses, dtype: int64\n",
      "---------------------------------------\n",
      "No    9240\n",
      "Name: Update me on Supply Chain Content, dtype: int64\n",
      "---------------------------------------\n",
      "No    9240\n",
      "Name: Get updates on DM Content, dtype: int64\n",
      "---------------------------------------\n",
      "Select                         4146\n",
      "Potential Lead                 1613\n",
      "Other Leads                     487\n",
      "Student of SomeSchool           241\n",
      "Lateral Student                  24\n",
      "Dual Specialization Student      20\n",
      "Name: Lead Profile, dtype: int64\n",
      "---------------------------------------\n",
      "No    9240\n",
      "Name: I agree to pay the amount through cheque, dtype: int64\n",
      "---------------------------------------\n",
      "No     6352\n",
      "Yes    2888\n",
      "Name: A free copy of Mastering The Interview, dtype: int64\n",
      "---------------------------------------\n",
      "Modified                        3407\n",
      "Email Opened                    2827\n",
      "SMS Sent                        2172\n",
      "Page Visited on Website          318\n",
      "Olark Chat Conversation          183\n",
      "Email Link Clicked               173\n",
      "Email Bounced                     60\n",
      "Unsubscribed                      47\n",
      "Unreachable                       32\n",
      "Had a Phone Conversation          14\n",
      "Email Marked Spam                  2\n",
      "Email Received                     1\n",
      "Resubscribed to emails             1\n",
      "Form Submitted on Website          1\n",
      "View in browser link Clicked       1\n",
      "Approached upfront                 1\n",
      "Name: Last Notable Activity, dtype: int64\n",
      "---------------------------------------\n"
     ]
    }
   ],
   "source": [
    "# Checking value counts for all categorial variables\n",
    "for column in leads.select_dtypes('object').columns:\n",
    "    pattern = '\\n---------------------------------------\\n'\n",
    "    print(leads[column].value_counts(), end=pattern)"
   ]
  },
  {
   "cell_type": "code",
   "execution_count": 11,
   "id": "6afaef98",
   "metadata": {},
   "outputs": [
    {
     "data": {
      "image/png": "[encoded data removed]",
      "text/plain": [
       "<Figure size 1080x4320 with 24 Axes>"
      ]
     },
     "metadata": {},
     "output_type": "display_data"
    }
   ],
   "source": [
    "# Plotting categorical features\n",
    "sns.set_style('whitegrid')\n",
    "ncols = 2\n",
    "col_subplots = leads.select_dtypes('object').columns\n",
    "nrows = (len(col_subplots) + ncols - 1) // ncols\n",
    "fix, axes = plt.subplots(ncols=ncols, nrows=nrows, figsize=(7.5 * ncols, 5 * nrows), sharey=True)\n",
    "axes_it = axes.flat\n",
    "\n",
    "# Loop through categorical features\n",
    "for column, ax in zip(col_subplots, axes_it):\n",
    "    counts = leads[column].value_counts()\n",
    "    ax.set_title('Plotting Feature- '+ column, fontsize=18)\n",
    "    counts.plot.bar(ax=ax, stacked=True, rot=90)\n",
    "\n",
    "# If number of columns not multiple of ncols, hide remaining axes\n",
    "for ax in axes_it:\n",
    "    ax.axis('off')\n",
    "    \n",
    "# Plot\n",
    "fix.tight_layout()\n",
    "plt.show()"
   ]
  },
  {
   "cell_type": "markdown",
   "id": "90cc287f",
   "metadata": {},
   "source": [
    "Clearly, there are many features like `Magazine, Search, Newspaper, etc.` in which only one value is majorly present for all the data points, lets drop these features as they have no or low variance."
   ]
  },
  {
   "cell_type": "code",
   "execution_count": 12,
   "id": "c764bbe5",
   "metadata": {},
   "outputs": [],
   "source": [
    "# Dropping columns\n",
    "leads.drop(['Do Not Call','Magazine','Search','Newspaper Article','Newspaper','Digital Advertisement','Through Recommendations',\n",
    "            'Receive More Updates About Our Courses','Update me on Supply Chain Content','Get updates on DM Content',\n",
    "            'I agree to pay the amount through cheque','X Education Forums'], axis=1, inplace=True)"
   ]
  },
  {
   "cell_type": "code",
   "execution_count": 13,
   "id": "1eee7e84",
   "metadata": {},
   "outputs": [
    {
     "data": {
      "text/plain": [
       "What matters most to you in choosing a course    29.32\n",
       "Lead Profile                                     29.32\n",
       "What is your current occupation                  29.11\n",
       "How did you hear about X Education               23.89\n",
       "Specialization                                   15.56\n",
       "TotalVisits                                       1.48\n",
       "Page Views Per Visit                              1.48\n",
       "Last Activity                                     1.11\n",
       "Lead Source                                       0.39\n",
       "Lead Origin                                       0.00\n",
       "dtype: float64"
      ]
     },
     "execution_count": 13,
     "metadata": {},
     "output_type": "execute_result"
    }
   ],
   "source": [
    "# Checking the percentage of missing values\n",
    "round(100*(leads.isnull().sum().sort_values(ascending=False)/leads.shape[0]), 2).head(10)"
   ]
  },
  {
   "cell_type": "code",
   "execution_count": 14,
   "id": "6088a9bd",
   "metadata": {},
   "outputs": [],
   "source": [
    "# Helper function to plot countplot\n",
    "def plot_countplot(column, rot=90):\n",
    "    sns.countplot(x=column, data=leads)\n",
    "    plt.xticks(rotation=rot);"
   ]
  },
  {
   "cell_type": "code",
   "execution_count": 15,
   "id": "b2cfd2a6",
   "metadata": {},
   "outputs": [
    {
     "data": {
      "image/png": "[encoded data removed]",
      "text/plain": [
       "<Figure size 432x288 with 1 Axes>"
      ]
     },
     "metadata": {},
     "output_type": "display_data"
    }
   ],
   "source": [
    "# Check What matters most to you in choosing a course feature\n",
    "plot_countplot('What matters most to you in choosing a course')"
   ]
  },
  {
   "cell_type": "markdown",
   "id": "9d2770a6",
   "metadata": {},
   "source": [
    "As feature `What matters most to you in choosing a course` has no variance, we will drop this as well."
   ]
  },
  {
   "cell_type": "code",
   "execution_count": 16,
   "id": "4e2d9562",
   "metadata": {},
   "outputs": [],
   "source": [
    "# Dropping feature\n",
    "leads.drop('What matters most to you in choosing a course', axis=1, inplace=True)"
   ]
  },
  {
   "cell_type": "code",
   "execution_count": 17,
   "id": "00f3cd4b",
   "metadata": {},
   "outputs": [
    {
     "data": {
      "image/png": "[encoded data removed]",
      "text/plain": [
       "<Figure size 432x288 with 1 Axes>"
      ]
     },
     "metadata": {},
     "output_type": "display_data"
    }
   ],
   "source": [
    "# Check Lead Profile feature\n",
    "plot_countplot('Lead Profile')"
   ]
  },
  {
   "cell_type": "code",
   "execution_count": 18,
   "id": "3858789d",
   "metadata": {},
   "outputs": [
    {
     "data": {
      "text/plain": [
       "0.45"
      ]
     },
     "execution_count": 18,
     "metadata": {},
     "output_type": "execute_result"
    }
   ],
   "source": [
    "# Calculate Select column percentage\n",
    "round(len(leads[leads['Lead Profile']=='Select'])/len(leads.index),2)"
   ]
  },
  {
   "cell_type": "markdown",
   "id": "28869498",
   "metadata": {},
   "source": [
    "Now interestingly, feature `Lead Profile` has 29.32% missing data already. Now `Select` values is as good as missing value, so commulative missing value percent for this feature comes out to be `74.32%`, hence dropping this feature."
   ]
  },
  {
   "cell_type": "code",
   "execution_count": 19,
   "id": "9e8ddef0",
   "metadata": {},
   "outputs": [],
   "source": [
    "# Dropping feature\n",
    "leads.drop('Lead Profile', axis=1, inplace=True)"
   ]
  },
  {
   "cell_type": "code",
   "execution_count": 20,
   "id": "bbc6cc24",
   "metadata": {},
   "outputs": [
    {
     "data": {
      "image/png": "[encoded data removed]",
      "text/plain": [
       "<Figure size 432x288 with 1 Axes>"
      ]
     },
     "metadata": {},
     "output_type": "display_data"
    }
   ],
   "source": [
    "# Check How did you hear about X Education feature\n",
    "plot_countplot('How did you hear about X Education')"
   ]
  },
  {
   "cell_type": "code",
   "execution_count": 21,
   "id": "87882c9d",
   "metadata": {},
   "outputs": [
    {
     "data": {
      "text/plain": [
       "0.55"
      ]
     },
     "execution_count": 21,
     "metadata": {},
     "output_type": "execute_result"
    }
   ],
   "source": [
    "# Calculate Select column percentage\n",
    "round(len(leads[leads['How did you hear about X Education']=='Select'])/len(leads.index),2)"
   ]
  },
  {
   "cell_type": "markdown",
   "id": "ae198b36",
   "metadata": {},
   "source": [
    "Similarly, commulative missing value percent for this feature comes out to be `78.89%`, hence dropping this feature."
   ]
  },
  {
   "cell_type": "code",
   "execution_count": 22,
   "id": "150e256b",
   "metadata": {},
   "outputs": [],
   "source": [
    "# Dropping feature\n",
    "leads.drop('How did you hear about X Education', axis=1, inplace=True) "
   ]
  },
  {
   "cell_type": "code",
   "execution_count": 23,
   "id": "f802f078",
   "metadata": {},
   "outputs": [
    {
     "data": {
      "text/plain": [
       "What is your current occupation           29.11\n",
       "Specialization                            15.56\n",
       "TotalVisits                                1.48\n",
       "Page Views Per Visit                       1.48\n",
       "Last Activity                              1.11\n",
       "Lead Source                                0.39\n",
       "Lead Origin                                0.00\n",
       "Do Not Email                               0.00\n",
       "Converted                                  0.00\n",
       "Total Time Spent on Website                0.00\n",
       "A free copy of Mastering The Interview     0.00\n",
       "Last Notable Activity                      0.00\n",
       "dtype: float64"
      ]
     },
     "execution_count": 23,
     "metadata": {},
     "output_type": "execute_result"
    }
   ],
   "source": [
    "# Checking the percentage of missing values\n",
    "round(100*(leads.isnull().sum().sort_values(ascending=False)/leads.shape[0]),2)"
   ]
  },
  {
   "cell_type": "code",
   "execution_count": 24,
   "id": "4a71d047",
   "metadata": {},
   "outputs": [],
   "source": [
    "# Drop rows with null values\n",
    "leads = leads[~leads['What is your current occupation'].isnull()]\n",
    "leads = leads[~leads['TotalVisits'].isnull()]\n",
    "leads = leads[~leads['Lead Source'].isnull()]\n",
    "leads = leads[~leads['Specialization'].isnull()]"
   ]
  },
  {
   "cell_type": "code",
   "execution_count": 25,
   "id": "96559c1f",
   "metadata": {},
   "outputs": [
    {
     "data": {
      "text/plain": [
       "Lead Origin                               0\n",
       "Lead Source                               0\n",
       "Do Not Email                              0\n",
       "Converted                                 0\n",
       "TotalVisits                               0\n",
       "Total Time Spent on Website               0\n",
       "Page Views Per Visit                      0\n",
       "Last Activity                             0\n",
       "Specialization                            0\n",
       "What is your current occupation           0\n",
       "A free copy of Mastering The Interview    0\n",
       "Last Notable Activity                     0\n",
       "dtype: int64"
      ]
     },
     "execution_count": 25,
     "metadata": {},
     "output_type": "execute_result"
    }
   ],
   "source": [
    "# Check the number of missing values in each column\n",
    "leads.isnull().sum().sort_values(ascending=False)"
   ]
  },
  {
   "cell_type": "code",
   "execution_count": 26,
   "id": "dcd0fcc1",
   "metadata": {},
   "outputs": [
    {
     "data": {
      "text/plain": [
       "(6373, 12)"
      ]
     },
     "execution_count": 26,
     "metadata": {},
     "output_type": "execute_result"
    }
   ],
   "source": [
    "# Checking shape of dataset\n",
    "leads.shape"
   ]
  },
  {
   "cell_type": "code",
   "execution_count": 27,
   "id": "7eb1a831",
   "metadata": {},
   "outputs": [
    {
     "name": "stdout",
     "output_type": "stream",
     "text": [
      "69.0 %\n"
     ]
    }
   ],
   "source": [
    "# Data retension rate\n",
    "print('{0} %'.format(round(leads.shape[0]/9240,2)*100))"
   ]
  },
  {
   "cell_type": "markdown",
   "id": "9af8f633",
   "metadata": {},
   "source": [
    "### Handle Spceial `Select` Case"
   ]
  },
  {
   "cell_type": "code",
   "execution_count": 28,
   "id": "1a263d9f",
   "metadata": {},
   "outputs": [
    {
     "data": {
      "image/png": "[encoded data removed]",
      "text/plain": [
       "<Figure size 432x288 with 1 Axes>"
      ]
     },
     "metadata": {},
     "output_type": "display_data"
    }
   ],
   "source": [
    "# Checking Specialization feature\n",
    "plot_countplot('Specialization')"
   ]
  },
  {
   "cell_type": "code",
   "execution_count": 29,
   "id": "06f0d7c7",
   "metadata": {},
   "outputs": [
    {
     "data": {
      "text/plain": [
       "0.29"
      ]
     },
     "execution_count": 29,
     "metadata": {},
     "output_type": "execute_result"
    }
   ],
   "source": [
    "# Calculate Select column percentage\n",
    "round(len(leads[leads['Specialization']=='Select'])/len(leads.index),2)"
   ]
  },
  {
   "cell_type": "code",
   "execution_count": 30,
   "id": "a7335de9",
   "metadata": {},
   "outputs": [
    {
     "name": "stdout",
     "output_type": "stream",
     "text": [
      "49.0 %\n"
     ]
    }
   ],
   "source": [
    "# Data retention rate\n",
    "dummy_df = leads.copy()\n",
    "dummy_df['Specialization'] = dummy_df['Specialization'].replace('Select',np.nan)\n",
    "dummy_df = dummy_df[~dummy_df['Specialization'].isnull()]\n",
    "print('{0} %'.format(round(dummy_df.shape[0]/9240,2)*100))"
   ]
  },
  {
   "cell_type": "markdown",
   "id": "78821fc7",
   "metadata": {},
   "source": [
    "Here `Specialization` feature is significant, so dropping the data points with `Select` value will impact our data retension rate. So we will handle this in One-Hot Encdoding step."
   ]
  },
  {
   "cell_type": "markdown",
   "id": "8bd39161",
   "metadata": {},
   "source": [
    "### One-Hot Encoding"
   ]
  },
  {
   "cell_type": "code",
   "execution_count": 31,
   "id": "70fd768a",
   "metadata": {},
   "outputs": [
    {
     "data": {
      "text/plain": [
       "Index(['Lead Origin', 'Lead Source', 'Do Not Email', 'Last Activity',\n",
       "       'Specialization', 'What is your current occupation',\n",
       "       'A free copy of Mastering The Interview', 'Last Notable Activity'],\n",
       "      dtype='object')"
      ]
     },
     "execution_count": 31,
     "metadata": {},
     "output_type": "execute_result"
    }
   ],
   "source": [
    "# View categorical variables\n",
    "leads.loc[:, leads.dtypes=='object'].columns"
   ]
  },
  {
   "cell_type": "code",
   "execution_count": 32,
   "id": "7d563af6",
   "metadata": {},
   "outputs": [],
   "source": [
    "# Create dummy variables using the 'get_dummies' function\n",
    "dummy = pd.get_dummies(leads[['Lead Origin', 'Lead Source', 'Do Not Email', 'Last Activity',\n",
    "                              'What is your current occupation','A free copy of Mastering The Interview', \n",
    "                              'Last Notable Activity']], drop_first=True)\n",
    "\n",
    "# Add the results to the master dataframe\n",
    "leads = pd.concat([leads, dummy], axis=1)"
   ]
  },
  {
   "cell_type": "code",
   "execution_count": 33,
   "id": "22bc942b",
   "metadata": {},
   "outputs": [],
   "source": [
    "# Creating dummy variable separately for the variable 'Specialization'\n",
    "dummy_spl = pd.get_dummies(leads['Specialization'], prefix = 'Specialization')\n",
    "dummy_spl = dummy_spl.drop(['Specialization_Select'], 1)\n",
    "leads = pd.concat([leads, dummy_spl], axis=1)"
   ]
  },
  {
   "cell_type": "code",
   "execution_count": 34,
   "id": "265dc18f",
   "metadata": {},
   "outputs": [],
   "source": [
    "# Drop the variables for which the dummy variables have been created\n",
    "leads = leads.drop(['Lead Origin', 'Lead Source', 'Do Not Email', 'Last Activity',\n",
    "                   'Specialization', 'What is your current occupation',\n",
    "                   'A free copy of Mastering The Interview', 'Last Notable Activity'], 1)"
   ]
  },
  {
   "cell_type": "code",
   "execution_count": 35,
   "id": "628fe899",
   "metadata": {},
   "outputs": [
    {
     "data": {
      "text/plain": [
       "(6373, 75)"
      ]
     },
     "execution_count": 35,
     "metadata": {},
     "output_type": "execute_result"
    }
   ],
   "source": [
    "# Checking shape\n",
    "leads.shape"
   ]
  },
  {
   "cell_type": "markdown",
   "id": "55ef0129",
   "metadata": {},
   "source": [
    "## Outlier Treatment"
   ]
  },
  {
   "cell_type": "code",
   "execution_count": 36,
   "id": "920a0d99",
   "metadata": {},
   "outputs": [
    {
     "data": {
      "text/html": [
       "<div>\n",
       "<style scoped>\n",
       "    .dataframe tbody tr th:only-of-type {\n",
       "        vertical-align: middle;\n",
       "    }\n",
       "\n",
       "    .dataframe tbody tr th {\n",
       "        vertical-align: top;\n",
       "    }\n",
       "\n",
       "    .dataframe thead th {\n",
       "        text-align: right;\n",
       "    }\n",
       "</style>\n",
       "<table border=\"1\" class=\"dataframe\">\n",
       "  <thead>\n",
       "    <tr style=\"text-align: right;\">\n",
       "      <th></th>\n",
       "      <th>TotalVisits</th>\n",
       "      <th>Page Views Per Visit</th>\n",
       "      <th>Total Time Spent on Website</th>\n",
       "    </tr>\n",
       "  </thead>\n",
       "  <tbody>\n",
       "    <tr>\n",
       "      <th>count</th>\n",
       "      <td>6373.000000</td>\n",
       "      <td>6373.000000</td>\n",
       "      <td>6373.000000</td>\n",
       "    </tr>\n",
       "    <tr>\n",
       "      <th>mean</th>\n",
       "      <td>3.624196</td>\n",
       "      <td>2.480464</td>\n",
       "      <td>535.224541</td>\n",
       "    </tr>\n",
       "    <tr>\n",
       "      <th>std</th>\n",
       "      <td>5.048555</td>\n",
       "      <td>2.167364</td>\n",
       "      <td>565.374753</td>\n",
       "    </tr>\n",
       "    <tr>\n",
       "      <th>min</th>\n",
       "      <td>0.000000</td>\n",
       "      <td>0.000000</td>\n",
       "      <td>0.000000</td>\n",
       "    </tr>\n",
       "    <tr>\n",
       "      <th>25%</th>\n",
       "      <td>1.000000</td>\n",
       "      <td>1.000000</td>\n",
       "      <td>34.000000</td>\n",
       "    </tr>\n",
       "    <tr>\n",
       "      <th>50%</th>\n",
       "      <td>3.000000</td>\n",
       "      <td>2.000000</td>\n",
       "      <td>287.000000</td>\n",
       "    </tr>\n",
       "    <tr>\n",
       "      <th>75%</th>\n",
       "      <td>5.000000</td>\n",
       "      <td>3.500000</td>\n",
       "      <td>1022.000000</td>\n",
       "    </tr>\n",
       "    <tr>\n",
       "      <th>90%</th>\n",
       "      <td>8.000000</td>\n",
       "      <td>5.000000</td>\n",
       "      <td>1428.800000</td>\n",
       "    </tr>\n",
       "    <tr>\n",
       "      <th>95%</th>\n",
       "      <td>10.000000</td>\n",
       "      <td>6.000000</td>\n",
       "      <td>1592.400000</td>\n",
       "    </tr>\n",
       "    <tr>\n",
       "      <th>99%</th>\n",
       "      <td>18.000000</td>\n",
       "      <td>9.000000</td>\n",
       "      <td>1849.280000</td>\n",
       "    </tr>\n",
       "    <tr>\n",
       "      <th>max</th>\n",
       "      <td>251.000000</td>\n",
       "      <td>55.000000</td>\n",
       "      <td>2272.000000</td>\n",
       "    </tr>\n",
       "  </tbody>\n",
       "</table>\n",
       "</div>"
      ],
      "text/plain": [
       "       TotalVisits  Page Views Per Visit  Total Time Spent on Website\n",
       "count  6373.000000           6373.000000                  6373.000000\n",
       "mean      3.624196              2.480464                   535.224541\n",
       "std       5.048555              2.167364                   565.374753\n",
       "min       0.000000              0.000000                     0.000000\n",
       "25%       1.000000              1.000000                    34.000000\n",
       "50%       3.000000              2.000000                   287.000000\n",
       "75%       5.000000              3.500000                  1022.000000\n",
       "90%       8.000000              5.000000                  1428.800000\n",
       "95%      10.000000              6.000000                  1592.400000\n",
       "99%      18.000000              9.000000                  1849.280000\n",
       "max     251.000000             55.000000                  2272.000000"
      ]
     },
     "execution_count": 36,
     "metadata": {},
     "output_type": "execute_result"
    }
   ],
   "source": [
    "# View statistical details\n",
    "leads[['TotalVisits','Page Views Per Visit','Total Time Spent on Website']].describe(percentiles=[.25, .5, .75, .90, .95, .99])"
   ]
  },
  {
   "cell_type": "markdown",
   "id": "52124a30",
   "metadata": {},
   "source": [
    "There are some outliers present for features `TotalVisits and Page Views Per Visit` as `99%` and `max` values have huge difference. Let handle outliers"
   ]
  },
  {
   "cell_type": "code",
   "execution_count": 37,
   "id": "eb681d1d",
   "metadata": {},
   "outputs": [
    {
     "data": {
      "image/png": "[encoded data removed]",
      "text/plain": [
       "<Figure size 864x216 with 1 Axes>"
      ]
     },
     "metadata": {},
     "output_type": "display_data"
    }
   ],
   "source": [
    "# Plot boxplot\n",
    "plt.figure(figsize=(12,3))\n",
    "sns.boxplot(leads['TotalVisits']);"
   ]
  },
  {
   "cell_type": "code",
   "execution_count": 38,
   "id": "f0954aaa",
   "metadata": {},
   "outputs": [
    {
     "data": {
      "image/png": "[encoded data removed]",
      "text/plain": [
       "<Figure size 864x216 with 1 Axes>"
      ]
     },
     "metadata": {},
     "output_type": "display_data"
    }
   ],
   "source": [
    "# Plot boxplot\n",
    "plt.figure(figsize=(12,3))\n",
    "sns.boxplot(leads['Page Views Per Visit']);"
   ]
  },
  {
   "cell_type": "code",
   "execution_count": 39,
   "id": "f77d5ffd",
   "metadata": {},
   "outputs": [
    {
     "data": {
      "image/png": "[encoded data removed]",
      "text/plain": [
       "<Figure size 864x216 with 1 Axes>"
      ]
     },
     "metadata": {},
     "output_type": "display_data"
    }
   ],
   "source": [
    "# Exclude value outside of 99th percentile \n",
    "leads = leads[leads['TotalVisits'] < np.nanpercentile(leads['TotalVisits'], 99)]\n",
    "plt.figure(figsize=(12,3))\n",
    "sns.boxplot(leads['TotalVisits']);"
   ]
  },
  {
   "cell_type": "code",
   "execution_count": 40,
   "id": "8498eea7",
   "metadata": {},
   "outputs": [
    {
     "data": {
      "image/png": "[encoded data removed]",
      "text/plain": [
       "<Figure size 864x216 with 1 Axes>"
      ]
     },
     "metadata": {},
     "output_type": "display_data"
    }
   ],
   "source": [
    "# Exclude value outside of 99th percentile \n",
    "leads = leads[leads['Page Views Per Visit'] < np.nanpercentile(leads['Page Views Per Visit'], 99)]\n",
    "plt.figure(figsize=(12,3))\n",
    "sns.boxplot(leads['Page Views Per Visit']);"
   ]
  },
  {
   "cell_type": "code",
   "execution_count": 41,
   "id": "5e0704fc",
   "metadata": {},
   "outputs": [
    {
     "name": "stdout",
     "output_type": "stream",
     "text": [
      "67.0 %\n"
     ]
    }
   ],
   "source": [
    "# Data retension rate\n",
    "print('{0} %'.format(round(leads.shape[0]/9240,2)*100))"
   ]
  },
  {
   "cell_type": "markdown",
   "id": "d7870963",
   "metadata": {},
   "source": [
    "So there is not much significant reduction in the data i.e. 69% to 67%."
   ]
  },
  {
   "cell_type": "code",
   "execution_count": 42,
   "id": "a0a451ac",
   "metadata": {},
   "outputs": [
    {
     "data": {
      "text/plain": [
       "(6226, 75)"
      ]
     },
     "execution_count": 42,
     "metadata": {},
     "output_type": "execute_result"
    }
   ],
   "source": [
    "# Check shape\n",
    "leads.shape"
   ]
  },
  {
   "cell_type": "markdown",
   "id": "53081302",
   "metadata": {},
   "source": [
    "## Test-Train Split"
   ]
  },
  {
   "cell_type": "code",
   "execution_count": 43,
   "id": "1b7fdfcd",
   "metadata": {},
   "outputs": [],
   "source": [
    "# Putting feature variable to X\n",
    "X = leads.drop(['Converted'], axis=1)\n",
    "\n",
    "# Putting response variable to y\n",
    "y = leads['Converted']"
   ]
  },
  {
   "cell_type": "code",
   "execution_count": 44,
   "id": "ec0b03b2",
   "metadata": {},
   "outputs": [],
   "source": [
    "# Splitting the data into train and test\n",
    "X_train, X_test, y_train, y_test = train_test_split(X, y, train_size=0.7, test_size=0.3, random_state=100)"
   ]
  },
  {
   "cell_type": "code",
   "execution_count": 45,
   "id": "b8256b6e",
   "metadata": {},
   "outputs": [
    {
     "name": "stdout",
     "output_type": "stream",
     "text": [
      "(4358, 74)\n",
      "(1868, 74)\n",
      "(4358,)\n",
      "(1868,)\n"
     ]
    }
   ],
   "source": [
    "# Checking shape\n",
    "print(X_train.shape)\n",
    "print(X_test.shape)\n",
    "print(y_train.shape)\n",
    "print(y_test.shape)"
   ]
  },
  {
   "cell_type": "markdown",
   "id": "78b94aaf",
   "metadata": {},
   "source": [
    "## Feature Scaling"
   ]
  },
  {
   "cell_type": "code",
   "execution_count": 46,
   "id": "c20f6fb9",
   "metadata": {},
   "outputs": [
    {
     "data": {
      "text/html": [
       "<div>\n",
       "<style scoped>\n",
       "    .dataframe tbody tr th:only-of-type {\n",
       "        vertical-align: middle;\n",
       "    }\n",
       "\n",
       "    .dataframe tbody tr th {\n",
       "        vertical-align: top;\n",
       "    }\n",
       "\n",
       "    .dataframe thead th {\n",
       "        text-align: right;\n",
       "    }\n",
       "</style>\n",
       "<table border=\"1\" class=\"dataframe\">\n",
       "  <thead>\n",
       "    <tr style=\"text-align: right;\">\n",
       "      <th></th>\n",
       "      <th>Converted</th>\n",
       "      <th>TotalVisits</th>\n",
       "      <th>Total Time Spent on Website</th>\n",
       "      <th>Page Views Per Visit</th>\n",
       "      <th>Lead Origin_Landing Page Submission</th>\n",
       "      <th>Lead Origin_Lead Add Form</th>\n",
       "      <th>Lead Origin_Lead Import</th>\n",
       "      <th>Lead Source_Direct Traffic</th>\n",
       "      <th>Lead Source_Facebook</th>\n",
       "      <th>Lead Source_Google</th>\n",
       "      <th>...</th>\n",
       "      <th>Specialization_IT Projects Management</th>\n",
       "      <th>Specialization_International Business</th>\n",
       "      <th>Specialization_Marketing Management</th>\n",
       "      <th>Specialization_Media and Advertising</th>\n",
       "      <th>Specialization_Operations Management</th>\n",
       "      <th>Specialization_Retail Management</th>\n",
       "      <th>Specialization_Rural and Agribusiness</th>\n",
       "      <th>Specialization_Services Excellence</th>\n",
       "      <th>Specialization_Supply Chain Management</th>\n",
       "      <th>Specialization_Travel and Tourism</th>\n",
       "    </tr>\n",
       "  </thead>\n",
       "  <tbody>\n",
       "    <tr>\n",
       "      <th>0</th>\n",
       "      <td>0</td>\n",
       "      <td>0.0</td>\n",
       "      <td>0</td>\n",
       "      <td>0.0</td>\n",
       "      <td>0</td>\n",
       "      <td>0</td>\n",
       "      <td>0</td>\n",
       "      <td>0</td>\n",
       "      <td>0</td>\n",
       "      <td>0</td>\n",
       "      <td>...</td>\n",
       "      <td>0</td>\n",
       "      <td>0</td>\n",
       "      <td>0</td>\n",
       "      <td>0</td>\n",
       "      <td>0</td>\n",
       "      <td>0</td>\n",
       "      <td>0</td>\n",
       "      <td>0</td>\n",
       "      <td>0</td>\n",
       "      <td>0</td>\n",
       "    </tr>\n",
       "    <tr>\n",
       "      <th>1</th>\n",
       "      <td>0</td>\n",
       "      <td>5.0</td>\n",
       "      <td>674</td>\n",
       "      <td>2.5</td>\n",
       "      <td>0</td>\n",
       "      <td>0</td>\n",
       "      <td>0</td>\n",
       "      <td>0</td>\n",
       "      <td>0</td>\n",
       "      <td>0</td>\n",
       "      <td>...</td>\n",
       "      <td>0</td>\n",
       "      <td>0</td>\n",
       "      <td>0</td>\n",
       "      <td>0</td>\n",
       "      <td>0</td>\n",
       "      <td>0</td>\n",
       "      <td>0</td>\n",
       "      <td>0</td>\n",
       "      <td>0</td>\n",
       "      <td>0</td>\n",
       "    </tr>\n",
       "    <tr>\n",
       "      <th>2</th>\n",
       "      <td>1</td>\n",
       "      <td>2.0</td>\n",
       "      <td>1532</td>\n",
       "      <td>2.0</td>\n",
       "      <td>1</td>\n",
       "      <td>0</td>\n",
       "      <td>0</td>\n",
       "      <td>1</td>\n",
       "      <td>0</td>\n",
       "      <td>0</td>\n",
       "      <td>...</td>\n",
       "      <td>0</td>\n",
       "      <td>0</td>\n",
       "      <td>0</td>\n",
       "      <td>0</td>\n",
       "      <td>0</td>\n",
       "      <td>0</td>\n",
       "      <td>0</td>\n",
       "      <td>0</td>\n",
       "      <td>0</td>\n",
       "      <td>0</td>\n",
       "    </tr>\n",
       "    <tr>\n",
       "      <th>3</th>\n",
       "      <td>0</td>\n",
       "      <td>1.0</td>\n",
       "      <td>305</td>\n",
       "      <td>1.0</td>\n",
       "      <td>1</td>\n",
       "      <td>0</td>\n",
       "      <td>0</td>\n",
       "      <td>1</td>\n",
       "      <td>0</td>\n",
       "      <td>0</td>\n",
       "      <td>...</td>\n",
       "      <td>0</td>\n",
       "      <td>0</td>\n",
       "      <td>0</td>\n",
       "      <td>1</td>\n",
       "      <td>0</td>\n",
       "      <td>0</td>\n",
       "      <td>0</td>\n",
       "      <td>0</td>\n",
       "      <td>0</td>\n",
       "      <td>0</td>\n",
       "    </tr>\n",
       "    <tr>\n",
       "      <th>4</th>\n",
       "      <td>1</td>\n",
       "      <td>2.0</td>\n",
       "      <td>1428</td>\n",
       "      <td>1.0</td>\n",
       "      <td>1</td>\n",
       "      <td>0</td>\n",
       "      <td>0</td>\n",
       "      <td>0</td>\n",
       "      <td>0</td>\n",
       "      <td>1</td>\n",
       "      <td>...</td>\n",
       "      <td>0</td>\n",
       "      <td>0</td>\n",
       "      <td>0</td>\n",
       "      <td>0</td>\n",
       "      <td>0</td>\n",
       "      <td>0</td>\n",
       "      <td>0</td>\n",
       "      <td>0</td>\n",
       "      <td>0</td>\n",
       "      <td>0</td>\n",
       "    </tr>\n",
       "  </tbody>\n",
       "</table>\n",
       "<p>5 rows × 75 columns</p>\n",
       "</div>"
      ],
      "text/plain": [
       "   Converted  TotalVisits  Total Time Spent on Website  Page Views Per Visit  \\\n",
       "0          0          0.0                            0                   0.0   \n",
       "1          0          5.0                          674                   2.5   \n",
       "2          1          2.0                         1532                   2.0   \n",
       "3          0          1.0                          305                   1.0   \n",
       "4          1          2.0                         1428                   1.0   \n",
       "\n",
       "   Lead Origin_Landing Page Submission  Lead Origin_Lead Add Form  \\\n",
       "0                                    0                          0   \n",
       "1                                    0                          0   \n",
       "2                                    1                          0   \n",
       "3                                    1                          0   \n",
       "4                                    1                          0   \n",
       "\n",
       "   Lead Origin_Lead Import  Lead Source_Direct Traffic  Lead Source_Facebook  \\\n",
       "0                        0                           0                     0   \n",
       "1                        0                           0                     0   \n",
       "2                        0                           1                     0   \n",
       "3                        0                           1                     0   \n",
       "4                        0                           0                     0   \n",
       "\n",
       "   Lead Source_Google  ...  Specialization_IT Projects Management  \\\n",
       "0                   0  ...                                      0   \n",
       "1                   0  ...                                      0   \n",
       "2                   0  ...                                      0   \n",
       "3                   0  ...                                      0   \n",
       "4                   1  ...                                      0   \n",
       "\n",
       "   Specialization_International Business  Specialization_Marketing Management  \\\n",
       "0                                      0                                    0   \n",
       "1                                      0                                    0   \n",
       "2                                      0                                    0   \n",
       "3                                      0                                    0   \n",
       "4                                      0                                    0   \n",
       "\n",
       "   Specialization_Media and Advertising  Specialization_Operations Management  \\\n",
       "0                                     0                                     0   \n",
       "1                                     0                                     0   \n",
       "2                                     0                                     0   \n",
       "3                                     1                                     0   \n",
       "4                                     0                                     0   \n",
       "\n",
       "   Specialization_Retail Management  Specialization_Rural and Agribusiness  \\\n",
       "0                                 0                                      0   \n",
       "1                                 0                                      0   \n",
       "2                                 0                                      0   \n",
       "3                                 0                                      0   \n",
       "4                                 0                                      0   \n",
       "\n",
       "   Specialization_Services Excellence  Specialization_Supply Chain Management  \\\n",
       "0                                   0                                       0   \n",
       "1                                   0                                       0   \n",
       "2                                   0                                       0   \n",
       "3                                   0                                       0   \n",
       "4                                   0                                       0   \n",
       "\n",
       "   Specialization_Travel and Tourism  \n",
       "0                                  0  \n",
       "1                                  0  \n",
       "2                                  0  \n",
       "3                                  0  \n",
       "4                                  0  \n",
       "\n",
       "[5 rows x 75 columns]"
      ]
     },
     "execution_count": 46,
     "metadata": {},
     "output_type": "execute_result"
    }
   ],
   "source": [
    "# View top 5 rows\n",
    "leads.head()"
   ]
  },
  {
   "cell_type": "markdown",
   "id": "65a956aa",
   "metadata": {},
   "source": [
    "Since our traget variable is of binary type hence using MinMaxScalar"
   ]
  },
  {
   "cell_type": "code",
   "execution_count": 47,
   "id": "79e07a5c",
   "metadata": {},
   "outputs": [
    {
     "data": {
      "text/html": [
       "<div>\n",
       "<style scoped>\n",
       "    .dataframe tbody tr th:only-of-type {\n",
       "        vertical-align: middle;\n",
       "    }\n",
       "\n",
       "    .dataframe tbody tr th {\n",
       "        vertical-align: top;\n",
       "    }\n",
       "\n",
       "    .dataframe thead th {\n",
       "        text-align: right;\n",
       "    }\n",
       "</style>\n",
       "<table border=\"1\" class=\"dataframe\">\n",
       "  <thead>\n",
       "    <tr style=\"text-align: right;\">\n",
       "      <th></th>\n",
       "      <th>TotalVisits</th>\n",
       "      <th>Total Time Spent on Website</th>\n",
       "      <th>Page Views Per Visit</th>\n",
       "      <th>Lead Origin_Landing Page Submission</th>\n",
       "      <th>Lead Origin_Lead Add Form</th>\n",
       "      <th>Lead Origin_Lead Import</th>\n",
       "      <th>Lead Source_Direct Traffic</th>\n",
       "      <th>Lead Source_Facebook</th>\n",
       "      <th>Lead Source_Google</th>\n",
       "      <th>Lead Source_Live Chat</th>\n",
       "      <th>...</th>\n",
       "      <th>Specialization_IT Projects Management</th>\n",
       "      <th>Specialization_International Business</th>\n",
       "      <th>Specialization_Marketing Management</th>\n",
       "      <th>Specialization_Media and Advertising</th>\n",
       "      <th>Specialization_Operations Management</th>\n",
       "      <th>Specialization_Retail Management</th>\n",
       "      <th>Specialization_Rural and Agribusiness</th>\n",
       "      <th>Specialization_Services Excellence</th>\n",
       "      <th>Specialization_Supply Chain Management</th>\n",
       "      <th>Specialization_Travel and Tourism</th>\n",
       "    </tr>\n",
       "  </thead>\n",
       "  <tbody>\n",
       "    <tr>\n",
       "      <th>4305</th>\n",
       "      <td>0.352941</td>\n",
       "      <td>0.164173</td>\n",
       "      <td>0.705882</td>\n",
       "      <td>1</td>\n",
       "      <td>0</td>\n",
       "      <td>0</td>\n",
       "      <td>0</td>\n",
       "      <td>0</td>\n",
       "      <td>1</td>\n",
       "      <td>0</td>\n",
       "      <td>...</td>\n",
       "      <td>0</td>\n",
       "      <td>0</td>\n",
       "      <td>0</td>\n",
       "      <td>0</td>\n",
       "      <td>0</td>\n",
       "      <td>0</td>\n",
       "      <td>0</td>\n",
       "      <td>0</td>\n",
       "      <td>0</td>\n",
       "      <td>0</td>\n",
       "    </tr>\n",
       "    <tr>\n",
       "      <th>2675</th>\n",
       "      <td>0.000000</td>\n",
       "      <td>0.000000</td>\n",
       "      <td>0.000000</td>\n",
       "      <td>0</td>\n",
       "      <td>1</td>\n",
       "      <td>0</td>\n",
       "      <td>0</td>\n",
       "      <td>0</td>\n",
       "      <td>0</td>\n",
       "      <td>0</td>\n",
       "      <td>...</td>\n",
       "      <td>0</td>\n",
       "      <td>0</td>\n",
       "      <td>0</td>\n",
       "      <td>0</td>\n",
       "      <td>0</td>\n",
       "      <td>0</td>\n",
       "      <td>0</td>\n",
       "      <td>0</td>\n",
       "      <td>0</td>\n",
       "      <td>0</td>\n",
       "    </tr>\n",
       "    <tr>\n",
       "      <th>7045</th>\n",
       "      <td>0.000000</td>\n",
       "      <td>0.000000</td>\n",
       "      <td>0.000000</td>\n",
       "      <td>0</td>\n",
       "      <td>1</td>\n",
       "      <td>0</td>\n",
       "      <td>0</td>\n",
       "      <td>0</td>\n",
       "      <td>0</td>\n",
       "      <td>0</td>\n",
       "      <td>...</td>\n",
       "      <td>0</td>\n",
       "      <td>0</td>\n",
       "      <td>0</td>\n",
       "      <td>0</td>\n",
       "      <td>0</td>\n",
       "      <td>0</td>\n",
       "      <td>0</td>\n",
       "      <td>0</td>\n",
       "      <td>0</td>\n",
       "      <td>0</td>\n",
       "    </tr>\n",
       "    <tr>\n",
       "      <th>2027</th>\n",
       "      <td>0.294118</td>\n",
       "      <td>0.453345</td>\n",
       "      <td>0.588235</td>\n",
       "      <td>0</td>\n",
       "      <td>0</td>\n",
       "      <td>0</td>\n",
       "      <td>0</td>\n",
       "      <td>0</td>\n",
       "      <td>1</td>\n",
       "      <td>0</td>\n",
       "      <td>...</td>\n",
       "      <td>0</td>\n",
       "      <td>0</td>\n",
       "      <td>1</td>\n",
       "      <td>0</td>\n",
       "      <td>0</td>\n",
       "      <td>0</td>\n",
       "      <td>0</td>\n",
       "      <td>0</td>\n",
       "      <td>0</td>\n",
       "      <td>0</td>\n",
       "    </tr>\n",
       "    <tr>\n",
       "      <th>1410</th>\n",
       "      <td>0.294118</td>\n",
       "      <td>0.129401</td>\n",
       "      <td>0.588235</td>\n",
       "      <td>1</td>\n",
       "      <td>0</td>\n",
       "      <td>0</td>\n",
       "      <td>0</td>\n",
       "      <td>0</td>\n",
       "      <td>0</td>\n",
       "      <td>0</td>\n",
       "      <td>...</td>\n",
       "      <td>0</td>\n",
       "      <td>0</td>\n",
       "      <td>0</td>\n",
       "      <td>1</td>\n",
       "      <td>0</td>\n",
       "      <td>0</td>\n",
       "      <td>0</td>\n",
       "      <td>0</td>\n",
       "      <td>0</td>\n",
       "      <td>0</td>\n",
       "    </tr>\n",
       "  </tbody>\n",
       "</table>\n",
       "<p>5 rows × 74 columns</p>\n",
       "</div>"
      ],
      "text/plain": [
       "      TotalVisits  Total Time Spent on Website  Page Views Per Visit  \\\n",
       "4305     0.352941                     0.164173              0.705882   \n",
       "2675     0.000000                     0.000000              0.000000   \n",
       "7045     0.000000                     0.000000              0.000000   \n",
       "2027     0.294118                     0.453345              0.588235   \n",
       "1410     0.294118                     0.129401              0.588235   \n",
       "\n",
       "      Lead Origin_Landing Page Submission  Lead Origin_Lead Add Form  \\\n",
       "4305                                    1                          0   \n",
       "2675                                    0                          1   \n",
       "7045                                    0                          1   \n",
       "2027                                    0                          0   \n",
       "1410                                    1                          0   \n",
       "\n",
       "      Lead Origin_Lead Import  Lead Source_Direct Traffic  \\\n",
       "4305                        0                           0   \n",
       "2675                        0                           0   \n",
       "7045                        0                           0   \n",
       "2027                        0                           0   \n",
       "1410                        0                           0   \n",
       "\n",
       "      Lead Source_Facebook  Lead Source_Google  Lead Source_Live Chat  ...  \\\n",
       "4305                     0                   1                      0  ...   \n",
       "2675                     0                   0                      0  ...   \n",
       "7045                     0                   0                      0  ...   \n",
       "2027                     0                   1                      0  ...   \n",
       "1410                     0                   0                      0  ...   \n",
       "\n",
       "      Specialization_IT Projects Management  \\\n",
       "4305                                      0   \n",
       "2675                                      0   \n",
       "7045                                      0   \n",
       "2027                                      0   \n",
       "1410                                      0   \n",
       "\n",
       "      Specialization_International Business  \\\n",
       "4305                                      0   \n",
       "2675                                      0   \n",
       "7045                                      0   \n",
       "2027                                      0   \n",
       "1410                                      0   \n",
       "\n",
       "      Specialization_Marketing Management  \\\n",
       "4305                                    0   \n",
       "2675                                    0   \n",
       "7045                                    0   \n",
       "2027                                    1   \n",
       "1410                                    0   \n",
       "\n",
       "      Specialization_Media and Advertising  \\\n",
       "4305                                     0   \n",
       "2675                                     0   \n",
       "7045                                     0   \n",
       "2027                                     0   \n",
       "1410                                     1   \n",
       "\n",
       "      Specialization_Operations Management  Specialization_Retail Management  \\\n",
       "4305                                     0                                 0   \n",
       "2675                                     0                                 0   \n",
       "7045                                     0                                 0   \n",
       "2027                                     0                                 0   \n",
       "1410                                     0                                 0   \n",
       "\n",
       "      Specialization_Rural and Agribusiness  \\\n",
       "4305                                      0   \n",
       "2675                                      0   \n",
       "7045                                      0   \n",
       "2027                                      0   \n",
       "1410                                      0   \n",
       "\n",
       "      Specialization_Services Excellence  \\\n",
       "4305                                   0   \n",
       "2675                                   0   \n",
       "7045                                   0   \n",
       "2027                                   0   \n",
       "1410                                   0   \n",
       "\n",
       "      Specialization_Supply Chain Management  \\\n",
       "4305                                       0   \n",
       "2675                                       0   \n",
       "7045                                       0   \n",
       "2027                                       0   \n",
       "1410                                       0   \n",
       "\n",
       "      Specialization_Travel and Tourism  \n",
       "4305                                  0  \n",
       "2675                                  0  \n",
       "7045                                  0  \n",
       "2027                                  0  \n",
       "1410                                  0  \n",
       "\n",
       "[5 rows x 74 columns]"
      ]
     },
     "execution_count": 47,
     "metadata": {},
     "output_type": "execute_result"
    }
   ],
   "source": [
    "# Scale data\n",
    "scaler = MinMaxScaler()\n",
    "features = ['TotalVisits','Total Time Spent on Website','Page Views Per Visit']\n",
    "X_train[features] = scaler.fit_transform(X_train[features])\n",
    "X_train.head()"
   ]
  },
  {
   "cell_type": "markdown",
   "id": "25c75284",
   "metadata": {},
   "source": [
    "### Looking at the correlations"
   ]
  },
  {
   "cell_type": "code",
   "execution_count": 48,
   "id": "0bb2a271",
   "metadata": {},
   "outputs": [
    {
     "data": {
      "text/plain": [
       "TotalVisits                                           TotalVisits                                             1.000000\n",
       "Lead Origin_Lead Import                               Lead Source_Facebook                                    0.973216\n",
       "Last Activity_Unsubscribed                            Last Notable Activity_Unsubscribed                      0.898199\n",
       "Last Notable Activity_SMS Sent                        Last Activity_SMS Sent                                  0.891988\n",
       "Lead Source_Reference                                 Lead Origin_Lead Add Form                               0.875327\n",
       "Last Activity_Email Opened                            Last Notable Activity_Email Opened                      0.860237\n",
       "Last Activity_Had a Phone Conversation                Last Notable Activity_Had a Phone Conversation          0.831668\n",
       "Last Activity_Email Link Clicked                      Last Notable Activity_Email Link Clicked                0.792888\n",
       "Page Views Per Visit                                  TotalVisits                                             0.700118\n",
       "Last Activity_Page Visited on Website                 Last Notable Activity_Page Visited on Website           0.665764\n",
       "Last Activity_Email Bounced                           Do Not Email_Yes                                        0.605028\n",
       "A free copy of Mastering The Interview_Yes            Lead Source_Direct Traffic                              0.602324\n",
       "Last Activity_Unreachable                             Last Notable Activity_Unreachable                       0.563466\n",
       "A free copy of Mastering The Interview_Yes            Lead Origin_Landing Page Submission                     0.551231\n",
       "Lead Origin_Landing Page Submission                   Page Views Per Visit                                    0.521132\n",
       "Last Activity_Email Bounced                           Last Notable Activity_Email Bounced                     0.520320\n",
       "Lead Source_Direct Traffic                            Lead Origin_Landing Page Submission                     0.507656\n",
       "Lead Source_Welingak Website                          Lead Origin_Lead Add Form                               0.432298\n",
       "TotalVisits                                           Lead Origin_Landing Page Submission                     0.417059\n",
       "Last Notable Activity_Olark Chat Conversation         Last Activity_Olark Chat Conversation                   0.412700\n",
       "TotalVisits                                           Total Time Spent on Website                             0.351111\n",
       "Total Time Spent on Website                           Page Views Per Visit                                    0.346542\n",
       "Last Notable Activity_Email Bounced                   Do Not Email_Yes                                        0.335221\n",
       "Last Activity_Converted to Lead                       Last Notable Activity_Modified                          0.322701\n",
       "Last Activity_Olark Chat Conversation                 Last Notable Activity_Modified                          0.301686\n",
       "                                                      Lead Source_Olark Chat                                  0.300306\n",
       "Page Views Per Visit                                  Lead Source_Organic Search                              0.289949\n",
       "Lead Origin_Landing Page Submission                   Total Time Spent on Website                             0.286351\n",
       "Do Not Email_Yes                                      Last Activity_Unsubscribed                              0.280819\n",
       "Lead Source_Organic Search                            TotalVisits                                             0.272761\n",
       "Do Not Email_Yes                                      Last Notable Activity_Unsubscribed                      0.263057\n",
       "A free copy of Mastering The Interview_Yes            Page Views Per Visit                                    0.262739\n",
       "TotalVisits                                           A free copy of Mastering The Interview_Yes              0.258805\n",
       "Page Views Per Visit                                  Lead Source_Google                                      0.246254\n",
       "Total Time Spent on Website                           Lead Source_Google                                      0.229438\n",
       "Lead Source_Reference                                 What is your current occupation_Working Professional    0.225521\n",
       "TotalVisits                                           Lead Source_Google                                      0.189607\n",
       "Last Activity_Page Visited on Website                 TotalVisits                                             0.183160\n",
       "Last Notable Activity_Page Visited on Website         TotalVisits                                             0.182741\n",
       "What is your current occupation_Working Professional  Lead Origin_Lead Add Form                               0.177475\n",
       "Last Activity_Form Submitted on Website               Last Notable Activity_Modified                          0.173046\n",
       "Specialization_Finance Management                     Lead Origin_Landing Page Submission                     0.163504\n",
       "A free copy of Mastering The Interview_Yes            Total Time Spent on Website                             0.159563\n",
       "Last Activity_Email Bounced                           Last Notable Activity_Modified                          0.154023\n",
       "Lead Source_Direct Traffic                            Page Views Per Visit                                    0.144115\n",
       "Lead Origin_Landing Page Submission                   Specialization_Human Resource Management                0.140484\n",
       "                                                      Specialization_IT Projects Management                   0.137574\n",
       "A free copy of Mastering The Interview_Yes            Lead Source_Organic Search                              0.135690\n",
       "Specialization_Travel and Tourism                     Lead Source_Organic Search                              0.131378\n",
       "Last Activity_SMS Sent                                Lead Origin_Lead Add Form                               0.130818\n",
       "Last Activity_Page Visited on Website                 Last Notable Activity_Modified                          0.130028\n",
       "What is your current occupation_Working Professional  Last Activity_SMS Sent                                  0.128935\n",
       "Lead Source_Direct Traffic                            Total Time Spent on Website                             0.128137\n",
       "What is your current occupation_Working Professional  Last Notable Activity_SMS Sent                          0.127543\n",
       "Lead Source_Direct Traffic                            TotalVisits                                             0.116776\n",
       "Specialization_Travel and Tourism                     A free copy of Mastering The Interview_Yes              0.115973\n",
       "Specialization_Supply Chain Management                Lead Origin_Landing Page Submission                     0.109240\n",
       "Last Activity_SMS Sent                                Lead Source_Reference                                   0.104909\n",
       "What is your current occupation_Working Professional  Specialization_Operations Management                    0.103905\n",
       "Lead Origin_Landing Page Submission                   Specialization_Business Administration                  0.102186\n",
       "dtype: float64"
      ]
     },
     "execution_count": 48,
     "metadata": {},
     "output_type": "execute_result"
    }
   ],
   "source": [
    "# View top 60 correlations\n",
    "corr_df = X_train.corr()\n",
    "corr_df.unstack().sort_values(ascending=False).drop_duplicates().head(60)"
   ]
  },
  {
   "cell_type": "markdown",
   "id": "f1ec9c78",
   "metadata": {},
   "source": [
    "## Feature Selection Using RFE"
   ]
  },
  {
   "cell_type": "code",
   "execution_count": 49,
   "id": "5773e577",
   "metadata": {},
   "outputs": [],
   "source": [
    "# Instantiate LogisticRegression\n",
    "logreg = LogisticRegression()"
   ]
  },
  {
   "cell_type": "code",
   "execution_count": 50,
   "id": "98059be9",
   "metadata": {},
   "outputs": [],
   "source": [
    "# Running RFE with 20 variables as output\n",
    "rfe = RFE(logreg, 20)             \n",
    "rfe = rfe.fit(X_train, y_train)"
   ]
  },
  {
   "cell_type": "markdown",
   "id": "b697245e",
   "metadata": {},
   "source": [
    "## Model Building"
   ]
  },
  {
   "cell_type": "code",
   "execution_count": 51,
   "id": "ec39be30",
   "metadata": {},
   "outputs": [
    {
     "data": {
      "text/plain": [
       "Index(['TotalVisits', 'Total Time Spent on Website', 'Page Views Per Visit',\n",
       "       'Lead Origin_Lead Add Form', 'Lead Source_Direct Traffic',\n",
       "       'Lead Source_Olark Chat', 'Lead Source_Reference',\n",
       "       'Lead Source_Welingak Website', 'Do Not Email_Yes',\n",
       "       'Last Activity_Had a Phone Conversation',\n",
       "       'Last Activity_Olark Chat Conversation', 'Last Activity_SMS Sent',\n",
       "       'What is your current occupation_Housewife',\n",
       "       'What is your current occupation_Student',\n",
       "       'What is your current occupation_Unemployed',\n",
       "       'What is your current occupation_Working Professional',\n",
       "       'Last Notable Activity_Had a Phone Conversation',\n",
       "       'Last Notable Activity_Modified',\n",
       "       'Last Notable Activity_Page Visited on Website',\n",
       "       'Last Notable Activity_Unreachable'],\n",
       "      dtype='object')"
      ]
     },
     "execution_count": 51,
     "metadata": {},
     "output_type": "execute_result"
    }
   ],
   "source": [
    "# Get RFE selected features\n",
    "selected_features = X_train.columns[rfe.support_]\n",
    "selected_features"
   ]
  },
  {
   "cell_type": "code",
   "execution_count": 52,
   "id": "b89fdd1d",
   "metadata": {},
   "outputs": [
    {
     "data": {
      "text/html": [
       "<table class=\"simpletable\">\n",
       "<caption>Generalized Linear Model Regression Results</caption>\n",
       "<tr>\n",
       "  <th>Dep. Variable:</th>       <td>Converted</td>    <th>  No. Observations:  </th>  <td>  4358</td> \n",
       "</tr>\n",
       "<tr>\n",
       "  <th>Model:</th>                  <td>GLM</td>       <th>  Df Residuals:      </th>  <td>  4337</td> \n",
       "</tr>\n",
       "<tr>\n",
       "  <th>Model Family:</th>        <td>Binomial</td>     <th>  Df Model:          </th>  <td>    20</td> \n",
       "</tr>\n",
       "<tr>\n",
       "  <th>Link Function:</th>         <td>logit</td>      <th>  Scale:             </th> <td>  1.0000</td>\n",
       "</tr>\n",
       "<tr>\n",
       "  <th>Method:</th>                <td>IRLS</td>       <th>  Log-Likelihood:    </th> <td> -1939.3</td>\n",
       "</tr>\n",
       "<tr>\n",
       "  <th>Date:</th>            <td>Wed, 08 Dec 2021</td> <th>  Deviance:          </th> <td>  3878.6</td>\n",
       "</tr>\n",
       "<tr>\n",
       "  <th>Time:</th>                <td>22:29:15</td>     <th>  Pearson chi2:      </th> <td>4.45e+03</td>\n",
       "</tr>\n",
       "<tr>\n",
       "  <th>No. Iterations:</th>         <td>22</td>        <th>                     </th>     <td> </td>   \n",
       "</tr>\n",
       "<tr>\n",
       "  <th>Covariance Type:</th>     <td>nonrobust</td>    <th>                     </th>     <td> </td>   \n",
       "</tr>\n",
       "</table>\n",
       "<table class=\"simpletable\">\n",
       "<tr>\n",
       "                            <td></td>                              <th>coef</th>     <th>std err</th>      <th>z</th>      <th>P>|z|</th>  <th>[0.025</th>    <th>0.975]</th>  \n",
       "</tr>\n",
       "<tr>\n",
       "  <th>const</th>                                                <td>   -1.2791</td> <td>    0.743</td> <td>   -1.721</td> <td> 0.085</td> <td>   -2.736</td> <td>    0.178</td>\n",
       "</tr>\n",
       "<tr>\n",
       "  <th>TotalVisits</th>                                          <td>    1.8598</td> <td>    0.342</td> <td>    5.439</td> <td> 0.000</td> <td>    1.190</td> <td>    2.530</td>\n",
       "</tr>\n",
       "<tr>\n",
       "  <th>Total Time Spent on Website</th>                          <td>    4.5576</td> <td>    0.194</td> <td>   23.540</td> <td> 0.000</td> <td>    4.178</td> <td>    4.937</td>\n",
       "</tr>\n",
       "<tr>\n",
       "  <th>Page Views Per Visit</th>                                 <td>   -0.9731</td> <td>    0.289</td> <td>   -3.370</td> <td> 0.001</td> <td>   -1.539</td> <td>   -0.407</td>\n",
       "</tr>\n",
       "<tr>\n",
       "  <th>Lead Origin_Lead Add Form</th>                            <td>    2.1649</td> <td>    1.183</td> <td>    1.831</td> <td> 0.067</td> <td>   -0.153</td> <td>    4.483</td>\n",
       "</tr>\n",
       "<tr>\n",
       "  <th>Lead Source_Direct Traffic</th>                           <td>   -0.4255</td> <td>    0.095</td> <td>   -4.499</td> <td> 0.000</td> <td>   -0.611</td> <td>   -0.240</td>\n",
       "</tr>\n",
       "<tr>\n",
       "  <th>Lead Source_Olark Chat</th>                               <td>    1.4739</td> <td>    0.157</td> <td>    9.397</td> <td> 0.000</td> <td>    1.166</td> <td>    1.781</td>\n",
       "</tr>\n",
       "<tr>\n",
       "  <th>Lead Source_Reference</th>                                <td>    1.6778</td> <td>    1.204</td> <td>    1.394</td> <td> 0.163</td> <td>   -0.682</td> <td>    4.037</td>\n",
       "</tr>\n",
       "<tr>\n",
       "  <th>Lead Source_Welingak Website</th>                         <td>    3.2018</td> <td>    1.384</td> <td>    2.314</td> <td> 0.021</td> <td>    0.490</td> <td>    5.914</td>\n",
       "</tr>\n",
       "<tr>\n",
       "  <th>Do Not Email_Yes</th>                                     <td>   -1.4837</td> <td>    0.204</td> <td>   -7.286</td> <td> 0.000</td> <td>   -1.883</td> <td>   -1.085</td>\n",
       "</tr>\n",
       "<tr>\n",
       "  <th>Last Activity_Had a Phone Conversation</th>               <td>    2.9196</td> <td>    1.518</td> <td>    1.924</td> <td> 0.054</td> <td>   -0.055</td> <td>    5.894</td>\n",
       "</tr>\n",
       "<tr>\n",
       "  <th>Last Activity_Olark Chat Conversation</th>                <td>   -0.8305</td> <td>    0.194</td> <td>   -4.283</td> <td> 0.000</td> <td>   -1.211</td> <td>   -0.450</td>\n",
       "</tr>\n",
       "<tr>\n",
       "  <th>Last Activity_SMS Sent</th>                               <td>    1.0874</td> <td>    0.089</td> <td>   12.236</td> <td> 0.000</td> <td>    0.913</td> <td>    1.262</td>\n",
       "</tr>\n",
       "<tr>\n",
       "  <th>What is your current occupation_Housewife</th>            <td>   23.3773</td> <td> 2.63e+04</td> <td>    0.001</td> <td> 0.999</td> <td>-5.16e+04</td> <td> 5.16e+04</td>\n",
       "</tr>\n",
       "<tr>\n",
       "  <th>What is your current occupation_Student</th>              <td>   -0.7958</td> <td>    0.761</td> <td>   -1.046</td> <td> 0.296</td> <td>   -2.287</td> <td>    0.696</td>\n",
       "</tr>\n",
       "<tr>\n",
       "  <th>What is your current occupation_Unemployed</th>           <td>   -0.5693</td> <td>    0.729</td> <td>   -0.781</td> <td> 0.435</td> <td>   -1.997</td> <td>    0.859</td>\n",
       "</tr>\n",
       "<tr>\n",
       "  <th>What is your current occupation_Working Professional</th> <td>    1.8800</td> <td>    0.751</td> <td>    2.504</td> <td> 0.012</td> <td>    0.408</td> <td>    3.352</td>\n",
       "</tr>\n",
       "<tr>\n",
       "  <th>Last Notable Activity_Had a Phone Conversation</th>       <td>   20.6731</td> <td> 2.08e+04</td> <td>    0.001</td> <td> 0.999</td> <td>-4.07e+04</td> <td> 4.07e+04</td>\n",
       "</tr>\n",
       "<tr>\n",
       "  <th>Last Notable Activity_Modified</th>                       <td>   -0.6613</td> <td>    0.096</td> <td>   -6.865</td> <td> 0.000</td> <td>   -0.850</td> <td>   -0.472</td>\n",
       "</tr>\n",
       "<tr>\n",
       "  <th>Last Notable Activity_Page Visited on Website</th>        <td>   -0.8046</td> <td>    0.260</td> <td>   -3.089</td> <td> 0.002</td> <td>   -1.315</td> <td>   -0.294</td>\n",
       "</tr>\n",
       "<tr>\n",
       "  <th>Last Notable Activity_Unreachable</th>                    <td>    2.5535</td> <td>    0.810</td> <td>    3.154</td> <td> 0.002</td> <td>    0.967</td> <td>    4.140</td>\n",
       "</tr>\n",
       "</table>"
      ],
      "text/plain": [
       "<class 'statsmodels.iolib.summary.Summary'>\n",
       "\"\"\"\n",
       "                 Generalized Linear Model Regression Results                  \n",
       "==============================================================================\n",
       "Dep. Variable:              Converted   No. Observations:                 4358\n",
       "Model:                            GLM   Df Residuals:                     4337\n",
       "Model Family:                Binomial   Df Model:                           20\n",
       "Link Function:                  logit   Scale:                          1.0000\n",
       "Method:                          IRLS   Log-Likelihood:                -1939.3\n",
       "Date:                Wed, 08 Dec 2021   Deviance:                       3878.6\n",
       "Time:                        22:29:15   Pearson chi2:                 4.45e+03\n",
       "No. Iterations:                    22                                         \n",
       "Covariance Type:            nonrobust                                         \n",
       "========================================================================================================================\n",
       "                                                           coef    std err          z      P>|z|      [0.025      0.975]\n",
       "------------------------------------------------------------------------------------------------------------------------\n",
       "const                                                   -1.2791      0.743     -1.721      0.085      -2.736       0.178\n",
       "TotalVisits                                              1.8598      0.342      5.439      0.000       1.190       2.530\n",
       "Total Time Spent on Website                              4.5576      0.194     23.540      0.000       4.178       4.937\n",
       "Page Views Per Visit                                    -0.9731      0.289     -3.370      0.001      -1.539      -0.407\n",
       "Lead Origin_Lead Add Form                                2.1649      1.183      1.831      0.067      -0.153       4.483\n",
       "Lead Source_Direct Traffic                              -0.4255      0.095     -4.499      0.000      -0.611      -0.240\n",
       "Lead Source_Olark Chat                                   1.4739      0.157      9.397      0.000       1.166       1.781\n",
       "Lead Source_Reference                                    1.6778      1.204      1.394      0.163      -0.682       4.037\n",
       "Lead Source_Welingak Website                             3.2018      1.384      2.314      0.021       0.490       5.914\n",
       "Do Not Email_Yes                                        -1.4837      0.204     -7.286      0.000      -1.883      -1.085\n",
       "Last Activity_Had a Phone Conversation                   2.9196      1.518      1.924      0.054      -0.055       5.894\n",
       "Last Activity_Olark Chat Conversation                   -0.8305      0.194     -4.283      0.000      -1.211      -0.450\n",
       "Last Activity_SMS Sent                                   1.0874      0.089     12.236      0.000       0.913       1.262\n",
       "What is your current occupation_Housewife               23.3773   2.63e+04      0.001      0.999   -5.16e+04    5.16e+04\n",
       "What is your current occupation_Student                 -0.7958      0.761     -1.046      0.296      -2.287       0.696\n",
       "What is your current occupation_Unemployed              -0.5693      0.729     -0.781      0.435      -1.997       0.859\n",
       "What is your current occupation_Working Professional     1.8800      0.751      2.504      0.012       0.408       3.352\n",
       "Last Notable Activity_Had a Phone Conversation          20.6731   2.08e+04      0.001      0.999   -4.07e+04    4.07e+04\n",
       "Last Notable Activity_Modified                          -0.6613      0.096     -6.865      0.000      -0.850      -0.472\n",
       "Last Notable Activity_Page Visited on Website           -0.8046      0.260     -3.089      0.002      -1.315      -0.294\n",
       "Last Notable Activity_Unreachable                        2.5535      0.810      3.154      0.002       0.967       4.140\n",
       "========================================================================================================================\n",
       "\"\"\""
      ]
     },
     "execution_count": 52,
     "metadata": {},
     "output_type": "execute_result"
    }
   ],
   "source": [
    "# Build model\n",
    "X_train_sm = sm.add_constant(X_train[selected_features])\n",
    "logm = sm.GLM(y_train,X_train_sm, family = sm.families.Binomial())\n",
    "res = logm.fit()\n",
    "res.summary()"
   ]
  },
  {
   "cell_type": "code",
   "execution_count": 53,
   "id": "74ac34ff",
   "metadata": {},
   "outputs": [
    {
     "data": {
      "text/html": [
       "<table class=\"simpletable\">\n",
       "<caption>Generalized Linear Model Regression Results</caption>\n",
       "<tr>\n",
       "  <th>Dep. Variable:</th>       <td>Converted</td>    <th>  No. Observations:  </th>  <td>  4358</td> \n",
       "</tr>\n",
       "<tr>\n",
       "  <th>Model:</th>                  <td>GLM</td>       <th>  Df Residuals:      </th>  <td>  4338</td> \n",
       "</tr>\n",
       "<tr>\n",
       "  <th>Model Family:</th>        <td>Binomial</td>     <th>  Df Model:          </th>  <td>    19</td> \n",
       "</tr>\n",
       "<tr>\n",
       "  <th>Link Function:</th>         <td>logit</td>      <th>  Scale:             </th> <td>  1.0000</td>\n",
       "</tr>\n",
       "<tr>\n",
       "  <th>Method:</th>                <td>IRLS</td>       <th>  Log-Likelihood:    </th> <td> -1942.3</td>\n",
       "</tr>\n",
       "<tr>\n",
       "  <th>Date:</th>            <td>Wed, 08 Dec 2021</td> <th>  Deviance:          </th> <td>  3884.6</td>\n",
       "</tr>\n",
       "<tr>\n",
       "  <th>Time:</th>                <td>22:29:15</td>     <th>  Pearson chi2:      </th> <td>4.45e+03</td>\n",
       "</tr>\n",
       "<tr>\n",
       "  <th>No. Iterations:</th>         <td>21</td>        <th>                     </th>     <td> </td>   \n",
       "</tr>\n",
       "<tr>\n",
       "  <th>Covariance Type:</th>     <td>nonrobust</td>    <th>                     </th>     <td> </td>   \n",
       "</tr>\n",
       "</table>\n",
       "<table class=\"simpletable\">\n",
       "<tr>\n",
       "                            <td></td>                              <th>coef</th>     <th>std err</th>      <th>z</th>      <th>P>|z|</th>  <th>[0.025</th>    <th>0.975]</th>  \n",
       "</tr>\n",
       "<tr>\n",
       "  <th>const</th>                                                <td>   -0.2815</td> <td>    0.642</td> <td>   -0.438</td> <td> 0.661</td> <td>   -1.541</td> <td>    0.978</td>\n",
       "</tr>\n",
       "<tr>\n",
       "  <th>TotalVisits</th>                                          <td>    1.8346</td> <td>    0.341</td> <td>    5.372</td> <td> 0.000</td> <td>    1.165</td> <td>    2.504</td>\n",
       "</tr>\n",
       "<tr>\n",
       "  <th>Total Time Spent on Website</th>                          <td>    4.5521</td> <td>    0.193</td> <td>   23.531</td> <td> 0.000</td> <td>    4.173</td> <td>    4.931</td>\n",
       "</tr>\n",
       "<tr>\n",
       "  <th>Page Views Per Visit</th>                                 <td>   -0.9781</td> <td>    0.289</td> <td>   -3.387</td> <td> 0.001</td> <td>   -1.544</td> <td>   -0.412</td>\n",
       "</tr>\n",
       "<tr>\n",
       "  <th>Lead Origin_Lead Add Form</th>                            <td>    2.1590</td> <td>    1.182</td> <td>    1.827</td> <td> 0.068</td> <td>   -0.157</td> <td>    4.475</td>\n",
       "</tr>\n",
       "<tr>\n",
       "  <th>Lead Source_Direct Traffic</th>                           <td>   -0.4313</td> <td>    0.095</td> <td>   -4.563</td> <td> 0.000</td> <td>   -0.617</td> <td>   -0.246</td>\n",
       "</tr>\n",
       "<tr>\n",
       "  <th>Lead Source_Olark Chat</th>                               <td>    1.4624</td> <td>    0.157</td> <td>    9.337</td> <td> 0.000</td> <td>    1.155</td> <td>    1.769</td>\n",
       "</tr>\n",
       "<tr>\n",
       "  <th>Lead Source_Reference</th>                                <td>    1.6742</td> <td>    1.203</td> <td>    1.392</td> <td> 0.164</td> <td>   -0.684</td> <td>    4.032</td>\n",
       "</tr>\n",
       "<tr>\n",
       "  <th>Lead Source_Welingak Website</th>                         <td>    3.1959</td> <td>    1.383</td> <td>    2.311</td> <td> 0.021</td> <td>    0.485</td> <td>    5.907</td>\n",
       "</tr>\n",
       "<tr>\n",
       "  <th>Do Not Email_Yes</th>                                     <td>   -1.4837</td> <td>    0.204</td> <td>   -7.287</td> <td> 0.000</td> <td>   -1.883</td> <td>   -1.085</td>\n",
       "</tr>\n",
       "<tr>\n",
       "  <th>Last Activity_Had a Phone Conversation</th>               <td>    2.9125</td> <td>    1.517</td> <td>    1.920</td> <td> 0.055</td> <td>   -0.061</td> <td>    5.886</td>\n",
       "</tr>\n",
       "<tr>\n",
       "  <th>Last Activity_Olark Chat Conversation</th>                <td>   -0.8314</td> <td>    0.194</td> <td>   -4.289</td> <td> 0.000</td> <td>   -1.211</td> <td>   -0.452</td>\n",
       "</tr>\n",
       "<tr>\n",
       "  <th>Last Activity_SMS Sent</th>                               <td>    1.0855</td> <td>    0.089</td> <td>   12.216</td> <td> 0.000</td> <td>    0.911</td> <td>    1.260</td>\n",
       "</tr>\n",
       "<tr>\n",
       "  <th>What is your current occupation_Student</th>              <td>   -1.7799</td> <td>    0.667</td> <td>   -2.668</td> <td> 0.008</td> <td>   -3.088</td> <td>   -0.472</td>\n",
       "</tr>\n",
       "<tr>\n",
       "  <th>What is your current occupation_Unemployed</th>           <td>   -1.5536</td> <td>    0.630</td> <td>   -2.467</td> <td> 0.014</td> <td>   -2.788</td> <td>   -0.319</td>\n",
       "</tr>\n",
       "<tr>\n",
       "  <th>What is your current occupation_Working Professional</th> <td>    0.8947</td> <td>    0.655</td> <td>    1.366</td> <td> 0.172</td> <td>   -0.389</td> <td>    2.179</td>\n",
       "</tr>\n",
       "<tr>\n",
       "  <th>Last Notable Activity_Had a Phone Conversation</th>       <td>   19.6781</td> <td> 1.26e+04</td> <td>    0.002</td> <td> 0.999</td> <td>-2.47e+04</td> <td> 2.47e+04</td>\n",
       "</tr>\n",
       "<tr>\n",
       "  <th>Last Notable Activity_Modified</th>                       <td>   -0.6623</td> <td>    0.096</td> <td>   -6.883</td> <td> 0.000</td> <td>   -0.851</td> <td>   -0.474</td>\n",
       "</tr>\n",
       "<tr>\n",
       "  <th>Last Notable Activity_Page Visited on Website</th>        <td>   -0.8153</td> <td>    0.261</td> <td>   -3.129</td> <td> 0.002</td> <td>   -1.326</td> <td>   -0.305</td>\n",
       "</tr>\n",
       "<tr>\n",
       "  <th>Last Notable Activity_Unreachable</th>                    <td>    2.5512</td> <td>    0.810</td> <td>    3.151</td> <td> 0.002</td> <td>    0.964</td> <td>    4.138</td>\n",
       "</tr>\n",
       "</table>"
      ],
      "text/plain": [
       "<class 'statsmodels.iolib.summary.Summary'>\n",
       "\"\"\"\n",
       "                 Generalized Linear Model Regression Results                  \n",
       "==============================================================================\n",
       "Dep. Variable:              Converted   No. Observations:                 4358\n",
       "Model:                            GLM   Df Residuals:                     4338\n",
       "Model Family:                Binomial   Df Model:                           19\n",
       "Link Function:                  logit   Scale:                          1.0000\n",
       "Method:                          IRLS   Log-Likelihood:                -1942.3\n",
       "Date:                Wed, 08 Dec 2021   Deviance:                       3884.6\n",
       "Time:                        22:29:15   Pearson chi2:                 4.45e+03\n",
       "No. Iterations:                    21                                         \n",
       "Covariance Type:            nonrobust                                         \n",
       "========================================================================================================================\n",
       "                                                           coef    std err          z      P>|z|      [0.025      0.975]\n",
       "------------------------------------------------------------------------------------------------------------------------\n",
       "const                                                   -0.2815      0.642     -0.438      0.661      -1.541       0.978\n",
       "TotalVisits                                              1.8346      0.341      5.372      0.000       1.165       2.504\n",
       "Total Time Spent on Website                              4.5521      0.193     23.531      0.000       4.173       4.931\n",
       "Page Views Per Visit                                    -0.9781      0.289     -3.387      0.001      -1.544      -0.412\n",
       "Lead Origin_Lead Add Form                                2.1590      1.182      1.827      0.068      -0.157       4.475\n",
       "Lead Source_Direct Traffic                              -0.4313      0.095     -4.563      0.000      -0.617      -0.246\n",
       "Lead Source_Olark Chat                                   1.4624      0.157      9.337      0.000       1.155       1.769\n",
       "Lead Source_Reference                                    1.6742      1.203      1.392      0.164      -0.684       4.032\n",
       "Lead Source_Welingak Website                             3.1959      1.383      2.311      0.021       0.485       5.907\n",
       "Do Not Email_Yes                                        -1.4837      0.204     -7.287      0.000      -1.883      -1.085\n",
       "Last Activity_Had a Phone Conversation                   2.9125      1.517      1.920      0.055      -0.061       5.886\n",
       "Last Activity_Olark Chat Conversation                   -0.8314      0.194     -4.289      0.000      -1.211      -0.452\n",
       "Last Activity_SMS Sent                                   1.0855      0.089     12.216      0.000       0.911       1.260\n",
       "What is your current occupation_Student                 -1.7799      0.667     -2.668      0.008      -3.088      -0.472\n",
       "What is your current occupation_Unemployed              -1.5536      0.630     -2.467      0.014      -2.788      -0.319\n",
       "What is your current occupation_Working Professional     0.8947      0.655      1.366      0.172      -0.389       2.179\n",
       "Last Notable Activity_Had a Phone Conversation          19.6781   1.26e+04      0.002      0.999   -2.47e+04    2.47e+04\n",
       "Last Notable Activity_Modified                          -0.6623      0.096     -6.883      0.000      -0.851      -0.474\n",
       "Last Notable Activity_Page Visited on Website           -0.8153      0.261     -3.129      0.002      -1.326      -0.305\n",
       "Last Notable Activity_Unreachable                        2.5512      0.810      3.151      0.002       0.964       4.138\n",
       "========================================================================================================================\n",
       "\"\"\""
      ]
     },
     "execution_count": 53,
     "metadata": {},
     "output_type": "execute_result"
    }
   ],
   "source": [
    "# Dropping feature and rebuild model\n",
    "selected_features = selected_features.drop('What is your current occupation_Housewife', 1)\n",
    "X_train_sm = sm.add_constant(X_train[selected_features])\n",
    "logm = sm.GLM(y_train,X_train_sm, family = sm.families.Binomial())\n",
    "res = logm.fit()\n",
    "res.summary()"
   ]
  },
  {
   "cell_type": "code",
   "execution_count": 54,
   "id": "28b869f0",
   "metadata": {},
   "outputs": [
    {
     "data": {
      "text/html": [
       "<table class=\"simpletable\">\n",
       "<caption>Generalized Linear Model Regression Results</caption>\n",
       "<tr>\n",
       "  <th>Dep. Variable:</th>       <td>Converted</td>    <th>  No. Observations:  </th>  <td>  4358</td> \n",
       "</tr>\n",
       "<tr>\n",
       "  <th>Model:</th>                  <td>GLM</td>       <th>  Df Residuals:      </th>  <td>  4339</td> \n",
       "</tr>\n",
       "<tr>\n",
       "  <th>Model Family:</th>        <td>Binomial</td>     <th>  Df Model:          </th>  <td>    18</td> \n",
       "</tr>\n",
       "<tr>\n",
       "  <th>Link Function:</th>         <td>logit</td>      <th>  Scale:             </th> <td>  1.0000</td>\n",
       "</tr>\n",
       "<tr>\n",
       "  <th>Method:</th>                <td>IRLS</td>       <th>  Log-Likelihood:    </th> <td> -1942.8</td>\n",
       "</tr>\n",
       "<tr>\n",
       "  <th>Date:</th>            <td>Wed, 08 Dec 2021</td> <th>  Deviance:          </th> <td>  3885.5</td>\n",
       "</tr>\n",
       "<tr>\n",
       "  <th>Time:</th>                <td>22:29:15</td>     <th>  Pearson chi2:      </th> <td>4.45e+03</td>\n",
       "</tr>\n",
       "<tr>\n",
       "  <th>No. Iterations:</th>          <td>6</td>        <th>                     </th>     <td> </td>   \n",
       "</tr>\n",
       "<tr>\n",
       "  <th>Covariance Type:</th>     <td>nonrobust</td>    <th>                     </th>     <td> </td>   \n",
       "</tr>\n",
       "</table>\n",
       "<table class=\"simpletable\">\n",
       "<tr>\n",
       "                            <td></td>                              <th>coef</th>     <th>std err</th>      <th>z</th>      <th>P>|z|</th>  <th>[0.025</th>    <th>0.975]</th>  \n",
       "</tr>\n",
       "<tr>\n",
       "  <th>const</th>                                                <td>   -0.2825</td> <td>    0.642</td> <td>   -0.440</td> <td> 0.660</td> <td>   -1.542</td> <td>    0.977</td>\n",
       "</tr>\n",
       "<tr>\n",
       "  <th>TotalVisits</th>                                          <td>    1.8345</td> <td>    0.342</td> <td>    5.371</td> <td> 0.000</td> <td>    1.165</td> <td>    2.504</td>\n",
       "</tr>\n",
       "<tr>\n",
       "  <th>Total Time Spent on Website</th>                          <td>    4.5525</td> <td>    0.193</td> <td>   23.531</td> <td> 0.000</td> <td>    4.173</td> <td>    4.932</td>\n",
       "</tr>\n",
       "<tr>\n",
       "  <th>Page Views Per Visit</th>                                 <td>   -0.9723</td> <td>    0.289</td> <td>   -3.369</td> <td> 0.001</td> <td>   -1.538</td> <td>   -0.407</td>\n",
       "</tr>\n",
       "<tr>\n",
       "  <th>Lead Origin_Lead Add Form</th>                            <td>    2.1596</td> <td>    1.182</td> <td>    1.827</td> <td> 0.068</td> <td>   -0.157</td> <td>    4.476</td>\n",
       "</tr>\n",
       "<tr>\n",
       "  <th>Lead Source_Direct Traffic</th>                           <td>   -0.4313</td> <td>    0.095</td> <td>   -4.562</td> <td> 0.000</td> <td>   -0.617</td> <td>   -0.246</td>\n",
       "</tr>\n",
       "<tr>\n",
       "  <th>Lead Source_Olark Chat</th>                               <td>    1.4644</td> <td>    0.157</td> <td>    9.349</td> <td> 0.000</td> <td>    1.157</td> <td>    1.771</td>\n",
       "</tr>\n",
       "<tr>\n",
       "  <th>Lead Source_Reference</th>                                <td>    1.6766</td> <td>    1.203</td> <td>    1.394</td> <td> 0.163</td> <td>   -0.681</td> <td>    4.035</td>\n",
       "</tr>\n",
       "<tr>\n",
       "  <th>Lead Source_Welingak Website</th>                         <td>    3.1990</td> <td>    1.383</td> <td>    2.313</td> <td> 0.021</td> <td>    0.488</td> <td>    5.910</td>\n",
       "</tr>\n",
       "<tr>\n",
       "  <th>Do Not Email_Yes</th>                                     <td>   -1.4912</td> <td>    0.204</td> <td>   -7.320</td> <td> 0.000</td> <td>   -1.890</td> <td>   -1.092</td>\n",
       "</tr>\n",
       "<tr>\n",
       "  <th>Last Activity_Had a Phone Conversation</th>               <td>    3.7153</td> <td>    1.217</td> <td>    3.053</td> <td> 0.002</td> <td>    1.330</td> <td>    6.100</td>\n",
       "</tr>\n",
       "<tr>\n",
       "  <th>Last Activity_Olark Chat Conversation</th>                <td>   -0.8301</td> <td>    0.194</td> <td>   -4.282</td> <td> 0.000</td> <td>   -1.210</td> <td>   -0.450</td>\n",
       "</tr>\n",
       "<tr>\n",
       "  <th>Last Activity_SMS Sent</th>                               <td>    1.0852</td> <td>    0.089</td> <td>   12.211</td> <td> 0.000</td> <td>    0.911</td> <td>    1.259</td>\n",
       "</tr>\n",
       "<tr>\n",
       "  <th>What is your current occupation_Student</th>              <td>   -1.7806</td> <td>    0.667</td> <td>   -2.669</td> <td> 0.008</td> <td>   -3.088</td> <td>   -0.473</td>\n",
       "</tr>\n",
       "<tr>\n",
       "  <th>What is your current occupation_Unemployed</th>           <td>   -1.5537</td> <td>    0.630</td> <td>   -2.467</td> <td> 0.014</td> <td>   -2.788</td> <td>   -0.319</td>\n",
       "</tr>\n",
       "<tr>\n",
       "  <th>What is your current occupation_Working Professional</th> <td>    0.8948</td> <td>    0.655</td> <td>    1.366</td> <td> 0.172</td> <td>   -0.389</td> <td>    2.179</td>\n",
       "</tr>\n",
       "<tr>\n",
       "  <th>Last Notable Activity_Modified</th>                       <td>   -0.6650</td> <td>    0.096</td> <td>   -6.914</td> <td> 0.000</td> <td>   -0.854</td> <td>   -0.476</td>\n",
       "</tr>\n",
       "<tr>\n",
       "  <th>Last Notable Activity_Page Visited on Website</th>        <td>   -0.8160</td> <td>    0.261</td> <td>   -3.132</td> <td> 0.002</td> <td>   -1.327</td> <td>   -0.305</td>\n",
       "</tr>\n",
       "<tr>\n",
       "  <th>Last Notable Activity_Unreachable</th>                    <td>    2.5501</td> <td>    0.810</td> <td>    3.150</td> <td> 0.002</td> <td>    0.963</td> <td>    4.137</td>\n",
       "</tr>\n",
       "</table>"
      ],
      "text/plain": [
       "<class 'statsmodels.iolib.summary.Summary'>\n",
       "\"\"\"\n",
       "                 Generalized Linear Model Regression Results                  \n",
       "==============================================================================\n",
       "Dep. Variable:              Converted   No. Observations:                 4358\n",
       "Model:                            GLM   Df Residuals:                     4339\n",
       "Model Family:                Binomial   Df Model:                           18\n",
       "Link Function:                  logit   Scale:                          1.0000\n",
       "Method:                          IRLS   Log-Likelihood:                -1942.8\n",
       "Date:                Wed, 08 Dec 2021   Deviance:                       3885.5\n",
       "Time:                        22:29:15   Pearson chi2:                 4.45e+03\n",
       "No. Iterations:                     6                                         \n",
       "Covariance Type:            nonrobust                                         \n",
       "========================================================================================================================\n",
       "                                                           coef    std err          z      P>|z|      [0.025      0.975]\n",
       "------------------------------------------------------------------------------------------------------------------------\n",
       "const                                                   -0.2825      0.642     -0.440      0.660      -1.542       0.977\n",
       "TotalVisits                                              1.8345      0.342      5.371      0.000       1.165       2.504\n",
       "Total Time Spent on Website                              4.5525      0.193     23.531      0.000       4.173       4.932\n",
       "Page Views Per Visit                                    -0.9723      0.289     -3.369      0.001      -1.538      -0.407\n",
       "Lead Origin_Lead Add Form                                2.1596      1.182      1.827      0.068      -0.157       4.476\n",
       "Lead Source_Direct Traffic                              -0.4313      0.095     -4.562      0.000      -0.617      -0.246\n",
       "Lead Source_Olark Chat                                   1.4644      0.157      9.349      0.000       1.157       1.771\n",
       "Lead Source_Reference                                    1.6766      1.203      1.394      0.163      -0.681       4.035\n",
       "Lead Source_Welingak Website                             3.1990      1.383      2.313      0.021       0.488       5.910\n",
       "Do Not Email_Yes                                        -1.4912      0.204     -7.320      0.000      -1.890      -1.092\n",
       "Last Activity_Had a Phone Conversation                   3.7153      1.217      3.053      0.002       1.330       6.100\n",
       "Last Activity_Olark Chat Conversation                   -0.8301      0.194     -4.282      0.000      -1.210      -0.450\n",
       "Last Activity_SMS Sent                                   1.0852      0.089     12.211      0.000       0.911       1.259\n",
       "What is your current occupation_Student                 -1.7806      0.667     -2.669      0.008      -3.088      -0.473\n",
       "What is your current occupation_Unemployed              -1.5537      0.630     -2.467      0.014      -2.788      -0.319\n",
       "What is your current occupation_Working Professional     0.8948      0.655      1.366      0.172      -0.389       2.179\n",
       "Last Notable Activity_Modified                          -0.6650      0.096     -6.914      0.000      -0.854      -0.476\n",
       "Last Notable Activity_Page Visited on Website           -0.8160      0.261     -3.132      0.002      -1.327      -0.305\n",
       "Last Notable Activity_Unreachable                        2.5501      0.810      3.150      0.002       0.963       4.137\n",
       "========================================================================================================================\n",
       "\"\"\""
      ]
     },
     "execution_count": 54,
     "metadata": {},
     "output_type": "execute_result"
    }
   ],
   "source": [
    "# Dropping feature and rebuild model\n",
    "selected_features = selected_features.drop('Last Notable Activity_Had a Phone Conversation', 1)\n",
    "X_train_sm = sm.add_constant(X_train[selected_features])\n",
    "logm = sm.GLM(y_train,X_train_sm, family = sm.families.Binomial())\n",
    "res = logm.fit()\n",
    "res.summary()"
   ]
  },
  {
   "cell_type": "code",
   "execution_count": 55,
   "id": "12b92cf2",
   "metadata": {},
   "outputs": [
    {
     "data": {
      "text/html": [
       "<table class=\"simpletable\">\n",
       "<caption>Generalized Linear Model Regression Results</caption>\n",
       "<tr>\n",
       "  <th>Dep. Variable:</th>       <td>Converted</td>    <th>  No. Observations:  </th>  <td>  4358</td> \n",
       "</tr>\n",
       "<tr>\n",
       "  <th>Model:</th>                  <td>GLM</td>       <th>  Df Residuals:      </th>  <td>  4340</td> \n",
       "</tr>\n",
       "<tr>\n",
       "  <th>Model Family:</th>        <td>Binomial</td>     <th>  Df Model:          </th>  <td>    17</td> \n",
       "</tr>\n",
       "<tr>\n",
       "  <th>Link Function:</th>         <td>logit</td>      <th>  Scale:             </th> <td>  1.0000</td>\n",
       "</tr>\n",
       "<tr>\n",
       "  <th>Method:</th>                <td>IRLS</td>       <th>  Log-Likelihood:    </th> <td> -1943.6</td>\n",
       "</tr>\n",
       "<tr>\n",
       "  <th>Date:</th>            <td>Wed, 08 Dec 2021</td> <th>  Deviance:          </th> <td>  3887.2</td>\n",
       "</tr>\n",
       "<tr>\n",
       "  <th>Time:</th>                <td>22:29:15</td>     <th>  Pearson chi2:      </th> <td>4.45e+03</td>\n",
       "</tr>\n",
       "<tr>\n",
       "  <th>No. Iterations:</th>          <td>6</td>        <th>                     </th>     <td> </td>   \n",
       "</tr>\n",
       "<tr>\n",
       "  <th>Covariance Type:</th>     <td>nonrobust</td>    <th>                     </th>     <td> </td>   \n",
       "</tr>\n",
       "</table>\n",
       "<table class=\"simpletable\">\n",
       "<tr>\n",
       "                        <td></td>                           <th>coef</th>     <th>std err</th>      <th>z</th>      <th>P>|z|</th>  <th>[0.025</th>    <th>0.975]</th>  \n",
       "</tr>\n",
       "<tr>\n",
       "  <th>const</th>                                         <td>    0.5538</td> <td>    0.217</td> <td>    2.548</td> <td> 0.011</td> <td>    0.128</td> <td>    0.980</td>\n",
       "</tr>\n",
       "<tr>\n",
       "  <th>TotalVisits</th>                                   <td>    1.8224</td> <td>    0.341</td> <td>    5.338</td> <td> 0.000</td> <td>    1.153</td> <td>    2.492</td>\n",
       "</tr>\n",
       "<tr>\n",
       "  <th>Total Time Spent on Website</th>                   <td>    4.5517</td> <td>    0.193</td> <td>   23.526</td> <td> 0.000</td> <td>    4.172</td> <td>    4.931</td>\n",
       "</tr>\n",
       "<tr>\n",
       "  <th>Page Views Per Visit</th>                          <td>   -0.9709</td> <td>    0.289</td> <td>   -3.362</td> <td> 0.001</td> <td>   -1.537</td> <td>   -0.405</td>\n",
       "</tr>\n",
       "<tr>\n",
       "  <th>Lead Origin_Lead Add Form</th>                     <td>    2.1594</td> <td>    1.182</td> <td>    1.828</td> <td> 0.068</td> <td>   -0.156</td> <td>    4.475</td>\n",
       "</tr>\n",
       "<tr>\n",
       "  <th>Lead Source_Direct Traffic</th>                    <td>   -0.4311</td> <td>    0.095</td> <td>   -4.560</td> <td> 0.000</td> <td>   -0.616</td> <td>   -0.246</td>\n",
       "</tr>\n",
       "<tr>\n",
       "  <th>Lead Source_Olark Chat</th>                        <td>    1.4637</td> <td>    0.157</td> <td>    9.347</td> <td> 0.000</td> <td>    1.157</td> <td>    1.771</td>\n",
       "</tr>\n",
       "<tr>\n",
       "  <th>Lead Source_Reference</th>                         <td>    1.6765</td> <td>    1.203</td> <td>    1.394</td> <td> 0.163</td> <td>   -0.681</td> <td>    4.034</td>\n",
       "</tr>\n",
       "<tr>\n",
       "  <th>Lead Source_Welingak Website</th>                  <td>    3.1961</td> <td>    1.383</td> <td>    2.311</td> <td> 0.021</td> <td>    0.486</td> <td>    5.907</td>\n",
       "</tr>\n",
       "<tr>\n",
       "  <th>Do Not Email_Yes</th>                              <td>   -1.4876</td> <td>    0.203</td> <td>   -7.311</td> <td> 0.000</td> <td>   -1.886</td> <td>   -1.089</td>\n",
       "</tr>\n",
       "<tr>\n",
       "  <th>Last Activity_Had a Phone Conversation</th>        <td>    3.7164</td> <td>    1.216</td> <td>    3.056</td> <td> 0.002</td> <td>    1.333</td> <td>    6.100</td>\n",
       "</tr>\n",
       "<tr>\n",
       "  <th>Last Activity_Olark Chat Conversation</th>         <td>   -0.8258</td> <td>    0.194</td> <td>   -4.265</td> <td> 0.000</td> <td>   -1.205</td> <td>   -0.446</td>\n",
       "</tr>\n",
       "<tr>\n",
       "  <th>Last Activity_SMS Sent</th>                        <td>    1.0880</td> <td>    0.089</td> <td>   12.253</td> <td> 0.000</td> <td>    0.914</td> <td>    1.262</td>\n",
       "</tr>\n",
       "<tr>\n",
       "  <th>What is your current occupation_Student</th>       <td>   -2.6152</td> <td>    0.286</td> <td>   -9.133</td> <td> 0.000</td> <td>   -3.176</td> <td>   -2.054</td>\n",
       "</tr>\n",
       "<tr>\n",
       "  <th>What is your current occupation_Unemployed</th>    <td>   -2.3883</td> <td>    0.183</td> <td>  -13.072</td> <td> 0.000</td> <td>   -2.746</td> <td>   -2.030</td>\n",
       "</tr>\n",
       "<tr>\n",
       "  <th>Last Notable Activity_Modified</th>                <td>   -0.6672</td> <td>    0.096</td> <td>   -6.938</td> <td> 0.000</td> <td>   -0.856</td> <td>   -0.479</td>\n",
       "</tr>\n",
       "<tr>\n",
       "  <th>Last Notable Activity_Page Visited on Website</th> <td>   -0.8220</td> <td>    0.261</td> <td>   -3.152</td> <td> 0.002</td> <td>   -1.333</td> <td>   -0.311</td>\n",
       "</tr>\n",
       "<tr>\n",
       "  <th>Last Notable Activity_Unreachable</th>             <td>    2.5507</td> <td>    0.810</td> <td>    3.151</td> <td> 0.002</td> <td>    0.964</td> <td>    4.137</td>\n",
       "</tr>\n",
       "</table>"
      ],
      "text/plain": [
       "<class 'statsmodels.iolib.summary.Summary'>\n",
       "\"\"\"\n",
       "                 Generalized Linear Model Regression Results                  \n",
       "==============================================================================\n",
       "Dep. Variable:              Converted   No. Observations:                 4358\n",
       "Model:                            GLM   Df Residuals:                     4340\n",
       "Model Family:                Binomial   Df Model:                           17\n",
       "Link Function:                  logit   Scale:                          1.0000\n",
       "Method:                          IRLS   Log-Likelihood:                -1943.6\n",
       "Date:                Wed, 08 Dec 2021   Deviance:                       3887.2\n",
       "Time:                        22:29:15   Pearson chi2:                 4.45e+03\n",
       "No. Iterations:                     6                                         \n",
       "Covariance Type:            nonrobust                                         \n",
       "=================================================================================================================\n",
       "                                                    coef    std err          z      P>|z|      [0.025      0.975]\n",
       "-----------------------------------------------------------------------------------------------------------------\n",
       "const                                             0.5538      0.217      2.548      0.011       0.128       0.980\n",
       "TotalVisits                                       1.8224      0.341      5.338      0.000       1.153       2.492\n",
       "Total Time Spent on Website                       4.5517      0.193     23.526      0.000       4.172       4.931\n",
       "Page Views Per Visit                             -0.9709      0.289     -3.362      0.001      -1.537      -0.405\n",
       "Lead Origin_Lead Add Form                         2.1594      1.182      1.828      0.068      -0.156       4.475\n",
       "Lead Source_Direct Traffic                       -0.4311      0.095     -4.560      0.000      -0.616      -0.246\n",
       "Lead Source_Olark Chat                            1.4637      0.157      9.347      0.000       1.157       1.771\n",
       "Lead Source_Reference                             1.6765      1.203      1.394      0.163      -0.681       4.034\n",
       "Lead Source_Welingak Website                      3.1961      1.383      2.311      0.021       0.486       5.907\n",
       "Do Not Email_Yes                                 -1.4876      0.203     -7.311      0.000      -1.886      -1.089\n",
       "Last Activity_Had a Phone Conversation            3.7164      1.216      3.056      0.002       1.333       6.100\n",
       "Last Activity_Olark Chat Conversation            -0.8258      0.194     -4.265      0.000      -1.205      -0.446\n",
       "Last Activity_SMS Sent                            1.0880      0.089     12.253      0.000       0.914       1.262\n",
       "What is your current occupation_Student          -2.6152      0.286     -9.133      0.000      -3.176      -2.054\n",
       "What is your current occupation_Unemployed       -2.3883      0.183    -13.072      0.000      -2.746      -2.030\n",
       "Last Notable Activity_Modified                   -0.6672      0.096     -6.938      0.000      -0.856      -0.479\n",
       "Last Notable Activity_Page Visited on Website    -0.8220      0.261     -3.152      0.002      -1.333      -0.311\n",
       "Last Notable Activity_Unreachable                 2.5507      0.810      3.151      0.002       0.964       4.137\n",
       "=================================================================================================================\n",
       "\"\"\""
      ]
     },
     "execution_count": 55,
     "metadata": {},
     "output_type": "execute_result"
    }
   ],
   "source": [
    "# Dropping feature and rebuild model\n",
    "selected_features = selected_features.drop('What is your current occupation_Working Professional', 1)\n",
    "X_train_sm = sm.add_constant(X_train[selected_features])\n",
    "logm = sm.GLM(y_train,X_train_sm, family = sm.families.Binomial())\n",
    "res = logm.fit()\n",
    "res.summary()"
   ]
  },
  {
   "cell_type": "code",
   "execution_count": 56,
   "id": "5c2f1938",
   "metadata": {},
   "outputs": [
    {
     "data": {
      "text/html": [
       "<table class=\"simpletable\">\n",
       "<caption>Generalized Linear Model Regression Results</caption>\n",
       "<tr>\n",
       "  <th>Dep. Variable:</th>       <td>Converted</td>    <th>  No. Observations:  </th>  <td>  4358</td> \n",
       "</tr>\n",
       "<tr>\n",
       "  <th>Model:</th>                  <td>GLM</td>       <th>  Df Residuals:      </th>  <td>  4341</td> \n",
       "</tr>\n",
       "<tr>\n",
       "  <th>Model Family:</th>        <td>Binomial</td>     <th>  Df Model:          </th>  <td>    16</td> \n",
       "</tr>\n",
       "<tr>\n",
       "  <th>Link Function:</th>         <td>logit</td>      <th>  Scale:             </th> <td>  1.0000</td>\n",
       "</tr>\n",
       "<tr>\n",
       "  <th>Method:</th>                <td>IRLS</td>       <th>  Log-Likelihood:    </th> <td> -1944.3</td>\n",
       "</tr>\n",
       "<tr>\n",
       "  <th>Date:</th>            <td>Wed, 08 Dec 2021</td> <th>  Deviance:          </th> <td>  3888.7</td>\n",
       "</tr>\n",
       "<tr>\n",
       "  <th>Time:</th>                <td>22:29:15</td>     <th>  Pearson chi2:      </th> <td>4.45e+03</td>\n",
       "</tr>\n",
       "<tr>\n",
       "  <th>No. Iterations:</th>          <td>6</td>        <th>                     </th>     <td> </td>   \n",
       "</tr>\n",
       "<tr>\n",
       "  <th>Covariance Type:</th>     <td>nonrobust</td>    <th>                     </th>     <td> </td>   \n",
       "</tr>\n",
       "</table>\n",
       "<table class=\"simpletable\">\n",
       "<tr>\n",
       "                        <td></td>                           <th>coef</th>     <th>std err</th>      <th>z</th>      <th>P>|z|</th>  <th>[0.025</th>    <th>0.975]</th>  \n",
       "</tr>\n",
       "<tr>\n",
       "  <th>const</th>                                         <td>    0.5575</td> <td>    0.217</td> <td>    2.565</td> <td> 0.010</td> <td>    0.131</td> <td>    0.984</td>\n",
       "</tr>\n",
       "<tr>\n",
       "  <th>TotalVisits</th>                                   <td>    1.8236</td> <td>    0.342</td> <td>    5.338</td> <td> 0.000</td> <td>    1.154</td> <td>    2.493</td>\n",
       "</tr>\n",
       "<tr>\n",
       "  <th>Total Time Spent on Website</th>                   <td>    4.5480</td> <td>    0.193</td> <td>   23.509</td> <td> 0.000</td> <td>    4.169</td> <td>    4.927</td>\n",
       "</tr>\n",
       "<tr>\n",
       "  <th>Page Views Per Visit</th>                          <td>   -0.9763</td> <td>    0.289</td> <td>   -3.380</td> <td> 0.001</td> <td>   -1.542</td> <td>   -0.410</td>\n",
       "</tr>\n",
       "<tr>\n",
       "  <th>Lead Origin_Lead Add Form</th>                     <td>    3.7916</td> <td>    0.263</td> <td>   14.440</td> <td> 0.000</td> <td>    3.277</td> <td>    4.306</td>\n",
       "</tr>\n",
       "<tr>\n",
       "  <th>Lead Source_Direct Traffic</th>                    <td>   -0.4315</td> <td>    0.095</td> <td>   -4.565</td> <td> 0.000</td> <td>   -0.617</td> <td>   -0.246</td>\n",
       "</tr>\n",
       "<tr>\n",
       "  <th>Lead Source_Olark Chat</th>                        <td>    1.4594</td> <td>    0.157</td> <td>    9.314</td> <td> 0.000</td> <td>    1.152</td> <td>    1.767</td>\n",
       "</tr>\n",
       "<tr>\n",
       "  <th>Lead Source_Welingak Website</th>                  <td>    1.5602</td> <td>    0.758</td> <td>    2.059</td> <td> 0.040</td> <td>    0.075</td> <td>    3.046</td>\n",
       "</tr>\n",
       "<tr>\n",
       "  <th>Do Not Email_Yes</th>                              <td>   -1.4845</td> <td>    0.203</td> <td>   -7.307</td> <td> 0.000</td> <td>   -1.883</td> <td>   -1.086</td>\n",
       "</tr>\n",
       "<tr>\n",
       "  <th>Last Activity_Had a Phone Conversation</th>        <td>    3.7139</td> <td>    1.215</td> <td>    3.055</td> <td> 0.002</td> <td>    1.332</td> <td>    6.096</td>\n",
       "</tr>\n",
       "<tr>\n",
       "  <th>Last Activity_Olark Chat Conversation</th>         <td>   -0.8263</td> <td>    0.194</td> <td>   -4.268</td> <td> 0.000</td> <td>   -1.206</td> <td>   -0.447</td>\n",
       "</tr>\n",
       "<tr>\n",
       "  <th>Last Activity_SMS Sent</th>                        <td>    1.0885</td> <td>    0.089</td> <td>   12.262</td> <td> 0.000</td> <td>    0.914</td> <td>    1.262</td>\n",
       "</tr>\n",
       "<tr>\n",
       "  <th>What is your current occupation_Student</th>       <td>   -2.6126</td> <td>    0.286</td> <td>   -9.133</td> <td> 0.000</td> <td>   -3.173</td> <td>   -2.052</td>\n",
       "</tr>\n",
       "<tr>\n",
       "  <th>What is your current occupation_Unemployed</th>    <td>   -2.3894</td> <td>    0.183</td> <td>  -13.084</td> <td> 0.000</td> <td>   -2.747</td> <td>   -2.031</td>\n",
       "</tr>\n",
       "<tr>\n",
       "  <th>Last Notable Activity_Modified</th>                <td>   -0.6654</td> <td>    0.096</td> <td>   -6.924</td> <td> 0.000</td> <td>   -0.854</td> <td>   -0.477</td>\n",
       "</tr>\n",
       "<tr>\n",
       "  <th>Last Notable Activity_Page Visited on Website</th> <td>   -0.8309</td> <td>    0.262</td> <td>   -3.176</td> <td> 0.001</td> <td>   -1.344</td> <td>   -0.318</td>\n",
       "</tr>\n",
       "<tr>\n",
       "  <th>Last Notable Activity_Unreachable</th>             <td>    2.5511</td> <td>    0.809</td> <td>    3.152</td> <td> 0.002</td> <td>    0.965</td> <td>    4.138</td>\n",
       "</tr>\n",
       "</table>"
      ],
      "text/plain": [
       "<class 'statsmodels.iolib.summary.Summary'>\n",
       "\"\"\"\n",
       "                 Generalized Linear Model Regression Results                  \n",
       "==============================================================================\n",
       "Dep. Variable:              Converted   No. Observations:                 4358\n",
       "Model:                            GLM   Df Residuals:                     4341\n",
       "Model Family:                Binomial   Df Model:                           16\n",
       "Link Function:                  logit   Scale:                          1.0000\n",
       "Method:                          IRLS   Log-Likelihood:                -1944.3\n",
       "Date:                Wed, 08 Dec 2021   Deviance:                       3888.7\n",
       "Time:                        22:29:15   Pearson chi2:                 4.45e+03\n",
       "No. Iterations:                     6                                         \n",
       "Covariance Type:            nonrobust                                         \n",
       "=================================================================================================================\n",
       "                                                    coef    std err          z      P>|z|      [0.025      0.975]\n",
       "-----------------------------------------------------------------------------------------------------------------\n",
       "const                                             0.5575      0.217      2.565      0.010       0.131       0.984\n",
       "TotalVisits                                       1.8236      0.342      5.338      0.000       1.154       2.493\n",
       "Total Time Spent on Website                       4.5480      0.193     23.509      0.000       4.169       4.927\n",
       "Page Views Per Visit                             -0.9763      0.289     -3.380      0.001      -1.542      -0.410\n",
       "Lead Origin_Lead Add Form                         3.7916      0.263     14.440      0.000       3.277       4.306\n",
       "Lead Source_Direct Traffic                       -0.4315      0.095     -4.565      0.000      -0.617      -0.246\n",
       "Lead Source_Olark Chat                            1.4594      0.157      9.314      0.000       1.152       1.767\n",
       "Lead Source_Welingak Website                      1.5602      0.758      2.059      0.040       0.075       3.046\n",
       "Do Not Email_Yes                                 -1.4845      0.203     -7.307      0.000      -1.883      -1.086\n",
       "Last Activity_Had a Phone Conversation            3.7139      1.215      3.055      0.002       1.332       6.096\n",
       "Last Activity_Olark Chat Conversation            -0.8263      0.194     -4.268      0.000      -1.206      -0.447\n",
       "Last Activity_SMS Sent                            1.0885      0.089     12.262      0.000       0.914       1.262\n",
       "What is your current occupation_Student          -2.6126      0.286     -9.133      0.000      -3.173      -2.052\n",
       "What is your current occupation_Unemployed       -2.3894      0.183    -13.084      0.000      -2.747      -2.031\n",
       "Last Notable Activity_Modified                   -0.6654      0.096     -6.924      0.000      -0.854      -0.477\n",
       "Last Notable Activity_Page Visited on Website    -0.8309      0.262     -3.176      0.001      -1.344      -0.318\n",
       "Last Notable Activity_Unreachable                 2.5511      0.809      3.152      0.002       0.965       4.138\n",
       "=================================================================================================================\n",
       "\"\"\""
      ]
     },
     "execution_count": 56,
     "metadata": {},
     "output_type": "execute_result"
    }
   ],
   "source": [
    "# Dropping feature and rebuild model\n",
    "selected_features = selected_features.drop('Lead Source_Reference', 1)\n",
    "X_train_sm = sm.add_constant(X_train[selected_features])\n",
    "logm = sm.GLM(y_train,X_train_sm, family = sm.families.Binomial())\n",
    "res = logm.fit()\n",
    "res.summary()"
   ]
  },
  {
   "cell_type": "code",
   "execution_count": 57,
   "id": "b0087a1c",
   "metadata": {},
   "outputs": [
    {
     "data": {
      "text/html": [
       "<table class=\"simpletable\">\n",
       "<caption>Generalized Linear Model Regression Results</caption>\n",
       "<tr>\n",
       "  <th>Dep. Variable:</th>       <td>Converted</td>    <th>  No. Observations:  </th>  <td>  4358</td> \n",
       "</tr>\n",
       "<tr>\n",
       "  <th>Model:</th>                  <td>GLM</td>       <th>  Df Residuals:      </th>  <td>  4342</td> \n",
       "</tr>\n",
       "<tr>\n",
       "  <th>Model Family:</th>        <td>Binomial</td>     <th>  Df Model:          </th>  <td>    15</td> \n",
       "</tr>\n",
       "<tr>\n",
       "  <th>Link Function:</th>         <td>logit</td>      <th>  Scale:             </th> <td>  1.0000</td>\n",
       "</tr>\n",
       "<tr>\n",
       "  <th>Method:</th>                <td>IRLS</td>       <th>  Log-Likelihood:    </th> <td> -1947.4</td>\n",
       "</tr>\n",
       "<tr>\n",
       "  <th>Date:</th>            <td>Wed, 08 Dec 2021</td> <th>  Deviance:          </th> <td>  3894.8</td>\n",
       "</tr>\n",
       "<tr>\n",
       "  <th>Time:</th>                <td>22:29:15</td>     <th>  Pearson chi2:      </th> <td>4.53e+03</td>\n",
       "</tr>\n",
       "<tr>\n",
       "  <th>No. Iterations:</th>          <td>6</td>        <th>                     </th>     <td> </td>   \n",
       "</tr>\n",
       "<tr>\n",
       "  <th>Covariance Type:</th>     <td>nonrobust</td>    <th>                     </th>     <td> </td>   \n",
       "</tr>\n",
       "</table>\n",
       "<table class=\"simpletable\">\n",
       "<tr>\n",
       "                        <td></td>                           <th>coef</th>     <th>std err</th>      <th>z</th>      <th>P>|z|</th>  <th>[0.025</th>    <th>0.975]</th>  \n",
       "</tr>\n",
       "<tr>\n",
       "  <th>const</th>                                         <td>    0.5488</td> <td>    0.217</td> <td>    2.524</td> <td> 0.012</td> <td>    0.123</td> <td>    0.975</td>\n",
       "</tr>\n",
       "<tr>\n",
       "  <th>TotalVisits</th>                                   <td>    1.8220</td> <td>    0.342</td> <td>    5.335</td> <td> 0.000</td> <td>    1.153</td> <td>    2.491</td>\n",
       "</tr>\n",
       "<tr>\n",
       "  <th>Total Time Spent on Website</th>                   <td>    4.5468</td> <td>    0.193</td> <td>   23.502</td> <td> 0.000</td> <td>    4.168</td> <td>    4.926</td>\n",
       "</tr>\n",
       "<tr>\n",
       "  <th>Page Views Per Visit</th>                          <td>   -0.9776</td> <td>    0.289</td> <td>   -3.385</td> <td> 0.001</td> <td>   -1.544</td> <td>   -0.412</td>\n",
       "</tr>\n",
       "<tr>\n",
       "  <th>Lead Origin_Lead Add Form</th>                     <td>    4.0596</td> <td>    0.252</td> <td>   16.137</td> <td> 0.000</td> <td>    3.566</td> <td>    4.553</td>\n",
       "</tr>\n",
       "<tr>\n",
       "  <th>Lead Source_Direct Traffic</th>                    <td>   -0.4315</td> <td>    0.095</td> <td>   -4.565</td> <td> 0.000</td> <td>   -0.617</td> <td>   -0.246</td>\n",
       "</tr>\n",
       "<tr>\n",
       "  <th>Lead Source_Olark Chat</th>                        <td>    1.4577</td> <td>    0.157</td> <td>    9.302</td> <td> 0.000</td> <td>    1.151</td> <td>    1.765</td>\n",
       "</tr>\n",
       "<tr>\n",
       "  <th>Do Not Email_Yes</th>                              <td>   -1.4664</td> <td>    0.201</td> <td>   -7.291</td> <td> 0.000</td> <td>   -1.861</td> <td>   -1.072</td>\n",
       "</tr>\n",
       "<tr>\n",
       "  <th>Last Activity_Had a Phone Conversation</th>        <td>    3.7095</td> <td>    1.213</td> <td>    3.057</td> <td> 0.002</td> <td>    1.331</td> <td>    6.088</td>\n",
       "</tr>\n",
       "<tr>\n",
       "  <th>Last Activity_Olark Chat Conversation</th>         <td>   -0.8181</td> <td>    0.193</td> <td>   -4.237</td> <td> 0.000</td> <td>   -1.197</td> <td>   -0.440</td>\n",
       "</tr>\n",
       "<tr>\n",
       "  <th>Last Activity_SMS Sent</th>                        <td>    1.0924</td> <td>    0.089</td> <td>   12.322</td> <td> 0.000</td> <td>    0.919</td> <td>    1.266</td>\n",
       "</tr>\n",
       "<tr>\n",
       "  <th>What is your current occupation_Student</th>       <td>   -2.6196</td> <td>    0.287</td> <td>   -9.116</td> <td> 0.000</td> <td>   -3.183</td> <td>   -2.056</td>\n",
       "</tr>\n",
       "<tr>\n",
       "  <th>What is your current occupation_Unemployed</th>    <td>   -2.3804</td> <td>    0.183</td> <td>  -13.018</td> <td> 0.000</td> <td>   -2.739</td> <td>   -2.022</td>\n",
       "</tr>\n",
       "<tr>\n",
       "  <th>Last Notable Activity_Modified</th>                <td>   -0.6678</td> <td>    0.096</td> <td>   -6.955</td> <td> 0.000</td> <td>   -0.856</td> <td>   -0.480</td>\n",
       "</tr>\n",
       "<tr>\n",
       "  <th>Last Notable Activity_Page Visited on Website</th> <td>   -0.8249</td> <td>    0.261</td> <td>   -3.160</td> <td> 0.002</td> <td>   -1.336</td> <td>   -0.313</td>\n",
       "</tr>\n",
       "<tr>\n",
       "  <th>Last Notable Activity_Unreachable</th>             <td>    2.5500</td> <td>    0.810</td> <td>    3.149</td> <td> 0.002</td> <td>    0.963</td> <td>    4.137</td>\n",
       "</tr>\n",
       "</table>"
      ],
      "text/plain": [
       "<class 'statsmodels.iolib.summary.Summary'>\n",
       "\"\"\"\n",
       "                 Generalized Linear Model Regression Results                  \n",
       "==============================================================================\n",
       "Dep. Variable:              Converted   No. Observations:                 4358\n",
       "Model:                            GLM   Df Residuals:                     4342\n",
       "Model Family:                Binomial   Df Model:                           15\n",
       "Link Function:                  logit   Scale:                          1.0000\n",
       "Method:                          IRLS   Log-Likelihood:                -1947.4\n",
       "Date:                Wed, 08 Dec 2021   Deviance:                       3894.8\n",
       "Time:                        22:29:15   Pearson chi2:                 4.53e+03\n",
       "No. Iterations:                     6                                         \n",
       "Covariance Type:            nonrobust                                         \n",
       "=================================================================================================================\n",
       "                                                    coef    std err          z      P>|z|      [0.025      0.975]\n",
       "-----------------------------------------------------------------------------------------------------------------\n",
       "const                                             0.5488      0.217      2.524      0.012       0.123       0.975\n",
       "TotalVisits                                       1.8220      0.342      5.335      0.000       1.153       2.491\n",
       "Total Time Spent on Website                       4.5468      0.193     23.502      0.000       4.168       4.926\n",
       "Page Views Per Visit                             -0.9776      0.289     -3.385      0.001      -1.544      -0.412\n",
       "Lead Origin_Lead Add Form                         4.0596      0.252     16.137      0.000       3.566       4.553\n",
       "Lead Source_Direct Traffic                       -0.4315      0.095     -4.565      0.000      -0.617      -0.246\n",
       "Lead Source_Olark Chat                            1.4577      0.157      9.302      0.000       1.151       1.765\n",
       "Do Not Email_Yes                                 -1.4664      0.201     -7.291      0.000      -1.861      -1.072\n",
       "Last Activity_Had a Phone Conversation            3.7095      1.213      3.057      0.002       1.331       6.088\n",
       "Last Activity_Olark Chat Conversation            -0.8181      0.193     -4.237      0.000      -1.197      -0.440\n",
       "Last Activity_SMS Sent                            1.0924      0.089     12.322      0.000       0.919       1.266\n",
       "What is your current occupation_Student          -2.6196      0.287     -9.116      0.000      -3.183      -2.056\n",
       "What is your current occupation_Unemployed       -2.3804      0.183    -13.018      0.000      -2.739      -2.022\n",
       "Last Notable Activity_Modified                   -0.6678      0.096     -6.955      0.000      -0.856      -0.480\n",
       "Last Notable Activity_Page Visited on Website    -0.8249      0.261     -3.160      0.002      -1.336      -0.313\n",
       "Last Notable Activity_Unreachable                 2.5500      0.810      3.149      0.002       0.963       4.137\n",
       "=================================================================================================================\n",
       "\"\"\""
      ]
     },
     "execution_count": 57,
     "metadata": {},
     "output_type": "execute_result"
    }
   ],
   "source": [
    "# Dropping feature and rebuild model\n",
    "selected_features = selected_features.drop('Lead Source_Welingak Website', 1)\n",
    "X_train_sm = sm.add_constant(X_train[selected_features])\n",
    "logm = sm.GLM(y_train,X_train_sm, family = sm.families.Binomial())\n",
    "res = logm.fit()\n",
    "res.summary()"
   ]
  },
  {
   "cell_type": "code",
   "execution_count": 58,
   "id": "1d02dd63",
   "metadata": {},
   "outputs": [
    {
     "data": {
      "text/plain": [
       "15"
      ]
     },
     "execution_count": 58,
     "metadata": {},
     "output_type": "execute_result"
    }
   ],
   "source": [
    "# Check len\n",
    "len(selected_features)"
   ]
  },
  {
   "cell_type": "code",
   "execution_count": 59,
   "id": "a5d0e783",
   "metadata": {},
   "outputs": [
    {
     "data": {
      "text/html": [
       "<div>\n",
       "<style scoped>\n",
       "    .dataframe tbody tr th:only-of-type {\n",
       "        vertical-align: middle;\n",
       "    }\n",
       "\n",
       "    .dataframe tbody tr th {\n",
       "        vertical-align: top;\n",
       "    }\n",
       "\n",
       "    .dataframe thead th {\n",
       "        text-align: right;\n",
       "    }\n",
       "</style>\n",
       "<table border=\"1\" class=\"dataframe\">\n",
       "  <thead>\n",
       "    <tr style=\"text-align: right;\">\n",
       "      <th></th>\n",
       "      <th>Features</th>\n",
       "      <th>VIF</th>\n",
       "    </tr>\n",
       "  </thead>\n",
       "  <tbody>\n",
       "    <tr>\n",
       "      <th>2</th>\n",
       "      <td>Page Views Per Visit</td>\n",
       "      <td>6.05</td>\n",
       "    </tr>\n",
       "    <tr>\n",
       "      <th>11</th>\n",
       "      <td>What is your current occupation_Unemployed</td>\n",
       "      <td>5.05</td>\n",
       "    </tr>\n",
       "    <tr>\n",
       "      <th>0</th>\n",
       "      <td>TotalVisits</td>\n",
       "      <td>4.89</td>\n",
       "    </tr>\n",
       "    <tr>\n",
       "      <th>1</th>\n",
       "      <td>Total Time Spent on Website</td>\n",
       "      <td>2.22</td>\n",
       "    </tr>\n",
       "    <tr>\n",
       "      <th>5</th>\n",
       "      <td>Lead Source_Olark Chat</td>\n",
       "      <td>1.73</td>\n",
       "    </tr>\n",
       "    <tr>\n",
       "      <th>9</th>\n",
       "      <td>Last Activity_SMS Sent</td>\n",
       "      <td>1.67</td>\n",
       "    </tr>\n",
       "    <tr>\n",
       "      <th>12</th>\n",
       "      <td>Last Notable Activity_Modified</td>\n",
       "      <td>1.64</td>\n",
       "    </tr>\n",
       "    <tr>\n",
       "      <th>4</th>\n",
       "      <td>Lead Source_Direct Traffic</td>\n",
       "      <td>1.53</td>\n",
       "    </tr>\n",
       "    <tr>\n",
       "      <th>8</th>\n",
       "      <td>Last Activity_Olark Chat Conversation</td>\n",
       "      <td>1.33</td>\n",
       "    </tr>\n",
       "    <tr>\n",
       "      <th>3</th>\n",
       "      <td>Lead Origin_Lead Add Form</td>\n",
       "      <td>1.32</td>\n",
       "    </tr>\n",
       "    <tr>\n",
       "      <th>10</th>\n",
       "      <td>What is your current occupation_Student</td>\n",
       "      <td>1.15</td>\n",
       "    </tr>\n",
       "    <tr>\n",
       "      <th>13</th>\n",
       "      <td>Last Notable Activity_Page Visited on Website</td>\n",
       "      <td>1.13</td>\n",
       "    </tr>\n",
       "    <tr>\n",
       "      <th>6</th>\n",
       "      <td>Do Not Email_Yes</td>\n",
       "      <td>1.10</td>\n",
       "    </tr>\n",
       "    <tr>\n",
       "      <th>7</th>\n",
       "      <td>Last Activity_Had a Phone Conversation</td>\n",
       "      <td>1.01</td>\n",
       "    </tr>\n",
       "    <tr>\n",
       "      <th>14</th>\n",
       "      <td>Last Notable Activity_Unreachable</td>\n",
       "      <td>1.01</td>\n",
       "    </tr>\n",
       "  </tbody>\n",
       "</table>\n",
       "</div>"
      ],
      "text/plain": [
       "                                         Features   VIF\n",
       "2                            Page Views Per Visit  6.05\n",
       "11     What is your current occupation_Unemployed  5.05\n",
       "0                                     TotalVisits  4.89\n",
       "1                     Total Time Spent on Website  2.22\n",
       "5                          Lead Source_Olark Chat  1.73\n",
       "9                          Last Activity_SMS Sent  1.67\n",
       "12                 Last Notable Activity_Modified  1.64\n",
       "4                      Lead Source_Direct Traffic  1.53\n",
       "8           Last Activity_Olark Chat Conversation  1.33\n",
       "3                       Lead Origin_Lead Add Form  1.32\n",
       "10        What is your current occupation_Student  1.15\n",
       "13  Last Notable Activity_Page Visited on Website  1.13\n",
       "6                                Do Not Email_Yes  1.10\n",
       "7          Last Activity_Had a Phone Conversation  1.01\n",
       "14              Last Notable Activity_Unreachable  1.01"
      ]
     },
     "execution_count": 59,
     "metadata": {},
     "output_type": "execute_result"
    }
   ],
   "source": [
    "# Create a dataframe that will contain the names of all the feature variables and their respective VIFs\n",
    "vif = pd.DataFrame()\n",
    "vif['Features'] = X_train[selected_features].columns\n",
    "vif['VIF'] = [variance_inflation_factor(X_train[selected_features].values, i) \n",
    "              for i in range(X_train[selected_features].shape[1])]\n",
    "vif['VIF'] = round(vif['VIF'], 2)\n",
    "vif = vif.sort_values(by = \"VIF\", ascending = False)\n",
    "vif"
   ]
  },
  {
   "cell_type": "code",
   "execution_count": 60,
   "id": "1f6aec97",
   "metadata": {},
   "outputs": [
    {
     "data": {
      "text/html": [
       "<table class=\"simpletable\">\n",
       "<caption>Generalized Linear Model Regression Results</caption>\n",
       "<tr>\n",
       "  <th>Dep. Variable:</th>       <td>Converted</td>    <th>  No. Observations:  </th>  <td>  4358</td> \n",
       "</tr>\n",
       "<tr>\n",
       "  <th>Model:</th>                  <td>GLM</td>       <th>  Df Residuals:      </th>  <td>  4343</td> \n",
       "</tr>\n",
       "<tr>\n",
       "  <th>Model Family:</th>        <td>Binomial</td>     <th>  Df Model:          </th>  <td>    14</td> \n",
       "</tr>\n",
       "<tr>\n",
       "  <th>Link Function:</th>         <td>logit</td>      <th>  Scale:             </th> <td>  1.0000</td>\n",
       "</tr>\n",
       "<tr>\n",
       "  <th>Method:</th>                <td>IRLS</td>       <th>  Log-Likelihood:    </th> <td> -1953.2</td>\n",
       "</tr>\n",
       "<tr>\n",
       "  <th>Date:</th>            <td>Wed, 08 Dec 2021</td> <th>  Deviance:          </th> <td>  3906.4</td>\n",
       "</tr>\n",
       "<tr>\n",
       "  <th>Time:</th>                <td>22:29:15</td>     <th>  Pearson chi2:      </th> <td>4.54e+03</td>\n",
       "</tr>\n",
       "<tr>\n",
       "  <th>No. Iterations:</th>          <td>6</td>        <th>                     </th>     <td> </td>   \n",
       "</tr>\n",
       "<tr>\n",
       "  <th>Covariance Type:</th>     <td>nonrobust</td>    <th>                     </th>     <td> </td>   \n",
       "</tr>\n",
       "</table>\n",
       "<table class=\"simpletable\">\n",
       "<tr>\n",
       "                        <td></td>                           <th>coef</th>     <th>std err</th>      <th>z</th>      <th>P>|z|</th>  <th>[0.025</th>    <th>0.975]</th>  \n",
       "</tr>\n",
       "<tr>\n",
       "  <th>const</th>                                         <td>    0.3357</td> <td>    0.208</td> <td>    1.614</td> <td> 0.106</td> <td>   -0.072</td> <td>    0.743</td>\n",
       "</tr>\n",
       "<tr>\n",
       "  <th>TotalVisits</th>                                   <td>    1.2238</td> <td>    0.289</td> <td>    4.229</td> <td> 0.000</td> <td>    0.657</td> <td>    1.791</td>\n",
       "</tr>\n",
       "<tr>\n",
       "  <th>Total Time Spent on Website</th>                   <td>    4.5462</td> <td>    0.193</td> <td>   23.508</td> <td> 0.000</td> <td>    4.167</td> <td>    4.925</td>\n",
       "</tr>\n",
       "<tr>\n",
       "  <th>Lead Origin_Lead Add Form</th>                     <td>    4.2744</td> <td>    0.244</td> <td>   17.515</td> <td> 0.000</td> <td>    3.796</td> <td>    4.753</td>\n",
       "</tr>\n",
       "<tr>\n",
       "  <th>Lead Source_Direct Traffic</th>                    <td>   -0.4044</td> <td>    0.094</td> <td>   -4.300</td> <td> 0.000</td> <td>   -0.589</td> <td>   -0.220</td>\n",
       "</tr>\n",
       "<tr>\n",
       "  <th>Lead Source_Olark Chat</th>                        <td>    1.6676</td> <td>    0.145</td> <td>   11.512</td> <td> 0.000</td> <td>    1.384</td> <td>    1.951</td>\n",
       "</tr>\n",
       "<tr>\n",
       "  <th>Do Not Email_Yes</th>                              <td>   -1.4620</td> <td>    0.201</td> <td>   -7.291</td> <td> 0.000</td> <td>   -1.855</td> <td>   -1.069</td>\n",
       "</tr>\n",
       "<tr>\n",
       "  <th>Last Activity_Had a Phone Conversation</th>        <td>    3.6723</td> <td>    1.229</td> <td>    2.988</td> <td> 0.003</td> <td>    1.264</td> <td>    6.081</td>\n",
       "</tr>\n",
       "<tr>\n",
       "  <th>Last Activity_Olark Chat Conversation</th>         <td>   -0.8041</td> <td>    0.192</td> <td>   -4.182</td> <td> 0.000</td> <td>   -1.181</td> <td>   -0.427</td>\n",
       "</tr>\n",
       "<tr>\n",
       "  <th>Last Activity_SMS Sent</th>                        <td>    1.0720</td> <td>    0.088</td> <td>   12.153</td> <td> 0.000</td> <td>    0.899</td> <td>    1.245</td>\n",
       "</tr>\n",
       "<tr>\n",
       "  <th>What is your current occupation_Student</th>       <td>   -2.6177</td> <td>    0.287</td> <td>   -9.117</td> <td> 0.000</td> <td>   -3.180</td> <td>   -2.055</td>\n",
       "</tr>\n",
       "<tr>\n",
       "  <th>What is your current occupation_Unemployed</th>    <td>   -2.3844</td> <td>    0.183</td> <td>  -13.049</td> <td> 0.000</td> <td>   -2.743</td> <td>   -2.026</td>\n",
       "</tr>\n",
       "<tr>\n",
       "  <th>Last Notable Activity_Modified</th>                <td>   -0.6582</td> <td>    0.096</td> <td>   -6.868</td> <td> 0.000</td> <td>   -0.846</td> <td>   -0.470</td>\n",
       "</tr>\n",
       "<tr>\n",
       "  <th>Last Notable Activity_Page Visited on Website</th> <td>   -0.6933</td> <td>    0.256</td> <td>   -2.711</td> <td> 0.007</td> <td>   -1.195</td> <td>   -0.192</td>\n",
       "</tr>\n",
       "<tr>\n",
       "  <th>Last Notable Activity_Unreachable</th>             <td>    2.5455</td> <td>    0.812</td> <td>    3.134</td> <td> 0.002</td> <td>    0.953</td> <td>    4.138</td>\n",
       "</tr>\n",
       "</table>"
      ],
      "text/plain": [
       "<class 'statsmodels.iolib.summary.Summary'>\n",
       "\"\"\"\n",
       "                 Generalized Linear Model Regression Results                  \n",
       "==============================================================================\n",
       "Dep. Variable:              Converted   No. Observations:                 4358\n",
       "Model:                            GLM   Df Residuals:                     4343\n",
       "Model Family:                Binomial   Df Model:                           14\n",
       "Link Function:                  logit   Scale:                          1.0000\n",
       "Method:                          IRLS   Log-Likelihood:                -1953.2\n",
       "Date:                Wed, 08 Dec 2021   Deviance:                       3906.4\n",
       "Time:                        22:29:15   Pearson chi2:                 4.54e+03\n",
       "No. Iterations:                     6                                         \n",
       "Covariance Type:            nonrobust                                         \n",
       "=================================================================================================================\n",
       "                                                    coef    std err          z      P>|z|      [0.025      0.975]\n",
       "-----------------------------------------------------------------------------------------------------------------\n",
       "const                                             0.3357      0.208      1.614      0.106      -0.072       0.743\n",
       "TotalVisits                                       1.2238      0.289      4.229      0.000       0.657       1.791\n",
       "Total Time Spent on Website                       4.5462      0.193     23.508      0.000       4.167       4.925\n",
       "Lead Origin_Lead Add Form                         4.2744      0.244     17.515      0.000       3.796       4.753\n",
       "Lead Source_Direct Traffic                       -0.4044      0.094     -4.300      0.000      -0.589      -0.220\n",
       "Lead Source_Olark Chat                            1.6676      0.145     11.512      0.000       1.384       1.951\n",
       "Do Not Email_Yes                                 -1.4620      0.201     -7.291      0.000      -1.855      -1.069\n",
       "Last Activity_Had a Phone Conversation            3.6723      1.229      2.988      0.003       1.264       6.081\n",
       "Last Activity_Olark Chat Conversation            -0.8041      0.192     -4.182      0.000      -1.181      -0.427\n",
       "Last Activity_SMS Sent                            1.0720      0.088     12.153      0.000       0.899       1.245\n",
       "What is your current occupation_Student          -2.6177      0.287     -9.117      0.000      -3.180      -2.055\n",
       "What is your current occupation_Unemployed       -2.3844      0.183    -13.049      0.000      -2.743      -2.026\n",
       "Last Notable Activity_Modified                   -0.6582      0.096     -6.868      0.000      -0.846      -0.470\n",
       "Last Notable Activity_Page Visited on Website    -0.6933      0.256     -2.711      0.007      -1.195      -0.192\n",
       "Last Notable Activity_Unreachable                 2.5455      0.812      3.134      0.002       0.953       4.138\n",
       "=================================================================================================================\n",
       "\"\"\""
      ]
     },
     "execution_count": 60,
     "metadata": {},
     "output_type": "execute_result"
    }
   ],
   "source": [
    "# Dropping feature and rebuild model\n",
    "selected_features = selected_features.drop('Page Views Per Visit', 1)\n",
    "X_train_sm = sm.add_constant(X_train[selected_features])\n",
    "logm = sm.GLM(y_train,X_train_sm, family = sm.families.Binomial())\n",
    "res = logm.fit()\n",
    "res.summary()"
   ]
  },
  {
   "cell_type": "code",
   "execution_count": 61,
   "id": "1b61c24c",
   "metadata": {},
   "outputs": [
    {
     "data": {
      "text/html": [
       "<div>\n",
       "<style scoped>\n",
       "    .dataframe tbody tr th:only-of-type {\n",
       "        vertical-align: middle;\n",
       "    }\n",
       "\n",
       "    .dataframe tbody tr th {\n",
       "        vertical-align: top;\n",
       "    }\n",
       "\n",
       "    .dataframe thead th {\n",
       "        text-align: right;\n",
       "    }\n",
       "</style>\n",
       "<table border=\"1\" class=\"dataframe\">\n",
       "  <thead>\n",
       "    <tr style=\"text-align: right;\">\n",
       "      <th></th>\n",
       "      <th>Features</th>\n",
       "      <th>VIF</th>\n",
       "    </tr>\n",
       "  </thead>\n",
       "  <tbody>\n",
       "    <tr>\n",
       "      <th>10</th>\n",
       "      <td>What is your current occupation_Unemployed</td>\n",
       "      <td>4.41</td>\n",
       "    </tr>\n",
       "    <tr>\n",
       "      <th>0</th>\n",
       "      <td>TotalVisits</td>\n",
       "      <td>2.93</td>\n",
       "    </tr>\n",
       "    <tr>\n",
       "      <th>1</th>\n",
       "      <td>Total Time Spent on Website</td>\n",
       "      <td>2.19</td>\n",
       "    </tr>\n",
       "    <tr>\n",
       "      <th>8</th>\n",
       "      <td>Last Activity_SMS Sent</td>\n",
       "      <td>1.64</td>\n",
       "    </tr>\n",
       "    <tr>\n",
       "      <th>11</th>\n",
       "      <td>Last Notable Activity_Modified</td>\n",
       "      <td>1.64</td>\n",
       "    </tr>\n",
       "    <tr>\n",
       "      <th>4</th>\n",
       "      <td>Lead Source_Olark Chat</td>\n",
       "      <td>1.61</td>\n",
       "    </tr>\n",
       "    <tr>\n",
       "      <th>3</th>\n",
       "      <td>Lead Source_Direct Traffic</td>\n",
       "      <td>1.53</td>\n",
       "    </tr>\n",
       "    <tr>\n",
       "      <th>7</th>\n",
       "      <td>Last Activity_Olark Chat Conversation</td>\n",
       "      <td>1.33</td>\n",
       "    </tr>\n",
       "    <tr>\n",
       "      <th>2</th>\n",
       "      <td>Lead Origin_Lead Add Form</td>\n",
       "      <td>1.26</td>\n",
       "    </tr>\n",
       "    <tr>\n",
       "      <th>9</th>\n",
       "      <td>What is your current occupation_Student</td>\n",
       "      <td>1.13</td>\n",
       "    </tr>\n",
       "    <tr>\n",
       "      <th>12</th>\n",
       "      <td>Last Notable Activity_Page Visited on Website</td>\n",
       "      <td>1.11</td>\n",
       "    </tr>\n",
       "    <tr>\n",
       "      <th>5</th>\n",
       "      <td>Do Not Email_Yes</td>\n",
       "      <td>1.10</td>\n",
       "    </tr>\n",
       "    <tr>\n",
       "      <th>6</th>\n",
       "      <td>Last Activity_Had a Phone Conversation</td>\n",
       "      <td>1.01</td>\n",
       "    </tr>\n",
       "    <tr>\n",
       "      <th>13</th>\n",
       "      <td>Last Notable Activity_Unreachable</td>\n",
       "      <td>1.01</td>\n",
       "    </tr>\n",
       "  </tbody>\n",
       "</table>\n",
       "</div>"
      ],
      "text/plain": [
       "                                         Features   VIF\n",
       "10     What is your current occupation_Unemployed  4.41\n",
       "0                                     TotalVisits  2.93\n",
       "1                     Total Time Spent on Website  2.19\n",
       "8                          Last Activity_SMS Sent  1.64\n",
       "11                 Last Notable Activity_Modified  1.64\n",
       "4                          Lead Source_Olark Chat  1.61\n",
       "3                      Lead Source_Direct Traffic  1.53\n",
       "7           Last Activity_Olark Chat Conversation  1.33\n",
       "2                       Lead Origin_Lead Add Form  1.26\n",
       "9         What is your current occupation_Student  1.13\n",
       "12  Last Notable Activity_Page Visited on Website  1.11\n",
       "5                                Do Not Email_Yes  1.10\n",
       "6          Last Activity_Had a Phone Conversation  1.01\n",
       "13              Last Notable Activity_Unreachable  1.01"
      ]
     },
     "execution_count": 61,
     "metadata": {},
     "output_type": "execute_result"
    }
   ],
   "source": [
    "# Create a dataframe that will contain the names of all the feature variables and their respective VIFs\n",
    "vif = pd.DataFrame()\n",
    "vif['Features'] = X_train[selected_features].columns\n",
    "vif['VIF'] = [variance_inflation_factor(X_train[selected_features].values, i) \n",
    "              for i in range(X_train[selected_features].shape[1])]\n",
    "vif['VIF'] = round(vif['VIF'], 2)\n",
    "vif = vif.sort_values(by = \"VIF\", ascending = False)\n",
    "vif"
   ]
  },
  {
   "cell_type": "code",
   "execution_count": 62,
   "id": "d27fa44c",
   "metadata": {},
   "outputs": [],
   "source": [
    "# Getting the predicted values on the train set\n",
    "y_train_pred = res.predict(X_train_sm)\n",
    "y_train_pred = y_train_pred.values.reshape(-1)"
   ]
  },
  {
   "cell_type": "code",
   "execution_count": 63,
   "id": "573b9e69",
   "metadata": {},
   "outputs": [
    {
     "data": {
      "text/html": [
       "<div>\n",
       "<style scoped>\n",
       "    .dataframe tbody tr th:only-of-type {\n",
       "        vertical-align: middle;\n",
       "    }\n",
       "\n",
       "    .dataframe tbody tr th {\n",
       "        vertical-align: top;\n",
       "    }\n",
       "\n",
       "    .dataframe thead th {\n",
       "        text-align: right;\n",
       "    }\n",
       "</style>\n",
       "<table border=\"1\" class=\"dataframe\">\n",
       "  <thead>\n",
       "    <tr style=\"text-align: right;\">\n",
       "      <th></th>\n",
       "      <th>Converted</th>\n",
       "      <th>Converted_Prob</th>\n",
       "    </tr>\n",
       "  </thead>\n",
       "  <tbody>\n",
       "    <tr>\n",
       "      <th>0</th>\n",
       "      <td>1</td>\n",
       "      <td>0.550239</td>\n",
       "    </tr>\n",
       "    <tr>\n",
       "      <th>1</th>\n",
       "      <td>1</td>\n",
       "      <td>0.996605</td>\n",
       "    </tr>\n",
       "    <tr>\n",
       "      <th>2</th>\n",
       "      <td>1</td>\n",
       "      <td>0.964351</td>\n",
       "    </tr>\n",
       "    <tr>\n",
       "      <th>3</th>\n",
       "      <td>1</td>\n",
       "      <td>0.686995</td>\n",
       "    </tr>\n",
       "    <tr>\n",
       "      <th>4</th>\n",
       "      <td>0</td>\n",
       "      <td>0.249656</td>\n",
       "    </tr>\n",
       "  </tbody>\n",
       "</table>\n",
       "</div>"
      ],
      "text/plain": [
       "   Converted  Converted_Prob\n",
       "0          1        0.550239\n",
       "1          1        0.996605\n",
       "2          1        0.964351\n",
       "3          1        0.686995\n",
       "4          0        0.249656"
      ]
     },
     "execution_count": 63,
     "metadata": {},
     "output_type": "execute_result"
    }
   ],
   "source": [
    "# Creating a dataframe with the actual lead conversion flag and the predicted probabilities\n",
    "y_train_pred_final = pd.DataFrame({'Converted':y_train.values, 'Converted_Prob':y_train_pred})\n",
    "y_train_pred_final.head()"
   ]
  },
  {
   "cell_type": "code",
   "execution_count": 64,
   "id": "43d927a8",
   "metadata": {},
   "outputs": [
    {
     "data": {
      "text/html": [
       "<div>\n",
       "<style scoped>\n",
       "    .dataframe tbody tr th:only-of-type {\n",
       "        vertical-align: middle;\n",
       "    }\n",
       "\n",
       "    .dataframe tbody tr th {\n",
       "        vertical-align: top;\n",
       "    }\n",
       "\n",
       "    .dataframe thead th {\n",
       "        text-align: right;\n",
       "    }\n",
       "</style>\n",
       "<table border=\"1\" class=\"dataframe\">\n",
       "  <thead>\n",
       "    <tr style=\"text-align: right;\">\n",
       "      <th></th>\n",
       "      <th>Converted</th>\n",
       "      <th>Converted_Prob</th>\n",
       "      <th>predicted</th>\n",
       "    </tr>\n",
       "  </thead>\n",
       "  <tbody>\n",
       "    <tr>\n",
       "      <th>0</th>\n",
       "      <td>1</td>\n",
       "      <td>0.550239</td>\n",
       "      <td>1</td>\n",
       "    </tr>\n",
       "    <tr>\n",
       "      <th>1</th>\n",
       "      <td>1</td>\n",
       "      <td>0.996605</td>\n",
       "      <td>1</td>\n",
       "    </tr>\n",
       "    <tr>\n",
       "      <th>2</th>\n",
       "      <td>1</td>\n",
       "      <td>0.964351</td>\n",
       "      <td>1</td>\n",
       "    </tr>\n",
       "    <tr>\n",
       "      <th>3</th>\n",
       "      <td>1</td>\n",
       "      <td>0.686995</td>\n",
       "      <td>1</td>\n",
       "    </tr>\n",
       "    <tr>\n",
       "      <th>4</th>\n",
       "      <td>0</td>\n",
       "      <td>0.249656</td>\n",
       "      <td>0</td>\n",
       "    </tr>\n",
       "  </tbody>\n",
       "</table>\n",
       "</div>"
      ],
      "text/plain": [
       "   Converted  Converted_Prob  predicted\n",
       "0          1        0.550239          1\n",
       "1          1        0.996605          1\n",
       "2          1        0.964351          1\n",
       "3          1        0.686995          1\n",
       "4          0        0.249656          0"
      ]
     },
     "execution_count": 64,
     "metadata": {},
     "output_type": "execute_result"
    }
   ],
   "source": [
    "# Creating new column 'predicted' with 1 if Churn_Prob > 0.5 else 0\n",
    "y_train_pred_final['predicted'] = y_train_pred_final.Converted_Prob.map(lambda x: 1 if x > 0.5 else 0)\n",
    "y_train_pred_final.head()"
   ]
  },
  {
   "cell_type": "markdown",
   "id": "27f5bfbe",
   "metadata": {},
   "source": [
    "## Model Evaluation"
   ]
  },
  {
   "cell_type": "code",
   "execution_count": 65,
   "id": "028fdc16",
   "metadata": {},
   "outputs": [
    {
     "name": "stdout",
     "output_type": "stream",
     "text": [
      "[[1873  373]\n",
      " [ 523 1589]]\n"
     ]
    }
   ],
   "source": [
    "# Confusion matrix \n",
    "confusion = metrics.confusion_matrix(y_train_pred_final.Converted, y_train_pred_final.predicted )\n",
    "print(confusion)"
   ]
  },
  {
   "cell_type": "code",
   "execution_count": 66,
   "id": "bd2df5e9",
   "metadata": {},
   "outputs": [
    {
     "name": "stdout",
     "output_type": "stream",
     "text": [
      "0.794401101422671\n"
     ]
    }
   ],
   "source": [
    "# Let's check the overall accuracy.\n",
    "print(metrics.accuracy_score(y_train_pred_final.Converted, y_train_pred_final.predicted))"
   ]
  },
  {
   "cell_type": "code",
   "execution_count": 67,
   "id": "240fc374",
   "metadata": {},
   "outputs": [],
   "source": [
    "TP = confusion[1,1] # true positive \n",
    "TN = confusion[0,0] # true negatives\n",
    "FP = confusion[0,1] # false positives\n",
    "FN = confusion[1,0] # false negatives"
   ]
  },
  {
   "cell_type": "code",
   "execution_count": 68,
   "id": "96bf1254",
   "metadata": {},
   "outputs": [
    {
     "data": {
      "text/plain": [
       "0.7523674242424242"
      ]
     },
     "execution_count": 68,
     "metadata": {},
     "output_type": "execute_result"
    }
   ],
   "source": [
    "# Let's see the sensitivity of our logistic regression model\n",
    "TP / float(TP+FN)"
   ]
  },
  {
   "cell_type": "code",
   "execution_count": 69,
   "id": "37118c74",
   "metadata": {},
   "outputs": [
    {
     "data": {
      "text/plain": [
       "0.833926981300089"
      ]
     },
     "execution_count": 69,
     "metadata": {},
     "output_type": "execute_result"
    }
   ],
   "source": [
    "# Let us calculate specificity\n",
    "TN / float(TN+FP)"
   ]
  },
  {
   "cell_type": "markdown",
   "id": "784f1bd4",
   "metadata": {},
   "source": [
    "### Plotting the ROC Curve"
   ]
  },
  {
   "cell_type": "code",
   "execution_count": 70,
   "id": "fb97dca6",
   "metadata": {},
   "outputs": [],
   "source": [
    "# Helper function to draw ROC curve\n",
    "def draw_roc( actual, probs ):\n",
    "    fpr, tpr, thresholds = metrics.roc_curve( actual, probs,\n",
    "                                              drop_intermediate = False )\n",
    "    auc_score = metrics.roc_auc_score( actual, probs )\n",
    "    plt.figure(figsize=(5, 5))\n",
    "    plt.plot( fpr, tpr, label='ROC curve (area = %0.2f)' % auc_score )\n",
    "    plt.plot([0, 1], [0, 1], 'k--')\n",
    "    plt.xlim([0.0, 1.0])\n",
    "    plt.ylim([0.0, 1.05])\n",
    "    plt.xlabel('False Positive Rate or [1 - True Negative Rate]')\n",
    "    plt.ylabel('True Positive Rate')\n",
    "    plt.title('Receiver operating characteristic example')\n",
    "    plt.legend(loc=\"lower right\")\n",
    "    plt.show()\n",
    "\n",
    "    return None"
   ]
  },
  {
   "cell_type": "code",
   "execution_count": 71,
   "id": "c2deacb5",
   "metadata": {},
   "outputs": [],
   "source": [
    "# Calculate key matrics for ROC curve\n",
    "fpr, tpr, thresholds = metrics.roc_curve( y_train_pred_final.Converted, \n",
    "                                         y_train_pred_final.Converted_Prob, drop_intermediate = False )"
   ]
  },
  {
   "cell_type": "code",
   "execution_count": 72,
   "id": "6a69adf0",
   "metadata": {},
   "outputs": [
    {
     "data": {
      "image/png": "[encoded data removed]",
      "text/plain": [
       "<Figure size 360x360 with 1 Axes>"
      ]
     },
     "metadata": {},
     "output_type": "display_data"
    }
   ],
   "source": [
    "# Plotting ROC curve\n",
    "draw_roc(y_train_pred_final.Converted, y_train_pred_final.Converted_Prob)"
   ]
  },
  {
   "cell_type": "markdown",
   "id": "25192172",
   "metadata": {},
   "source": [
    "### Finding Optimal Cutoff Point"
   ]
  },
  {
   "cell_type": "code",
   "execution_count": 73,
   "id": "1ae4128b",
   "metadata": {},
   "outputs": [
    {
     "data": {
      "text/html": [
       "<div>\n",
       "<style scoped>\n",
       "    .dataframe tbody tr th:only-of-type {\n",
       "        vertical-align: middle;\n",
       "    }\n",
       "\n",
       "    .dataframe tbody tr th {\n",
       "        vertical-align: top;\n",
       "    }\n",
       "\n",
       "    .dataframe thead th {\n",
       "        text-align: right;\n",
       "    }\n",
       "</style>\n",
       "<table border=\"1\" class=\"dataframe\">\n",
       "  <thead>\n",
       "    <tr style=\"text-align: right;\">\n",
       "      <th></th>\n",
       "      <th>Converted</th>\n",
       "      <th>Converted_Prob</th>\n",
       "      <th>predicted</th>\n",
       "      <th>0.0</th>\n",
       "      <th>0.1</th>\n",
       "      <th>0.2</th>\n",
       "      <th>0.3</th>\n",
       "      <th>0.4</th>\n",
       "      <th>0.5</th>\n",
       "      <th>0.6</th>\n",
       "      <th>0.7</th>\n",
       "      <th>0.8</th>\n",
       "      <th>0.9</th>\n",
       "    </tr>\n",
       "  </thead>\n",
       "  <tbody>\n",
       "    <tr>\n",
       "      <th>0</th>\n",
       "      <td>1</td>\n",
       "      <td>0.550239</td>\n",
       "      <td>1</td>\n",
       "      <td>1</td>\n",
       "      <td>1</td>\n",
       "      <td>1</td>\n",
       "      <td>1</td>\n",
       "      <td>1</td>\n",
       "      <td>1</td>\n",
       "      <td>0</td>\n",
       "      <td>0</td>\n",
       "      <td>0</td>\n",
       "      <td>0</td>\n",
       "    </tr>\n",
       "    <tr>\n",
       "      <th>1</th>\n",
       "      <td>1</td>\n",
       "      <td>0.996605</td>\n",
       "      <td>1</td>\n",
       "      <td>1</td>\n",
       "      <td>1</td>\n",
       "      <td>1</td>\n",
       "      <td>1</td>\n",
       "      <td>1</td>\n",
       "      <td>1</td>\n",
       "      <td>1</td>\n",
       "      <td>1</td>\n",
       "      <td>1</td>\n",
       "      <td>1</td>\n",
       "    </tr>\n",
       "    <tr>\n",
       "      <th>2</th>\n",
       "      <td>1</td>\n",
       "      <td>0.964351</td>\n",
       "      <td>1</td>\n",
       "      <td>1</td>\n",
       "      <td>1</td>\n",
       "      <td>1</td>\n",
       "      <td>1</td>\n",
       "      <td>1</td>\n",
       "      <td>1</td>\n",
       "      <td>1</td>\n",
       "      <td>1</td>\n",
       "      <td>1</td>\n",
       "      <td>1</td>\n",
       "    </tr>\n",
       "    <tr>\n",
       "      <th>3</th>\n",
       "      <td>1</td>\n",
       "      <td>0.686995</td>\n",
       "      <td>1</td>\n",
       "      <td>1</td>\n",
       "      <td>1</td>\n",
       "      <td>1</td>\n",
       "      <td>1</td>\n",
       "      <td>1</td>\n",
       "      <td>1</td>\n",
       "      <td>1</td>\n",
       "      <td>0</td>\n",
       "      <td>0</td>\n",
       "      <td>0</td>\n",
       "    </tr>\n",
       "    <tr>\n",
       "      <th>4</th>\n",
       "      <td>0</td>\n",
       "      <td>0.249656</td>\n",
       "      <td>0</td>\n",
       "      <td>1</td>\n",
       "      <td>1</td>\n",
       "      <td>1</td>\n",
       "      <td>0</td>\n",
       "      <td>0</td>\n",
       "      <td>0</td>\n",
       "      <td>0</td>\n",
       "      <td>0</td>\n",
       "      <td>0</td>\n",
       "      <td>0</td>\n",
       "    </tr>\n",
       "  </tbody>\n",
       "</table>\n",
       "</div>"
      ],
      "text/plain": [
       "   Converted  Converted_Prob  predicted  0.0  0.1  0.2  0.3  0.4  0.5  0.6  \\\n",
       "0          1        0.550239          1    1    1    1    1    1    1    0   \n",
       "1          1        0.996605          1    1    1    1    1    1    1    1   \n",
       "2          1        0.964351          1    1    1    1    1    1    1    1   \n",
       "3          1        0.686995          1    1    1    1    1    1    1    1   \n",
       "4          0        0.249656          0    1    1    1    0    0    0    0   \n",
       "\n",
       "   0.7  0.8  0.9  \n",
       "0    0    0    0  \n",
       "1    1    1    1  \n",
       "2    1    1    1  \n",
       "3    0    0    0  \n",
       "4    0    0    0  "
      ]
     },
     "execution_count": 73,
     "metadata": {},
     "output_type": "execute_result"
    }
   ],
   "source": [
    "# Create columns with different probability cutoffs \n",
    "numbers = [float(x)/10 for x in range(10)]\n",
    "for i in numbers:\n",
    "    y_train_pred_final[i]= y_train_pred_final.Converted_Prob.map(lambda x: 1 if x > i else 0)\n",
    "y_train_pred_final.head()"
   ]
  },
  {
   "cell_type": "code",
   "execution_count": 74,
   "id": "c3d7afaa",
   "metadata": {},
   "outputs": [
    {
     "data": {
      "text/html": [
       "<div>\n",
       "<style scoped>\n",
       "    .dataframe tbody tr th:only-of-type {\n",
       "        vertical-align: middle;\n",
       "    }\n",
       "\n",
       "    .dataframe tbody tr th {\n",
       "        vertical-align: top;\n",
       "    }\n",
       "\n",
       "    .dataframe thead th {\n",
       "        text-align: right;\n",
       "    }\n",
       "</style>\n",
       "<table border=\"1\" class=\"dataframe\">\n",
       "  <thead>\n",
       "    <tr style=\"text-align: right;\">\n",
       "      <th></th>\n",
       "      <th>prob</th>\n",
       "      <th>accuracy</th>\n",
       "      <th>sensi</th>\n",
       "      <th>speci</th>\n",
       "    </tr>\n",
       "  </thead>\n",
       "  <tbody>\n",
       "    <tr>\n",
       "      <th>0.0</th>\n",
       "      <td>0.0</td>\n",
       "      <td>0.484626</td>\n",
       "      <td>1.000000</td>\n",
       "      <td>0.000000</td>\n",
       "    </tr>\n",
       "    <tr>\n",
       "      <th>0.1</th>\n",
       "      <td>0.1</td>\n",
       "      <td>0.581918</td>\n",
       "      <td>0.984848</td>\n",
       "      <td>0.203028</td>\n",
       "    </tr>\n",
       "    <tr>\n",
       "      <th>0.2</th>\n",
       "      <td>0.2</td>\n",
       "      <td>0.719826</td>\n",
       "      <td>0.945076</td>\n",
       "      <td>0.508014</td>\n",
       "    </tr>\n",
       "    <tr>\n",
       "      <th>0.3</th>\n",
       "      <td>0.3</td>\n",
       "      <td>0.773749</td>\n",
       "      <td>0.897727</td>\n",
       "      <td>0.657168</td>\n",
       "    </tr>\n",
       "    <tr>\n",
       "      <th>0.4</th>\n",
       "      <td>0.4</td>\n",
       "      <td>0.790730</td>\n",
       "      <td>0.850379</td>\n",
       "      <td>0.734639</td>\n",
       "    </tr>\n",
       "    <tr>\n",
       "      <th>0.5</th>\n",
       "      <td>0.5</td>\n",
       "      <td>0.794401</td>\n",
       "      <td>0.752367</td>\n",
       "      <td>0.833927</td>\n",
       "    </tr>\n",
       "    <tr>\n",
       "      <th>0.6</th>\n",
       "      <td>0.6</td>\n",
       "      <td>0.783616</td>\n",
       "      <td>0.689394</td>\n",
       "      <td>0.872217</td>\n",
       "    </tr>\n",
       "    <tr>\n",
       "      <th>0.7</th>\n",
       "      <td>0.7</td>\n",
       "      <td>0.750344</td>\n",
       "      <td>0.570549</td>\n",
       "      <td>0.919412</td>\n",
       "    </tr>\n",
       "    <tr>\n",
       "      <th>0.8</th>\n",
       "      <td>0.8</td>\n",
       "      <td>0.721202</td>\n",
       "      <td>0.479640</td>\n",
       "      <td>0.948353</td>\n",
       "    </tr>\n",
       "    <tr>\n",
       "      <th>0.9</th>\n",
       "      <td>0.9</td>\n",
       "      <td>0.662689</td>\n",
       "      <td>0.325284</td>\n",
       "      <td>0.979964</td>\n",
       "    </tr>\n",
       "  </tbody>\n",
       "</table>\n",
       "</div>"
      ],
      "text/plain": [
       "     prob  accuracy     sensi     speci\n",
       "0.0   0.0  0.484626  1.000000  0.000000\n",
       "0.1   0.1  0.581918  0.984848  0.203028\n",
       "0.2   0.2  0.719826  0.945076  0.508014\n",
       "0.3   0.3  0.773749  0.897727  0.657168\n",
       "0.4   0.4  0.790730  0.850379  0.734639\n",
       "0.5   0.5  0.794401  0.752367  0.833927\n",
       "0.6   0.6  0.783616  0.689394  0.872217\n",
       "0.7   0.7  0.750344  0.570549  0.919412\n",
       "0.8   0.8  0.721202  0.479640  0.948353\n",
       "0.9   0.9  0.662689  0.325284  0.979964"
      ]
     },
     "execution_count": 74,
     "metadata": {},
     "output_type": "execute_result"
    }
   ],
   "source": [
    "# Now let's calculate accuracy sensitivity and specificity for various probability cutoffs.\n",
    "cutoff_df = pd.DataFrame( columns = ['prob','accuracy','sensi','speci'])\n",
    "from sklearn.metrics import confusion_matrix\n",
    "\n",
    "num = [0.0,0.1,0.2,0.3,0.4,0.5,0.6,0.7,0.8,0.9]\n",
    "for i in num:\n",
    "    cm1 = metrics.confusion_matrix(y_train_pred_final.Converted, y_train_pred_final[i] )\n",
    "    total1=sum(sum(cm1))\n",
    "    accuracy = (cm1[0,0]+cm1[1,1])/total1\n",
    "    \n",
    "    speci = cm1[0,0]/(cm1[0,0]+cm1[0,1])\n",
    "    sensi = cm1[1,1]/(cm1[1,0]+cm1[1,1])\n",
    "    cutoff_df.loc[i] =[ i ,accuracy,sensi,speci]\n",
    "cutoff_df"
   ]
  },
  {
   "cell_type": "code",
   "execution_count": 75,
   "id": "e2457db1",
   "metadata": {},
   "outputs": [
    {
     "data": {
      "image/png": "[encoded data removed]",
      "text/plain": [
       "<Figure size 432x288 with 1 Axes>"
      ]
     },
     "metadata": {},
     "output_type": "display_data"
    }
   ],
   "source": [
    "# Plot accuracy sensitivity and specificity for various probabilities.\n",
    "cutoff_df.plot.line(x='prob', y=['accuracy','sensi','speci'])\n",
    "plt.show()"
   ]
  },
  {
   "cell_type": "code",
   "execution_count": 76,
   "id": "836b45b8",
   "metadata": {},
   "outputs": [
    {
     "data": {
      "text/html": [
       "<div>\n",
       "<style scoped>\n",
       "    .dataframe tbody tr th:only-of-type {\n",
       "        vertical-align: middle;\n",
       "    }\n",
       "\n",
       "    .dataframe tbody tr th {\n",
       "        vertical-align: top;\n",
       "    }\n",
       "\n",
       "    .dataframe thead th {\n",
       "        text-align: right;\n",
       "    }\n",
       "</style>\n",
       "<table border=\"1\" class=\"dataframe\">\n",
       "  <thead>\n",
       "    <tr style=\"text-align: right;\">\n",
       "      <th></th>\n",
       "      <th>Converted</th>\n",
       "      <th>Converted_Prob</th>\n",
       "      <th>predicted</th>\n",
       "      <th>0.0</th>\n",
       "      <th>0.1</th>\n",
       "      <th>0.2</th>\n",
       "      <th>0.3</th>\n",
       "      <th>0.4</th>\n",
       "      <th>0.5</th>\n",
       "      <th>0.6</th>\n",
       "      <th>0.7</th>\n",
       "      <th>0.8</th>\n",
       "      <th>0.9</th>\n",
       "      <th>final_predicted</th>\n",
       "    </tr>\n",
       "  </thead>\n",
       "  <tbody>\n",
       "    <tr>\n",
       "      <th>0</th>\n",
       "      <td>1</td>\n",
       "      <td>0.550239</td>\n",
       "      <td>1</td>\n",
       "      <td>1</td>\n",
       "      <td>1</td>\n",
       "      <td>1</td>\n",
       "      <td>1</td>\n",
       "      <td>1</td>\n",
       "      <td>1</td>\n",
       "      <td>0</td>\n",
       "      <td>0</td>\n",
       "      <td>0</td>\n",
       "      <td>0</td>\n",
       "      <td>1</td>\n",
       "    </tr>\n",
       "    <tr>\n",
       "      <th>1</th>\n",
       "      <td>1</td>\n",
       "      <td>0.996605</td>\n",
       "      <td>1</td>\n",
       "      <td>1</td>\n",
       "      <td>1</td>\n",
       "      <td>1</td>\n",
       "      <td>1</td>\n",
       "      <td>1</td>\n",
       "      <td>1</td>\n",
       "      <td>1</td>\n",
       "      <td>1</td>\n",
       "      <td>1</td>\n",
       "      <td>1</td>\n",
       "      <td>1</td>\n",
       "    </tr>\n",
       "    <tr>\n",
       "      <th>2</th>\n",
       "      <td>1</td>\n",
       "      <td>0.964351</td>\n",
       "      <td>1</td>\n",
       "      <td>1</td>\n",
       "      <td>1</td>\n",
       "      <td>1</td>\n",
       "      <td>1</td>\n",
       "      <td>1</td>\n",
       "      <td>1</td>\n",
       "      <td>1</td>\n",
       "      <td>1</td>\n",
       "      <td>1</td>\n",
       "      <td>1</td>\n",
       "      <td>1</td>\n",
       "    </tr>\n",
       "    <tr>\n",
       "      <th>3</th>\n",
       "      <td>1</td>\n",
       "      <td>0.686995</td>\n",
       "      <td>1</td>\n",
       "      <td>1</td>\n",
       "      <td>1</td>\n",
       "      <td>1</td>\n",
       "      <td>1</td>\n",
       "      <td>1</td>\n",
       "      <td>1</td>\n",
       "      <td>1</td>\n",
       "      <td>0</td>\n",
       "      <td>0</td>\n",
       "      <td>0</td>\n",
       "      <td>1</td>\n",
       "    </tr>\n",
       "    <tr>\n",
       "      <th>4</th>\n",
       "      <td>0</td>\n",
       "      <td>0.249656</td>\n",
       "      <td>0</td>\n",
       "      <td>1</td>\n",
       "      <td>1</td>\n",
       "      <td>1</td>\n",
       "      <td>0</td>\n",
       "      <td>0</td>\n",
       "      <td>0</td>\n",
       "      <td>0</td>\n",
       "      <td>0</td>\n",
       "      <td>0</td>\n",
       "      <td>0</td>\n",
       "      <td>0</td>\n",
       "    </tr>\n",
       "  </tbody>\n",
       "</table>\n",
       "</div>"
      ],
      "text/plain": [
       "   Converted  Converted_Prob  predicted  0.0  0.1  0.2  0.3  0.4  0.5  0.6  \\\n",
       "0          1        0.550239          1    1    1    1    1    1    1    0   \n",
       "1          1        0.996605          1    1    1    1    1    1    1    1   \n",
       "2          1        0.964351          1    1    1    1    1    1    1    1   \n",
       "3          1        0.686995          1    1    1    1    1    1    1    1   \n",
       "4          0        0.249656          0    1    1    1    0    0    0    0   \n",
       "\n",
       "   0.7  0.8  0.9  final_predicted  \n",
       "0    0    0    0                1  \n",
       "1    1    1    1                1  \n",
       "2    1    1    1                1  \n",
       "3    0    0    0                1  \n",
       "4    0    0    0                0  "
      ]
     },
     "execution_count": 76,
     "metadata": {},
     "output_type": "execute_result"
    }
   ],
   "source": [
    "# Get prediction based on cutoff point\n",
    "y_train_pred_final['final_predicted'] = y_train_pred_final.Converted_Prob.map( lambda x: 1 if x > 0.43 else 0)\n",
    "y_train_pred_final.head()"
   ]
  },
  {
   "cell_type": "code",
   "execution_count": 77,
   "id": "fd7a2765",
   "metadata": {},
   "outputs": [
    {
     "data": {
      "text/plain": [
       "0.7930243230839835"
      ]
     },
     "execution_count": 77,
     "metadata": {},
     "output_type": "execute_result"
    }
   ],
   "source": [
    "# Check the overall accuracy.\n",
    "metrics.accuracy_score(y_train_pred_final.Converted, y_train_pred_final.final_predicted)"
   ]
  },
  {
   "cell_type": "code",
   "execution_count": 78,
   "id": "f77bef4f",
   "metadata": {},
   "outputs": [
    {
     "data": {
      "text/plain": [
       "array([[1776,  470],\n",
       "       [ 432, 1680]], dtype=int64)"
      ]
     },
     "execution_count": 78,
     "metadata": {},
     "output_type": "execute_result"
    }
   ],
   "source": [
    "# Confusion matrix\n",
    "confusion2 = metrics.confusion_matrix(y_train_pred_final.Converted, y_train_pred_final.final_predicted )\n",
    "confusion2"
   ]
  },
  {
   "cell_type": "code",
   "execution_count": 79,
   "id": "98ade3f3",
   "metadata": {},
   "outputs": [],
   "source": [
    "TP = confusion2[1,1] # true positive \n",
    "TN = confusion2[0,0] # true negatives\n",
    "FP = confusion2[0,1] # false positives\n",
    "FN = confusion2[1,0] # false negatives"
   ]
  },
  {
   "cell_type": "code",
   "execution_count": 80,
   "id": "e310bb61",
   "metadata": {},
   "outputs": [
    {
     "data": {
      "text/plain": [
       "0.7954545454545454"
      ]
     },
     "execution_count": 80,
     "metadata": {},
     "output_type": "execute_result"
    }
   ],
   "source": [
    "# See the sensitivity of our logistic regression model\n",
    "TP / float(TP+FN)"
   ]
  },
  {
   "cell_type": "code",
   "execution_count": 81,
   "id": "c7655c2d",
   "metadata": {},
   "outputs": [
    {
     "data": {
      "text/plain": [
       "0.7907390917186109"
      ]
     },
     "execution_count": 81,
     "metadata": {},
     "output_type": "execute_result"
    }
   ],
   "source": [
    "# Calculate specificity\n",
    "TN / float(TN+FP)"
   ]
  },
  {
   "cell_type": "markdown",
   "id": "0a04fbd6",
   "metadata": {},
   "source": [
    "### Calulating Precision & Recall"
   ]
  },
  {
   "cell_type": "code",
   "execution_count": 82,
   "id": "5327f48a",
   "metadata": {},
   "outputs": [
    {
     "data": {
      "text/plain": [
       "0.8098878695208971"
      ]
     },
     "execution_count": 82,
     "metadata": {},
     "output_type": "execute_result"
    }
   ],
   "source": [
    "# Precision\n",
    "precision_score(y_train_pred_final.Converted, y_train_pred_final.predicted)"
   ]
  },
  {
   "cell_type": "code",
   "execution_count": 83,
   "id": "23ec650c",
   "metadata": {},
   "outputs": [
    {
     "data": {
      "text/plain": [
       "0.7523674242424242"
      ]
     },
     "execution_count": 83,
     "metadata": {},
     "output_type": "execute_result"
    }
   ],
   "source": [
    "# Recall\n",
    "recall_score(y_train_pred_final.Converted, y_train_pred_final.predicted)"
   ]
  },
  {
   "cell_type": "code",
   "execution_count": 84,
   "id": "4c8b760e",
   "metadata": {},
   "outputs": [],
   "source": [
    "# Precision & Recall tradeoff\n",
    "p, r, thresholds = precision_recall_curve(y_train_pred_final.Converted, y_train_pred_final.Converted_Prob)"
   ]
  },
  {
   "cell_type": "code",
   "execution_count": 85,
   "id": "45650800",
   "metadata": {},
   "outputs": [
    {
     "data": {
      "image/png": "[encoded data removed]",
      "text/plain": [
       "<Figure size 432x288 with 1 Axes>"
      ]
     },
     "metadata": {},
     "output_type": "display_data"
    }
   ],
   "source": [
    "# Plotting Curve\n",
    "plt.plot(thresholds, p[:-1], \"g-\")\n",
    "plt.plot(thresholds, r[:-1], \"r-\")\n",
    "plt.show()"
   ]
  },
  {
   "cell_type": "markdown",
   "id": "20ae3b7f",
   "metadata": {},
   "source": [
    "## Making Predictions on the Test Set"
   ]
  },
  {
   "cell_type": "code",
   "execution_count": 86,
   "id": "b6078b8a",
   "metadata": {},
   "outputs": [],
   "source": [
    "# Scale the test set as well using just 'transform'\n",
    "features = ['TotalVisits','Total Time Spent on Website','Page Views Per Visit']\n",
    "X_test[features] = scaler.fit_transform(X_test[features])"
   ]
  },
  {
   "cell_type": "code",
   "execution_count": 87,
   "id": "70f120f7",
   "metadata": {},
   "outputs": [
    {
     "data": {
      "text/html": [
       "<div>\n",
       "<style scoped>\n",
       "    .dataframe tbody tr th:only-of-type {\n",
       "        vertical-align: middle;\n",
       "    }\n",
       "\n",
       "    .dataframe tbody tr th {\n",
       "        vertical-align: top;\n",
       "    }\n",
       "\n",
       "    .dataframe thead th {\n",
       "        text-align: right;\n",
       "    }\n",
       "</style>\n",
       "<table border=\"1\" class=\"dataframe\">\n",
       "  <thead>\n",
       "    <tr style=\"text-align: right;\">\n",
       "      <th></th>\n",
       "      <th>TotalVisits</th>\n",
       "      <th>Total Time Spent on Website</th>\n",
       "      <th>Lead Origin_Lead Add Form</th>\n",
       "      <th>Lead Source_Direct Traffic</th>\n",
       "      <th>Lead Source_Olark Chat</th>\n",
       "      <th>Do Not Email_Yes</th>\n",
       "      <th>Last Activity_Had a Phone Conversation</th>\n",
       "      <th>Last Activity_Olark Chat Conversation</th>\n",
       "      <th>Last Activity_SMS Sent</th>\n",
       "      <th>What is your current occupation_Student</th>\n",
       "      <th>What is your current occupation_Unemployed</th>\n",
       "      <th>Last Notable Activity_Modified</th>\n",
       "      <th>Last Notable Activity_Page Visited on Website</th>\n",
       "      <th>Last Notable Activity_Unreachable</th>\n",
       "    </tr>\n",
       "  </thead>\n",
       "  <tbody>\n",
       "    <tr>\n",
       "      <th>5067</th>\n",
       "      <td>0.294118</td>\n",
       "      <td>0.075899</td>\n",
       "      <td>0</td>\n",
       "      <td>0</td>\n",
       "      <td>0</td>\n",
       "      <td>0</td>\n",
       "      <td>0</td>\n",
       "      <td>0</td>\n",
       "      <td>0</td>\n",
       "      <td>0</td>\n",
       "      <td>1</td>\n",
       "      <td>0</td>\n",
       "      <td>0</td>\n",
       "      <td>0</td>\n",
       "    </tr>\n",
       "    <tr>\n",
       "      <th>5655</th>\n",
       "      <td>0.058824</td>\n",
       "      <td>0.220151</td>\n",
       "      <td>0</td>\n",
       "      <td>1</td>\n",
       "      <td>0</td>\n",
       "      <td>0</td>\n",
       "      <td>0</td>\n",
       "      <td>0</td>\n",
       "      <td>0</td>\n",
       "      <td>1</td>\n",
       "      <td>0</td>\n",
       "      <td>1</td>\n",
       "      <td>0</td>\n",
       "      <td>0</td>\n",
       "    </tr>\n",
       "    <tr>\n",
       "      <th>8114</th>\n",
       "      <td>0.294118</td>\n",
       "      <td>0.620950</td>\n",
       "      <td>0</td>\n",
       "      <td>1</td>\n",
       "      <td>0</td>\n",
       "      <td>0</td>\n",
       "      <td>0</td>\n",
       "      <td>0</td>\n",
       "      <td>0</td>\n",
       "      <td>0</td>\n",
       "      <td>1</td>\n",
       "      <td>1</td>\n",
       "      <td>0</td>\n",
       "      <td>0</td>\n",
       "    </tr>\n",
       "    <tr>\n",
       "      <th>1931</th>\n",
       "      <td>0.000000</td>\n",
       "      <td>0.000000</td>\n",
       "      <td>0</td>\n",
       "      <td>0</td>\n",
       "      <td>1</td>\n",
       "      <td>0</td>\n",
       "      <td>0</td>\n",
       "      <td>0</td>\n",
       "      <td>1</td>\n",
       "      <td>0</td>\n",
       "      <td>1</td>\n",
       "      <td>1</td>\n",
       "      <td>0</td>\n",
       "      <td>0</td>\n",
       "    </tr>\n",
       "    <tr>\n",
       "      <th>3325</th>\n",
       "      <td>0.000000</td>\n",
       "      <td>0.000000</td>\n",
       "      <td>1</td>\n",
       "      <td>0</td>\n",
       "      <td>0</td>\n",
       "      <td>0</td>\n",
       "      <td>0</td>\n",
       "      <td>0</td>\n",
       "      <td>1</td>\n",
       "      <td>0</td>\n",
       "      <td>1</td>\n",
       "      <td>0</td>\n",
       "      <td>0</td>\n",
       "      <td>0</td>\n",
       "    </tr>\n",
       "  </tbody>\n",
       "</table>\n",
       "</div>"
      ],
      "text/plain": [
       "      TotalVisits  Total Time Spent on Website  Lead Origin_Lead Add Form  \\\n",
       "5067     0.294118                     0.075899                          0   \n",
       "5655     0.058824                     0.220151                          0   \n",
       "8114     0.294118                     0.620950                          0   \n",
       "1931     0.000000                     0.000000                          0   \n",
       "3325     0.000000                     0.000000                          1   \n",
       "\n",
       "      Lead Source_Direct Traffic  Lead Source_Olark Chat  Do Not Email_Yes  \\\n",
       "5067                           0                       0                 0   \n",
       "5655                           1                       0                 0   \n",
       "8114                           1                       0                 0   \n",
       "1931                           0                       1                 0   \n",
       "3325                           0                       0                 0   \n",
       "\n",
       "      Last Activity_Had a Phone Conversation  \\\n",
       "5067                                       0   \n",
       "5655                                       0   \n",
       "8114                                       0   \n",
       "1931                                       0   \n",
       "3325                                       0   \n",
       "\n",
       "      Last Activity_Olark Chat Conversation  Last Activity_SMS Sent  \\\n",
       "5067                                      0                       0   \n",
       "5655                                      0                       0   \n",
       "8114                                      0                       0   \n",
       "1931                                      0                       1   \n",
       "3325                                      0                       1   \n",
       "\n",
       "      What is your current occupation_Student  \\\n",
       "5067                                        0   \n",
       "5655                                        1   \n",
       "8114                                        0   \n",
       "1931                                        0   \n",
       "3325                                        0   \n",
       "\n",
       "      What is your current occupation_Unemployed  \\\n",
       "5067                                           1   \n",
       "5655                                           0   \n",
       "8114                                           1   \n",
       "1931                                           1   \n",
       "3325                                           1   \n",
       "\n",
       "      Last Notable Activity_Modified  \\\n",
       "5067                               0   \n",
       "5655                               1   \n",
       "8114                               1   \n",
       "1931                               1   \n",
       "3325                               0   \n",
       "\n",
       "      Last Notable Activity_Page Visited on Website  \\\n",
       "5067                                              0   \n",
       "5655                                              0   \n",
       "8114                                              0   \n",
       "1931                                              0   \n",
       "3325                                              0   \n",
       "\n",
       "      Last Notable Activity_Unreachable  \n",
       "5067                                  0  \n",
       "5655                                  0  \n",
       "8114                                  0  \n",
       "1931                                  0  \n",
       "3325                                  0  "
      ]
     },
     "execution_count": 87,
     "metadata": {},
     "output_type": "execute_result"
    }
   ],
   "source": [
    "# Select feature used in model\n",
    "X_test = X_test[selected_features]\n",
    "X_test.head()"
   ]
  },
  {
   "cell_type": "code",
   "execution_count": 88,
   "id": "1f89e17f",
   "metadata": {},
   "outputs": [],
   "source": [
    "# Add a constant to X_test\n",
    "X_test_sm = sm.add_constant(X_test)"
   ]
  },
  {
   "cell_type": "code",
   "execution_count": 89,
   "id": "5a24d8a8",
   "metadata": {},
   "outputs": [],
   "source": [
    "# Make predictions on the test set and store it in the variable 'y_test_pred'\n",
    "y_test_pred = res.predict(X_test_sm)"
   ]
  },
  {
   "cell_type": "code",
   "execution_count": 90,
   "id": "6f12652a",
   "metadata": {},
   "outputs": [
    {
     "data": {
      "text/html": [
       "<div>\n",
       "<style scoped>\n",
       "    .dataframe tbody tr th:only-of-type {\n",
       "        vertical-align: middle;\n",
       "    }\n",
       "\n",
       "    .dataframe tbody tr th {\n",
       "        vertical-align: top;\n",
       "    }\n",
       "\n",
       "    .dataframe thead th {\n",
       "        text-align: right;\n",
       "    }\n",
       "</style>\n",
       "<table border=\"1\" class=\"dataframe\">\n",
       "  <thead>\n",
       "    <tr style=\"text-align: right;\">\n",
       "      <th></th>\n",
       "      <th>0</th>\n",
       "    </tr>\n",
       "  </thead>\n",
       "  <tbody>\n",
       "    <tr>\n",
       "      <th>5067</th>\n",
       "      <td>0.206905</td>\n",
       "    </tr>\n",
       "    <tr>\n",
       "      <th>5655</th>\n",
       "      <td>0.093498</td>\n",
       "    </tr>\n",
       "    <tr>\n",
       "      <th>8114</th>\n",
       "      <td>0.517916</td>\n",
       "    </tr>\n",
       "    <tr>\n",
       "      <th>1931</th>\n",
       "      <td>0.508179</td>\n",
       "    </tr>\n",
       "    <tr>\n",
       "      <th>3325</th>\n",
       "      <td>0.964351</td>\n",
       "    </tr>\n",
       "  </tbody>\n",
       "</table>\n",
       "</div>"
      ],
      "text/plain": [
       "             0\n",
       "5067  0.206905\n",
       "5655  0.093498\n",
       "8114  0.517916\n",
       "1931  0.508179\n",
       "3325  0.964351"
      ]
     },
     "execution_count": 90,
     "metadata": {},
     "output_type": "execute_result"
    }
   ],
   "source": [
    "# Converting y_pred to a dataframe which is an array\n",
    "y_pred_1 = pd.DataFrame(y_test_pred)\n",
    "y_pred_1.head()"
   ]
  },
  {
   "cell_type": "code",
   "execution_count": 91,
   "id": "9a5173c3",
   "metadata": {},
   "outputs": [],
   "source": [
    "# Converting y_test to dataframe\n",
    "y_test_df = pd.DataFrame(y_test)"
   ]
  },
  {
   "cell_type": "code",
   "execution_count": 92,
   "id": "07be9e58",
   "metadata": {},
   "outputs": [],
   "source": [
    "# Removing index for both dataframes to append them side by side \n",
    "y_pred_1.reset_index(drop=True, inplace=True)\n",
    "y_test_df.reset_index(drop=True, inplace=True)"
   ]
  },
  {
   "cell_type": "code",
   "execution_count": 93,
   "id": "05a437f7",
   "metadata": {},
   "outputs": [
    {
     "data": {
      "text/html": [
       "<div>\n",
       "<style scoped>\n",
       "    .dataframe tbody tr th:only-of-type {\n",
       "        vertical-align: middle;\n",
       "    }\n",
       "\n",
       "    .dataframe tbody tr th {\n",
       "        vertical-align: top;\n",
       "    }\n",
       "\n",
       "    .dataframe thead th {\n",
       "        text-align: right;\n",
       "    }\n",
       "</style>\n",
       "<table border=\"1\" class=\"dataframe\">\n",
       "  <thead>\n",
       "    <tr style=\"text-align: right;\">\n",
       "      <th></th>\n",
       "      <th>Converted</th>\n",
       "      <th>0</th>\n",
       "    </tr>\n",
       "  </thead>\n",
       "  <tbody>\n",
       "    <tr>\n",
       "      <th>0</th>\n",
       "      <td>0</td>\n",
       "      <td>0.206905</td>\n",
       "    </tr>\n",
       "    <tr>\n",
       "      <th>1</th>\n",
       "      <td>1</td>\n",
       "      <td>0.093498</td>\n",
       "    </tr>\n",
       "    <tr>\n",
       "      <th>2</th>\n",
       "      <td>0</td>\n",
       "      <td>0.517916</td>\n",
       "    </tr>\n",
       "    <tr>\n",
       "      <th>3</th>\n",
       "      <td>1</td>\n",
       "      <td>0.508179</td>\n",
       "    </tr>\n",
       "    <tr>\n",
       "      <th>4</th>\n",
       "      <td>1</td>\n",
       "      <td>0.964351</td>\n",
       "    </tr>\n",
       "  </tbody>\n",
       "</table>\n",
       "</div>"
      ],
      "text/plain": [
       "   Converted         0\n",
       "0          0  0.206905\n",
       "1          1  0.093498\n",
       "2          0  0.517916\n",
       "3          1  0.508179\n",
       "4          1  0.964351"
      ]
     },
     "execution_count": 93,
     "metadata": {},
     "output_type": "execute_result"
    }
   ],
   "source": [
    "# Appending y_test_df and y_pred_1\n",
    "y_pred_final = pd.concat([y_test_df, y_pred_1],axis=1)\n",
    "y_pred_final.head()"
   ]
  },
  {
   "cell_type": "code",
   "execution_count": 94,
   "id": "97e419cf",
   "metadata": {},
   "outputs": [
    {
     "data": {
      "text/html": [
       "<div>\n",
       "<style scoped>\n",
       "    .dataframe tbody tr th:only-of-type {\n",
       "        vertical-align: middle;\n",
       "    }\n",
       "\n",
       "    .dataframe tbody tr th {\n",
       "        vertical-align: top;\n",
       "    }\n",
       "\n",
       "    .dataframe thead th {\n",
       "        text-align: right;\n",
       "    }\n",
       "</style>\n",
       "<table border=\"1\" class=\"dataframe\">\n",
       "  <thead>\n",
       "    <tr style=\"text-align: right;\">\n",
       "      <th></th>\n",
       "      <th>Converted</th>\n",
       "      <th>Conversion_Prob</th>\n",
       "    </tr>\n",
       "  </thead>\n",
       "  <tbody>\n",
       "    <tr>\n",
       "      <th>0</th>\n",
       "      <td>0</td>\n",
       "      <td>0.206905</td>\n",
       "    </tr>\n",
       "    <tr>\n",
       "      <th>1</th>\n",
       "      <td>1</td>\n",
       "      <td>0.093498</td>\n",
       "    </tr>\n",
       "    <tr>\n",
       "      <th>2</th>\n",
       "      <td>0</td>\n",
       "      <td>0.517916</td>\n",
       "    </tr>\n",
       "    <tr>\n",
       "      <th>3</th>\n",
       "      <td>1</td>\n",
       "      <td>0.508179</td>\n",
       "    </tr>\n",
       "    <tr>\n",
       "      <th>4</th>\n",
       "      <td>1</td>\n",
       "      <td>0.964351</td>\n",
       "    </tr>\n",
       "  </tbody>\n",
       "</table>\n",
       "</div>"
      ],
      "text/plain": [
       "   Converted  Conversion_Prob\n",
       "0          0         0.206905\n",
       "1          1         0.093498\n",
       "2          0         0.517916\n",
       "3          1         0.508179\n",
       "4          1         0.964351"
      ]
     },
     "execution_count": 94,
     "metadata": {},
     "output_type": "execute_result"
    }
   ],
   "source": [
    "# Rename the column \n",
    "y_pred_final= y_pred_final.rename(columns = {0 : 'Conversion_Prob'})\n",
    "y_pred_final.head()"
   ]
  },
  {
   "cell_type": "code",
   "execution_count": 95,
   "id": "2bfa30ce",
   "metadata": {},
   "outputs": [
    {
     "data": {
      "text/html": [
       "<div>\n",
       "<style scoped>\n",
       "    .dataframe tbody tr th:only-of-type {\n",
       "        vertical-align: middle;\n",
       "    }\n",
       "\n",
       "    .dataframe tbody tr th {\n",
       "        vertical-align: top;\n",
       "    }\n",
       "\n",
       "    .dataframe thead th {\n",
       "        text-align: right;\n",
       "    }\n",
       "</style>\n",
       "<table border=\"1\" class=\"dataframe\">\n",
       "  <thead>\n",
       "    <tr style=\"text-align: right;\">\n",
       "      <th></th>\n",
       "      <th>Converted</th>\n",
       "      <th>Conversion_Prob</th>\n",
       "      <th>final_predicted</th>\n",
       "    </tr>\n",
       "  </thead>\n",
       "  <tbody>\n",
       "    <tr>\n",
       "      <th>0</th>\n",
       "      <td>0</td>\n",
       "      <td>0.206905</td>\n",
       "      <td>0</td>\n",
       "    </tr>\n",
       "    <tr>\n",
       "      <th>1</th>\n",
       "      <td>1</td>\n",
       "      <td>0.093498</td>\n",
       "      <td>0</td>\n",
       "    </tr>\n",
       "    <tr>\n",
       "      <th>2</th>\n",
       "      <td>0</td>\n",
       "      <td>0.517916</td>\n",
       "      <td>1</td>\n",
       "    </tr>\n",
       "    <tr>\n",
       "      <th>3</th>\n",
       "      <td>1</td>\n",
       "      <td>0.508179</td>\n",
       "      <td>1</td>\n",
       "    </tr>\n",
       "    <tr>\n",
       "      <th>4</th>\n",
       "      <td>1</td>\n",
       "      <td>0.964351</td>\n",
       "      <td>1</td>\n",
       "    </tr>\n",
       "  </tbody>\n",
       "</table>\n",
       "</div>"
      ],
      "text/plain": [
       "   Converted  Conversion_Prob  final_predicted\n",
       "0          0         0.206905                0\n",
       "1          1         0.093498                0\n",
       "2          0         0.517916                1\n",
       "3          1         0.508179                1\n",
       "4          1         0.964351                1"
      ]
     },
     "execution_count": 95,
     "metadata": {},
     "output_type": "execute_result"
    }
   ],
   "source": [
    "# Make predictions on the test set using 0.43 as the cutoff\n",
    "y_pred_final['final_predicted'] = y_pred_final.Conversion_Prob.map(lambda x: 1 if x > 0.43 else 0)\n",
    "y_pred_final.head()"
   ]
  },
  {
   "cell_type": "code",
   "execution_count": 96,
   "id": "f3c0f5d0",
   "metadata": {},
   "outputs": [
    {
     "data": {
      "text/plain": [
       "0.7858672376873662"
      ]
     },
     "execution_count": 96,
     "metadata": {},
     "output_type": "execute_result"
    }
   ],
   "source": [
    "# Check the overall accuracy\n",
    "metrics.accuracy_score(y_pred_final['Converted'], y_pred_final.final_predicted)"
   ]
  },
  {
   "cell_type": "code",
   "execution_count": 97,
   "id": "1399eaa6",
   "metadata": {},
   "outputs": [
    {
     "data": {
      "text/plain": [
       "array([[780, 207],\n",
       "       [193, 688]], dtype=int64)"
      ]
     },
     "execution_count": 97,
     "metadata": {},
     "output_type": "execute_result"
    }
   ],
   "source": [
    "# Confusion matrix\n",
    "confusion2 = metrics.confusion_matrix(y_pred_final['Converted'], y_pred_final.final_predicted )\n",
    "confusion2"
   ]
  },
  {
   "cell_type": "code",
   "execution_count": 98,
   "id": "9ebb5b12",
   "metadata": {},
   "outputs": [],
   "source": [
    "TP = confusion2[1,1] # true positive \n",
    "TN = confusion2[0,0] # true negatives\n",
    "FP = confusion2[0,1] # false positives\n",
    "FN = confusion2[1,0] # false negatives"
   ]
  },
  {
   "cell_type": "code",
   "execution_count": 99,
   "id": "99b728ca",
   "metadata": {},
   "outputs": [
    {
     "data": {
      "text/plain": [
       "0.7809307604994324"
      ]
     },
     "execution_count": 99,
     "metadata": {},
     "output_type": "execute_result"
    }
   ],
   "source": [
    "# Calculate sensitivity\n",
    "TP / float(TP+FN)"
   ]
  },
  {
   "cell_type": "code",
   "execution_count": 100,
   "id": "a46bb718",
   "metadata": {},
   "outputs": [
    {
     "data": {
      "text/plain": [
       "0.790273556231003"
      ]
     },
     "execution_count": 100,
     "metadata": {},
     "output_type": "execute_result"
    }
   ],
   "source": [
    "# Calculate specificity\n",
    "TN / float(TN+FP)"
   ]
  }
 ],
 "metadata": {
  "kernelspec": {
   "display_name": "Python 3 (ipykernel)",
   "language": "python",
   "name": "python3"
  },
  "language_info": {
   "codemirror_mode": {
    "name": "ipython",
    "version": 3
   },
   "file_extension": ".py",
   "mimetype": "text/x-python",
   "name": "python",
   "nbconvert_exporter": "python",
   "pygments_lexer": "ipython3",
   "version": "3.8.12"
  }
 },
 "nbformat": 4,
 "nbformat_minor": 5
}
